{
 "cells": [
  {
   "cell_type": "code",
   "execution_count": 1,
   "metadata": {},
   "outputs": [],
   "source": [
    "import pandas as pd"
   ]
  },
  {
   "cell_type": "code",
   "execution_count": 2,
   "metadata": {},
   "outputs": [],
   "source": [
    "df_investing_therory = pd.read_csv(\"../../data/final-data-processed/FFinal_filtered_cleaned_investing_theory.csv\")\n",
    "df_quora = pd.read_csv(\"../../data/final-data-processed/Preprocessed_Text_KG_Quora.csv\")\n",
    "df_myfico = pd.read_csv(\"../../data/final-data-processed/myfico_processed.csv\")\n",
    "df_personal_finance = pd.read_csv(\"../../data/final-data-processed/pre-processed_personal_finance_forum.csv\")"
   ]
  },
  {
   "cell_type": "code",
   "execution_count": 3,
   "metadata": {},
   "outputs": [
    {
     "data": {
      "text/html": [
       "<div>\n",
       "<style scoped>\n",
       "    .dataframe tbody tr th:only-of-type {\n",
       "        vertical-align: middle;\n",
       "    }\n",
       "\n",
       "    .dataframe tbody tr th {\n",
       "        vertical-align: top;\n",
       "    }\n",
       "\n",
       "    .dataframe thead th {\n",
       "        text-align: right;\n",
       "    }\n",
       "</style>\n",
       "<table border=\"1\" class=\"dataframe\">\n",
       "  <thead>\n",
       "    <tr style=\"text-align: right;\">\n",
       "      <th></th>\n",
       "      <th>Question</th>\n",
       "      <th>Answer</th>\n",
       "    </tr>\n",
       "  </thead>\n",
       "  <tbody>\n",
       "    <tr>\n",
       "      <th>0</th>\n",
       "      <td>dr bernstein well annuitize portfolio tips ibo...</td>\n",
       "      <td>thank example question certain thing get try r...</td>\n",
       "    </tr>\n",
       "    <tr>\n",
       "      <th>1</th>\n",
       "      <td>accord size us equity market trillion accord m...</td>\n",
       "      <td>gaston think mistake bet one small corner stoc...</td>\n",
       "    </tr>\n",
       "    <tr>\n",
       "      <th>2</th>\n",
       "      <td>admit fall deep rabbit hole regard portfolio r...</td>\n",
       "      <td>take hopefully cover question along way start ...</td>\n",
       "    </tr>\n",
       "    <tr>\n",
       "      <th>3</th>\n",
       "      <td>seem lot expert recommend invest gold lately e...</td>\n",
       "      <td>yesterday got trigger old subject gold vs stoc...</td>\n",
       "    </tr>\n",
       "    <tr>\n",
       "      <th>4</th>\n",
       "      <td>dr bernstein well annuitize portfolio tips ibo...</td>\n",
       "      <td>paste excel uploading image also explain metho...</td>\n",
       "    </tr>\n",
       "    <tr>\n",
       "      <th>5</th>\n",
       "      <td>hi bogleheads question widetheoretical certain...</td>\n",
       "      <td>quote fix admin ladygeek good close guess rest...</td>\n",
       "    </tr>\n",
       "    <tr>\n",
       "      <th>6</th>\n",
       "      <td>understand currently available ibonds fix rate...</td>\n",
       "      <td>yes depend inflation rate final six month five...</td>\n",
       "    </tr>\n",
       "    <tr>\n",
       "      <th>7</th>\n",
       "      <td>sjepipdf know reach yield wrong fund indexer c...</td>\n",
       "      <td>first post post hope hopefully get clarity key...</td>\n",
       "    </tr>\n",
       "    <tr>\n",
       "      <th>8</th>\n",
       "      <td>anyone notice gold price flat ytd despite cras...</td>\n",
       "      <td>paper cash fact subject wild swing inflationad...</td>\n",
       "    </tr>\n",
       "    <tr>\n",
       "      <th>9</th>\n",
       "      <td>last year brutal anyone follow stay course man...</td>\n",
       "      <td>leave hindsight bias hindsight bias psychologi...</td>\n",
       "    </tr>\n",
       "  </tbody>\n",
       "</table>\n",
       "</div>"
      ],
      "text/plain": [
       "                                            Question  \\\n",
       "0  dr bernstein well annuitize portfolio tips ibo...   \n",
       "1  accord size us equity market trillion accord m...   \n",
       "2  admit fall deep rabbit hole regard portfolio r...   \n",
       "3  seem lot expert recommend invest gold lately e...   \n",
       "4  dr bernstein well annuitize portfolio tips ibo...   \n",
       "5  hi bogleheads question widetheoretical certain...   \n",
       "6  understand currently available ibonds fix rate...   \n",
       "7  sjepipdf know reach yield wrong fund indexer c...   \n",
       "8  anyone notice gold price flat ytd despite cras...   \n",
       "9  last year brutal anyone follow stay course man...   \n",
       "\n",
       "                                              Answer  \n",
       "0  thank example question certain thing get try r...  \n",
       "1  gaston think mistake bet one small corner stoc...  \n",
       "2  take hopefully cover question along way start ...  \n",
       "3  yesterday got trigger old subject gold vs stoc...  \n",
       "4  paste excel uploading image also explain metho...  \n",
       "5  quote fix admin ladygeek good close guess rest...  \n",
       "6  yes depend inflation rate final six month five...  \n",
       "7  first post post hope hopefully get clarity key...  \n",
       "8  paper cash fact subject wild swing inflationad...  \n",
       "9  leave hindsight bias hindsight bias psychologi...  "
      ]
     },
     "execution_count": 3,
     "metadata": {},
     "output_type": "execute_result"
    }
   ],
   "source": [
    "df_investing_therory.head(10)"
   ]
  },
  {
   "cell_type": "code",
   "execution_count": 4,
   "metadata": {},
   "outputs": [
    {
     "data": {
      "text/plain": [
       "(7500, 2)"
      ]
     },
     "execution_count": 4,
     "metadata": {},
     "output_type": "execute_result"
    }
   ],
   "source": [
    "df_investing_therory.shape"
   ]
  },
  {
   "cell_type": "code",
   "execution_count": 5,
   "metadata": {},
   "outputs": [
    {
     "data": {
      "text/html": [
       "<div>\n",
       "<style scoped>\n",
       "    .dataframe tbody tr th:only-of-type {\n",
       "        vertical-align: middle;\n",
       "    }\n",
       "\n",
       "    .dataframe tbody tr th {\n",
       "        vertical-align: top;\n",
       "    }\n",
       "\n",
       "    .dataframe thead th {\n",
       "        text-align: right;\n",
       "    }\n",
       "</style>\n",
       "<table border=\"1\" class=\"dataframe\">\n",
       "  <thead>\n",
       "    <tr style=\"text-align: right;\">\n",
       "      <th></th>\n",
       "      <th>Unnamed: 0</th>\n",
       "      <th>Question_Processed</th>\n",
       "      <th>Answer_Processed</th>\n",
       "    </tr>\n",
       "  </thead>\n",
       "  <tbody>\n",
       "    <tr>\n",
       "      <th>0</th>\n",
       "      <td>0</td>\n",
       "      <td>good way save money</td>\n",
       "      <td>use credit card buy item want money spend lac ...</td>\n",
       "    </tr>\n",
       "    <tr>\n",
       "      <th>1</th>\n",
       "      <td>1</td>\n",
       "      <td>good way tip save money</td>\n",
       "      <td>first … most people monthly income pay bill wh...</td>\n",
       "    </tr>\n",
       "    <tr>\n",
       "      <th>2</th>\n",
       "      <td>2</td>\n",
       "      <td>good way trick save money</td>\n",
       "      <td>keep fund one bank spend salary deduct amount ...</td>\n",
       "    </tr>\n",
       "    <tr>\n",
       "      <th>3</th>\n",
       "      <td>3</td>\n",
       "      <td>affluent people really eat well people poor</td>\n",
       "      <td>never forget remember like yesterday starve co...</td>\n",
       "    </tr>\n",
       "    <tr>\n",
       "      <th>4</th>\n",
       "      <td>4</td>\n",
       "      <td>worth buy lamborghini fancy status symbol</td>\n",
       "      <td>someone own lamborghini tell unequivocally wor...</td>\n",
       "    </tr>\n",
       "    <tr>\n",
       "      <th>5</th>\n",
       "      <td>5</td>\n",
       "      <td>important knowledge money</td>\n",
       "      <td>mike tyson earn million per fight peak career ...</td>\n",
       "    </tr>\n",
       "    <tr>\n",
       "      <th>6</th>\n",
       "      <td>6</td>\n",
       "      <td>thing money can not buy poor people may enjoy ...</td>\n",
       "      <td>know anyone truly poor wife come we family com...</td>\n",
       "    </tr>\n",
       "    <tr>\n",
       "      <th>7</th>\n",
       "      <td>7</td>\n",
       "      <td>people buy house cheap area drive hour work worth</td>\n",
       "      <td>7k square foot house middle nowhere ten mile n...</td>\n",
       "    </tr>\n",
       "    <tr>\n",
       "      <th>8</th>\n",
       "      <td>8</td>\n",
       "      <td>simple mistake people ruin wealth</td>\n",
       "      <td>serious problem truly know go friend say last ...</td>\n",
       "    </tr>\n",
       "    <tr>\n",
       "      <th>9</th>\n",
       "      <td>9</td>\n",
       "      <td>poor low class people moment realise affluent ...</td>\n",
       "      <td>learn poor second grade learn emergency electr...</td>\n",
       "    </tr>\n",
       "  </tbody>\n",
       "</table>\n",
       "</div>"
      ],
      "text/plain": [
       "   Unnamed: 0                                 Question_Processed  \\\n",
       "0           0                                good way save money   \n",
       "1           1                            good way tip save money   \n",
       "2           2                          good way trick save money   \n",
       "3           3        affluent people really eat well people poor   \n",
       "4           4          worth buy lamborghini fancy status symbol   \n",
       "5           5                          important knowledge money   \n",
       "6           6  thing money can not buy poor people may enjoy ...   \n",
       "7           7  people buy house cheap area drive hour work worth   \n",
       "8           8                  simple mistake people ruin wealth   \n",
       "9           9  poor low class people moment realise affluent ...   \n",
       "\n",
       "                                    Answer_Processed  \n",
       "0  use credit card buy item want money spend lac ...  \n",
       "1  first … most people monthly income pay bill wh...  \n",
       "2  keep fund one bank spend salary deduct amount ...  \n",
       "3  never forget remember like yesterday starve co...  \n",
       "4  someone own lamborghini tell unequivocally wor...  \n",
       "5  mike tyson earn million per fight peak career ...  \n",
       "6  know anyone truly poor wife come we family com...  \n",
       "7  7k square foot house middle nowhere ten mile n...  \n",
       "8  serious problem truly know go friend say last ...  \n",
       "9  learn poor second grade learn emergency electr...  "
      ]
     },
     "execution_count": 5,
     "metadata": {},
     "output_type": "execute_result"
    }
   ],
   "source": [
    "df_quora.head(10)"
   ]
  },
  {
   "cell_type": "code",
   "execution_count": 6,
   "metadata": {},
   "outputs": [
    {
     "data": {
      "text/plain": [
       "(155, 3)"
      ]
     },
     "execution_count": 6,
     "metadata": {},
     "output_type": "execute_result"
    }
   ],
   "source": [
    "df_quora.shape"
   ]
  },
  {
   "cell_type": "code",
   "execution_count": 3,
   "metadata": {},
   "outputs": [
    {
     "data": {
      "text/html": [
       "<div>\n",
       "<style scoped>\n",
       "    .dataframe tbody tr th:only-of-type {\n",
       "        vertical-align: middle;\n",
       "    }\n",
       "\n",
       "    .dataframe tbody tr th {\n",
       "        vertical-align: top;\n",
       "    }\n",
       "\n",
       "    .dataframe thead th {\n",
       "        text-align: right;\n",
       "    }\n",
       "</style>\n",
       "<table border=\"1\" class=\"dataframe\">\n",
       "  <thead>\n",
       "    <tr style=\"text-align: right;\">\n",
       "      <th></th>\n",
       "      <th>Unnamed: 0</th>\n",
       "      <th>question</th>\n",
       "      <th>answer</th>\n",
       "    </tr>\n",
       "  </thead>\n",
       "  <tbody>\n",
       "    <tr>\n",
       "      <th>0</th>\n",
       "      <td>0</td>\n",
       "      <td>august major derog unpaid collection unpaid ch...</td>\n",
       "      <td>advice would be1 first look specialized credit...</td>\n",
       "    </tr>\n",
       "    <tr>\n",
       "      <th>1</th>\n",
       "      <td>1</td>\n",
       "      <td>good strategy pick bank high yield saving acco...</td>\n",
       "      <td>depend liquid need could also consider cd us a...</td>\n",
       "    </tr>\n",
       "    <tr>\n",
       "      <th>2</th>\n",
       "      <td>2</td>\n",
       "      <td>hello greeting everyone glad want thank time a...</td>\n",
       "      <td>right first think op say expense cover retiree...</td>\n",
       "    </tr>\n",
       "    <tr>\n",
       "      <th>3</th>\n",
       "      <td>3</td>\n",
       "      <td>hey everyone sofi checkingsavings like conside...</td>\n",
       "      <td>use seem fine far primary bank would never wan...</td>\n",
       "    </tr>\n",
       "    <tr>\n",
       "      <th>4</th>\n",
       "      <td>4</td>\n",
       "      <td>cu offer special interest dividend earn checki...</td>\n",
       "      <td>agree consider type account worthless use debi...</td>\n",
       "    </tr>\n",
       "    <tr>\n",
       "      <th>5</th>\n",
       "      <td>5</td>\n",
       "      <td>hello look advice assist wife build credit bec...</td>\n",
       "      <td>simple put savings account take share secure l...</td>\n",
       "    </tr>\n",
       "    <tr>\n",
       "      <th>6</th>\n",
       "      <td>6</td>\n",
       "      <td>hi folk buy home unfinished work seller suppos...</td>\n",
       "      <td>think take one personal loan preferably nfcu g...</td>\n",
       "    </tr>\n",
       "    <tr>\n",
       "      <th>7</th>\n",
       "      <td>7</td>\n",
       "      <td>hey everyone point onerecently open brand new ...</td>\n",
       "      <td>many dollar lose strive little yield use debit...</td>\n",
       "    </tr>\n",
       "    <tr>\n",
       "      <th>8</th>\n",
       "      <td>8</td>\n",
       "      <td>ever happen anyone got notification myfico one...</td>\n",
       "      <td>bummer ought reinstate personal line credit un...</td>\n",
       "    </tr>\n",
       "    <tr>\n",
       "      <th>9</th>\n",
       "      <td>9</td>\n",
       "      <td>hi never apply get personal loan check penfed ...</td>\n",
       "      <td>do get overall utilization individual account ...</td>\n",
       "    </tr>\n",
       "  </tbody>\n",
       "</table>\n",
       "</div>"
      ],
      "text/plain": [
       "   Unnamed: 0                                         question    \\\n",
       "0           0  august major derog unpaid collection unpaid ch...   \n",
       "1           1  good strategy pick bank high yield saving acco...   \n",
       "2           2  hello greeting everyone glad want thank time a...   \n",
       "3           3  hey everyone sofi checkingsavings like conside...   \n",
       "4           4  cu offer special interest dividend earn checki...   \n",
       "5           5  hello look advice assist wife build credit bec...   \n",
       "6           6  hi folk buy home unfinished work seller suppos...   \n",
       "7           7  hey everyone point onerecently open brand new ...   \n",
       "8           8  ever happen anyone got notification myfico one...   \n",
       "9           9  hi never apply get personal loan check penfed ...   \n",
       "\n",
       "                                            answer    \n",
       "0  advice would be1 first look specialized credit...  \n",
       "1  depend liquid need could also consider cd us a...  \n",
       "2  right first think op say expense cover retiree...  \n",
       "3  use seem fine far primary bank would never wan...  \n",
       "4  agree consider type account worthless use debi...  \n",
       "5  simple put savings account take share secure l...  \n",
       "6  think take one personal loan preferably nfcu g...  \n",
       "7  many dollar lose strive little yield use debit...  \n",
       "8  bummer ought reinstate personal line credit un...  \n",
       "9  do get overall utilization individual account ...  "
      ]
     },
     "execution_count": 3,
     "metadata": {},
     "output_type": "execute_result"
    }
   ],
   "source": [
    "df_myfico.head(10)"
   ]
  },
  {
   "cell_type": "code",
   "execution_count": 4,
   "metadata": {},
   "outputs": [
    {
     "data": {
      "text/plain": [
       "(150, 3)"
      ]
     },
     "execution_count": 4,
     "metadata": {},
     "output_type": "execute_result"
    }
   ],
   "source": [
    "df_myfico.shape"
   ]
  },
  {
   "cell_type": "code",
   "execution_count": 11,
   "metadata": {},
   "outputs": [
    {
     "data": {
      "text/plain": [
       "Index(['question  ', 'answer  '], dtype='object')"
      ]
     },
     "execution_count": 11,
     "metadata": {},
     "output_type": "execute_result"
    }
   ],
   "source": [
    "df_myfico.columns"
   ]
  },
  {
   "cell_type": "code",
   "execution_count": 9,
   "metadata": {},
   "outputs": [
    {
     "data": {
      "text/html": [
       "<div>\n",
       "<style scoped>\n",
       "    .dataframe tbody tr th:only-of-type {\n",
       "        vertical-align: middle;\n",
       "    }\n",
       "\n",
       "    .dataframe tbody tr th {\n",
       "        vertical-align: top;\n",
       "    }\n",
       "\n",
       "    .dataframe thead th {\n",
       "        text-align: right;\n",
       "    }\n",
       "</style>\n",
       "<table border=\"1\" class=\"dataframe\">\n",
       "  <thead>\n",
       "    <tr style=\"text-align: right;\">\n",
       "      <th></th>\n",
       "      <th>Unnamed: 0</th>\n",
       "      <th>lemmatized-post_text</th>\n",
       "      <th>lemmatized_reply_text</th>\n",
       "    </tr>\n",
       "  </thead>\n",
       "  <tbody>\n",
       "    <tr>\n",
       "      <th>0</th>\n",
       "      <td>69405</td>\n",
       "      <td>ok start question detail sense higherincome ea...</td>\n",
       "      <td>wow huge response appreciate sure quote youper...</td>\n",
       "    </tr>\n",
       "    <tr>\n",
       "      <th>1</th>\n",
       "      <td>8138</td>\n",
       "      <td>current tech company year currently bored tear...</td>\n",
       "      <td>think vhcol hcol parse word impressive ask lis...</td>\n",
       "    </tr>\n",
       "    <tr>\n",
       "      <th>2</th>\n",
       "      <td>75876</td>\n",
       "      <td>nightmare maybe wring bug use voip phone want ...</td>\n",
       "      <td>paste vanguard fund available mfw chance want ...</td>\n",
       "    </tr>\n",
       "    <tr>\n",
       "      <th>3</th>\n",
       "      <td>133733</td>\n",
       "      <td>hi see similar post like feel like go midlife ...</td>\n",
       "      <td>disclaimer come perspective yearold limited ex...</td>\n",
       "    </tr>\n",
       "    <tr>\n",
       "      <th>4</th>\n",
       "      <td>65959</td>\n",
       "      <td>get benefit information new job chicago public...</td>\n",
       "      <td>prescription drug expensive doctor time year m...</td>\n",
       "    </tr>\n",
       "    <tr>\n",
       "      <th>5</th>\n",
       "      <td>65835</td>\n",
       "      <td>know normal work hour hour week hour people wo...</td>\n",
       "      <td>apologize advance long post recognize lot op s...</td>\n",
       "    </tr>\n",
       "    <tr>\n",
       "      <th>6</th>\n",
       "      <td>69394</td>\n",
       "      <td>ok start question detail sense higherincome ea...</td>\n",
       "      <td>welcome forum want expand area let start reali...</td>\n",
       "    </tr>\n",
       "    <tr>\n",
       "      <th>7</th>\n",
       "      <td>7437</td>\n",
       "      <td>story historically live van net worth currentl...</td>\n",
       "      <td>market recovery market recover worry recover m...</td>\n",
       "    </tr>\n",
       "    <tr>\n",
       "      <th>8</th>\n",
       "      <td>7454</td>\n",
       "      <td>story historically live van net worth currentl...</td>\n",
       "      <td>ski resort job sound like fun friend family di...</td>\n",
       "    </tr>\n",
       "    <tr>\n",
       "      <th>9</th>\n",
       "      <td>129772</td>\n",
       "      <td>boglehead wiki traditional versus roth detaile...</td>\n",
       "      <td>correct record untrue major update wide partic...</td>\n",
       "    </tr>\n",
       "  </tbody>\n",
       "</table>\n",
       "</div>"
      ],
      "text/plain": [
       "   Unnamed: 0                               lemmatized-post_text  \\\n",
       "0       69405  ok start question detail sense higherincome ea...   \n",
       "1        8138  current tech company year currently bored tear...   \n",
       "2       75876  nightmare maybe wring bug use voip phone want ...   \n",
       "3      133733  hi see similar post like feel like go midlife ...   \n",
       "4       65959  get benefit information new job chicago public...   \n",
       "5       65835  know normal work hour hour week hour people wo...   \n",
       "6       69394  ok start question detail sense higherincome ea...   \n",
       "7        7437  story historically live van net worth currentl...   \n",
       "8        7454  story historically live van net worth currentl...   \n",
       "9      129772  boglehead wiki traditional versus roth detaile...   \n",
       "\n",
       "                               lemmatized_reply_text  \n",
       "0  wow huge response appreciate sure quote youper...  \n",
       "1  think vhcol hcol parse word impressive ask lis...  \n",
       "2  paste vanguard fund available mfw chance want ...  \n",
       "3  disclaimer come perspective yearold limited ex...  \n",
       "4  prescription drug expensive doctor time year m...  \n",
       "5  apologize advance long post recognize lot op s...  \n",
       "6  welcome forum want expand area let start reali...  \n",
       "7  market recovery market recover worry recover m...  \n",
       "8  ski resort job sound like fun friend family di...  \n",
       "9  correct record untrue major update wide partic...  "
      ]
     },
     "execution_count": 9,
     "metadata": {},
     "output_type": "execute_result"
    }
   ],
   "source": [
    "df_personal_finance.head(10)"
   ]
  },
  {
   "cell_type": "code",
   "execution_count": 10,
   "metadata": {},
   "outputs": [
    {
     "data": {
      "text/plain": [
       "(500, 3)"
      ]
     },
     "execution_count": 10,
     "metadata": {},
     "output_type": "execute_result"
    }
   ],
   "source": [
    "df_personal_finance.shape"
   ]
  },
  {
   "cell_type": "code",
   "execution_count": 3,
   "metadata": {},
   "outputs": [],
   "source": [
    "df_quora = df_quora.drop(columns='Unnamed: 0')\n",
    "df_personal_finance = df_personal_finance.drop(columns='Unnamed: 0')\n",
    "df_myfico = df_myfico.drop(columns='Unnamed: 0')"
   ]
  },
  {
   "cell_type": "code",
   "execution_count": 4,
   "metadata": {},
   "outputs": [
    {
     "data": {
      "text/plain": [
       "(155, 2)"
      ]
     },
     "execution_count": 4,
     "metadata": {},
     "output_type": "execute_result"
    }
   ],
   "source": [
    "df_quora.shape"
   ]
  },
  {
   "cell_type": "code",
   "execution_count": 5,
   "metadata": {},
   "outputs": [
    {
     "data": {
      "text/plain": [
       "(500, 2)"
      ]
     },
     "execution_count": 5,
     "metadata": {},
     "output_type": "execute_result"
    }
   ],
   "source": [
    "df_personal_finance.shape"
   ]
  },
  {
   "cell_type": "code",
   "execution_count": 6,
   "metadata": {},
   "outputs": [
    {
     "data": {
      "text/plain": [
       "(150, 2)"
      ]
     },
     "execution_count": 6,
     "metadata": {},
     "output_type": "execute_result"
    }
   ],
   "source": [
    "df_myfico.shape"
   ]
  },
  {
   "cell_type": "code",
   "execution_count": 7,
   "metadata": {},
   "outputs": [],
   "source": [
    "df_myfico = df_myfico.rename(columns={'question  ':'Question','answer  ':'Answer'})"
   ]
  },
  {
   "cell_type": "code",
   "execution_count": 9,
   "metadata": {},
   "outputs": [
    {
     "data": {
      "text/html": [
       "<div>\n",
       "<style scoped>\n",
       "    .dataframe tbody tr th:only-of-type {\n",
       "        vertical-align: middle;\n",
       "    }\n",
       "\n",
       "    .dataframe tbody tr th {\n",
       "        vertical-align: top;\n",
       "    }\n",
       "\n",
       "    .dataframe thead th {\n",
       "        text-align: right;\n",
       "    }\n",
       "</style>\n",
       "<table border=\"1\" class=\"dataframe\">\n",
       "  <thead>\n",
       "    <tr style=\"text-align: right;\">\n",
       "      <th></th>\n",
       "      <th>Question</th>\n",
       "      <th>Answer</th>\n",
       "    </tr>\n",
       "  </thead>\n",
       "  <tbody>\n",
       "    <tr>\n",
       "      <th>0</th>\n",
       "      <td>august major derog unpaid collection unpaid ch...</td>\n",
       "      <td>advice would be1 first look specialized credit...</td>\n",
       "    </tr>\n",
       "  </tbody>\n",
       "</table>\n",
       "</div>"
      ],
      "text/plain": [
       "                                            Question  \\\n",
       "0  august major derog unpaid collection unpaid ch...   \n",
       "\n",
       "                                              Answer  \n",
       "0  advice would be1 first look specialized credit...  "
      ]
     },
     "execution_count": 9,
     "metadata": {},
     "output_type": "execute_result"
    }
   ],
   "source": [
    "df_myfico.head(1)"
   ]
  },
  {
   "cell_type": "code",
   "execution_count": 10,
   "metadata": {},
   "outputs": [],
   "source": [
    "df_personal_finance = df_personal_finance.rename(columns={'lemmatized-post_text':'Question','lemmatized_reply_text':'Answer'})"
   ]
  },
  {
   "cell_type": "code",
   "execution_count": 11,
   "metadata": {},
   "outputs": [],
   "source": [
    "df_quora = df_quora.rename(columns={'Question_Processed':'Question','Answer_Processed':'Answer'})"
   ]
  },
  {
   "cell_type": "code",
   "execution_count": 12,
   "metadata": {},
   "outputs": [],
   "source": [
    "processed_data_merged = pd.concat([df_quora, df_personal_finance, df_myfico, df_investing_therory])"
   ]
  },
  {
   "cell_type": "code",
   "execution_count": 13,
   "metadata": {},
   "outputs": [
    {
     "data": {
      "text/html": [
       "<div>\n",
       "<style scoped>\n",
       "    .dataframe tbody tr th:only-of-type {\n",
       "        vertical-align: middle;\n",
       "    }\n",
       "\n",
       "    .dataframe tbody tr th {\n",
       "        vertical-align: top;\n",
       "    }\n",
       "\n",
       "    .dataframe thead th {\n",
       "        text-align: right;\n",
       "    }\n",
       "</style>\n",
       "<table border=\"1\" class=\"dataframe\">\n",
       "  <thead>\n",
       "    <tr style=\"text-align: right;\">\n",
       "      <th></th>\n",
       "      <th>Question</th>\n",
       "      <th>Answer</th>\n",
       "    </tr>\n",
       "  </thead>\n",
       "  <tbody>\n",
       "    <tr>\n",
       "      <th>0</th>\n",
       "      <td>good way save money</td>\n",
       "      <td>use credit card buy item want money spend lac ...</td>\n",
       "    </tr>\n",
       "    <tr>\n",
       "      <th>1</th>\n",
       "      <td>good way tip save money</td>\n",
       "      <td>first … most people monthly income pay bill wh...</td>\n",
       "    </tr>\n",
       "    <tr>\n",
       "      <th>2</th>\n",
       "      <td>good way trick save money</td>\n",
       "      <td>keep fund one bank spend salary deduct amount ...</td>\n",
       "    </tr>\n",
       "    <tr>\n",
       "      <th>3</th>\n",
       "      <td>affluent people really eat well people poor</td>\n",
       "      <td>never forget remember like yesterday starve co...</td>\n",
       "    </tr>\n",
       "    <tr>\n",
       "      <th>4</th>\n",
       "      <td>worth buy lamborghini fancy status symbol</td>\n",
       "      <td>someone own lamborghini tell unequivocally wor...</td>\n",
       "    </tr>\n",
       "    <tr>\n",
       "      <th>5</th>\n",
       "      <td>important knowledge money</td>\n",
       "      <td>mike tyson earn million per fight peak career ...</td>\n",
       "    </tr>\n",
       "    <tr>\n",
       "      <th>6</th>\n",
       "      <td>thing money can not buy poor people may enjoy ...</td>\n",
       "      <td>know anyone truly poor wife come we family com...</td>\n",
       "    </tr>\n",
       "    <tr>\n",
       "      <th>7</th>\n",
       "      <td>people buy house cheap area drive hour work worth</td>\n",
       "      <td>7k square foot house middle nowhere ten mile n...</td>\n",
       "    </tr>\n",
       "    <tr>\n",
       "      <th>8</th>\n",
       "      <td>simple mistake people ruin wealth</td>\n",
       "      <td>serious problem truly know go friend say last ...</td>\n",
       "    </tr>\n",
       "    <tr>\n",
       "      <th>9</th>\n",
       "      <td>poor low class people moment realise affluent ...</td>\n",
       "      <td>learn poor second grade learn emergency electr...</td>\n",
       "    </tr>\n",
       "  </tbody>\n",
       "</table>\n",
       "</div>"
      ],
      "text/plain": [
       "                                            Question  \\\n",
       "0                                good way save money   \n",
       "1                            good way tip save money   \n",
       "2                          good way trick save money   \n",
       "3        affluent people really eat well people poor   \n",
       "4          worth buy lamborghini fancy status symbol   \n",
       "5                          important knowledge money   \n",
       "6  thing money can not buy poor people may enjoy ...   \n",
       "7  people buy house cheap area drive hour work worth   \n",
       "8                  simple mistake people ruin wealth   \n",
       "9  poor low class people moment realise affluent ...   \n",
       "\n",
       "                                              Answer  \n",
       "0  use credit card buy item want money spend lac ...  \n",
       "1  first … most people monthly income pay bill wh...  \n",
       "2  keep fund one bank spend salary deduct amount ...  \n",
       "3  never forget remember like yesterday starve co...  \n",
       "4  someone own lamborghini tell unequivocally wor...  \n",
       "5  mike tyson earn million per fight peak career ...  \n",
       "6  know anyone truly poor wife come we family com...  \n",
       "7  7k square foot house middle nowhere ten mile n...  \n",
       "8  serious problem truly know go friend say last ...  \n",
       "9  learn poor second grade learn emergency electr...  "
      ]
     },
     "execution_count": 13,
     "metadata": {},
     "output_type": "execute_result"
    }
   ],
   "source": [
    "processed_data_merged.head(10)"
   ]
  },
  {
   "cell_type": "code",
   "execution_count": 15,
   "metadata": {},
   "outputs": [
    {
     "data": {
      "text/plain": [
       "(8305, 2)"
      ]
     },
     "execution_count": 15,
     "metadata": {},
     "output_type": "execute_result"
    }
   ],
   "source": [
    "processed_data_merged.shape"
   ]
  },
  {
   "cell_type": "code",
   "execution_count": 16,
   "metadata": {},
   "outputs": [],
   "source": [
    "processed_data_merged.to_csv('../../data/final-data-processed/processed_data_merged.csv')"
   ]
  }
 ],
 "metadata": {
  "kernelspec": {
   "display_name": "thomas",
   "language": "python",
   "name": "python3"
  },
  "language_info": {
   "codemirror_mode": {
    "name": "ipython",
    "version": 3
   },
   "file_extension": ".py",
   "mimetype": "text/x-python",
   "name": "python",
   "nbconvert_exporter": "python",
   "pygments_lexer": "ipython3",
   "version": "3.10.6"
  },
  "orig_nbformat": 4,
  "vscode": {
   "interpreter": {
    "hash": "457a16c2b4d0b04e17a5631921816ec43d08a62ddd9a581737408d1448d0a218"
   }
  }
 },
 "nbformat": 4,
 "nbformat_minor": 2
}
