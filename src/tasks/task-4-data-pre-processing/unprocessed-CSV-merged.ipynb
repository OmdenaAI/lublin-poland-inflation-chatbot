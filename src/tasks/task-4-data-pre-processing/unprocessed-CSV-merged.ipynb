{
 "cells": [
  {
   "cell_type": "code",
   "execution_count": 1,
   "metadata": {},
   "outputs": [],
   "source": [
    "import pandas as pd"
   ]
  },
  {
   "cell_type": "code",
   "execution_count": 26,
   "metadata": {},
   "outputs": [],
   "source": [
    "df_investing_therory = pd.read_csv(\"../../data/final-data-unprocessed/FFinal_filtered_investing_theory.csv\")\n",
    "df_quora = pd.read_csv(\"../../data/final-data-unprocessed/Unprocessed_Text_KG_Quora.csv\")\n",
    "df_myfico = pd.read_csv(\"../../data/final-data-unprocessed/myfico_unprocessed.csv\")\n",
    "df_personal_finance = pd.read_csv(\"../../data/final-data-unprocessed/unprocessed_personal_financeForum.csv\")"
   ]
  },
  {
   "cell_type": "code",
   "execution_count": 14,
   "metadata": {},
   "outputs": [
    {
     "data": {
      "text/html": [
       "<div>\n",
       "<style scoped>\n",
       "    .dataframe tbody tr th:only-of-type {\n",
       "        vertical-align: middle;\n",
       "    }\n",
       "\n",
       "    .dataframe tbody tr th {\n",
       "        vertical-align: top;\n",
       "    }\n",
       "\n",
       "    .dataframe thead th {\n",
       "        text-align: right;\n",
       "    }\n",
       "</style>\n",
       "<table border=\"1\" class=\"dataframe\">\n",
       "  <thead>\n",
       "    <tr style=\"text-align: right;\">\n",
       "      <th></th>\n",
       "      <th>Question</th>\n",
       "      <th>Answer</th>\n",
       "    </tr>\n",
       "  </thead>\n",
       "  <tbody>\n",
       "    <tr>\n",
       "      <th>0</th>\n",
       "      <td>Dr. Bernstein: You are better off \"annuitizing...</td>\n",
       "      <td>Thanks for this example. I do have some questi...</td>\n",
       "    </tr>\n",
       "    <tr>\n",
       "      <th>1</th>\n",
       "      <td>According to https://siblisresearch.com/data/u...</td>\n",
       "      <td>Gaston:  I think it is a mistake to bet that o...</td>\n",
       "    </tr>\n",
       "    <tr>\n",
       "      <th>2</th>\n",
       "      <td>I admit I've fallen into a deep rabbit hole re...</td>\n",
       "      <td>Here's my take on this.  Hopefully it covers a...</td>\n",
       "    </tr>\n",
       "    <tr>\n",
       "      <th>3</th>\n",
       "      <td>There seem to be a lot of \"experts\" recommendi...</td>\n",
       "      <td>Yesterday I got triggered by this same old sub...</td>\n",
       "    </tr>\n",
       "    <tr>\n",
       "      <th>4</th>\n",
       "      <td>Dr. Bernstein: You are better off \"annuitizing...</td>\n",
       "      <td>I'll do what I can, but pasting from excel and...</td>\n",
       "    </tr>\n",
       "    <tr>\n",
       "      <th>5</th>\n",
       "      <td>Hi Bogleheads,  As this question is wide/theor...</td>\n",
       "      <td>[ quote fixed by admin LadyGeek]  A very good ...</td>\n",
       "    </tr>\n",
       "    <tr>\n",
       "      <th>6</th>\n",
       "      <td>My understanding of currently available I-Bond...</td>\n",
       "      <td>Yes, it all depends on the inflation rate in t...</td>\n",
       "    </tr>\n",
       "    <tr>\n",
       "      <th>7</th>\n",
       "      <td>https://am.jpmorgan.com/content/dam/jpm ... S-...</td>\n",
       "      <td>This is my first posting. I am posting with th...</td>\n",
       "    </tr>\n",
       "    <tr>\n",
       "      <th>8</th>\n",
       "      <td>Does anyone notice that Gold price has been fl...</td>\n",
       "      <td>Paper cash is in fact not subject to the same ...</td>\n",
       "    </tr>\n",
       "    <tr>\n",
       "      <th>9</th>\n",
       "      <td>The last year has been brutal for anyone follo...</td>\n",
       "      <td>I'll just leave this here:  What Is Hindsight ...</td>\n",
       "    </tr>\n",
       "  </tbody>\n",
       "</table>\n",
       "</div>"
      ],
      "text/plain": [
       "                                            Question  \\\n",
       "0  Dr. Bernstein: You are better off \"annuitizing...   \n",
       "1  According to https://siblisresearch.com/data/u...   \n",
       "2  I admit I've fallen into a deep rabbit hole re...   \n",
       "3  There seem to be a lot of \"experts\" recommendi...   \n",
       "4  Dr. Bernstein: You are better off \"annuitizing...   \n",
       "5  Hi Bogleheads,  As this question is wide/theor...   \n",
       "6  My understanding of currently available I-Bond...   \n",
       "7  https://am.jpmorgan.com/content/dam/jpm ... S-...   \n",
       "8  Does anyone notice that Gold price has been fl...   \n",
       "9  The last year has been brutal for anyone follo...   \n",
       "\n",
       "                                              Answer  \n",
       "0  Thanks for this example. I do have some questi...  \n",
       "1  Gaston:  I think it is a mistake to bet that o...  \n",
       "2  Here's my take on this.  Hopefully it covers a...  \n",
       "3  Yesterday I got triggered by this same old sub...  \n",
       "4  I'll do what I can, but pasting from excel and...  \n",
       "5  [ quote fixed by admin LadyGeek]  A very good ...  \n",
       "6  Yes, it all depends on the inflation rate in t...  \n",
       "7  This is my first posting. I am posting with th...  \n",
       "8  Paper cash is in fact not subject to the same ...  \n",
       "9  I'll just leave this here:  What Is Hindsight ...  "
      ]
     },
     "execution_count": 14,
     "metadata": {},
     "output_type": "execute_result"
    }
   ],
   "source": [
    "df_investing_therory.head(10)"
   ]
  },
  {
   "cell_type": "code",
   "execution_count": 15,
   "metadata": {},
   "outputs": [
    {
     "data": {
      "text/plain": [
       "(7500, 2)"
      ]
     },
     "execution_count": 15,
     "metadata": {},
     "output_type": "execute_result"
    }
   ],
   "source": [
    "df_investing_therory.shape"
   ]
  },
  {
   "cell_type": "code",
   "execution_count": 11,
   "metadata": {},
   "outputs": [
    {
     "data": {
      "text/html": [
       "<div>\n",
       "<style scoped>\n",
       "    .dataframe tbody tr th:only-of-type {\n",
       "        vertical-align: middle;\n",
       "    }\n",
       "\n",
       "    .dataframe tbody tr th {\n",
       "        vertical-align: top;\n",
       "    }\n",
       "\n",
       "    .dataframe thead th {\n",
       "        text-align: right;\n",
       "    }\n",
       "</style>\n",
       "<table border=\"1\" class=\"dataframe\">\n",
       "  <thead>\n",
       "    <tr style=\"text-align: right;\">\n",
       "      <th></th>\n",
       "      <th>Unnamed: 0</th>\n",
       "      <th>Question</th>\n",
       "      <th>Answer</th>\n",
       "    </tr>\n",
       "  </thead>\n",
       "  <tbody>\n",
       "    <tr>\n",
       "      <th>0</th>\n",
       "      <td>0</td>\n",
       "      <td>what are the best ways to save money?</td>\n",
       "      <td>1.don’t use credit cards - you buy the items, ...</td>\n",
       "    </tr>\n",
       "    <tr>\n",
       "      <th>1</th>\n",
       "      <td>1</td>\n",
       "      <td>what are the best ways tips to save money?</td>\n",
       "      <td>first…most people have a monthly income. they ...</td>\n",
       "    </tr>\n",
       "    <tr>\n",
       "      <th>2</th>\n",
       "      <td>2</td>\n",
       "      <td>what are the best ways tricks to save money?</td>\n",
       "      <td>don't keep all your funds in one bank. spend y...</td>\n",
       "    </tr>\n",
       "    <tr>\n",
       "      <th>3</th>\n",
       "      <td>3</td>\n",
       "      <td>do affluent people really eat better than peop...</td>\n",
       "      <td>i will never forget this and i remember it lik...</td>\n",
       "    </tr>\n",
       "    <tr>\n",
       "      <th>4</th>\n",
       "      <td>4</td>\n",
       "      <td>is it worth buying a lamborghini or is there a...</td>\n",
       "      <td>as someone that owns a lamborghini i can tell ...</td>\n",
       "    </tr>\n",
       "    <tr>\n",
       "      <th>5</th>\n",
       "      <td>5</td>\n",
       "      <td>which is more important knowledge or money?</td>\n",
       "      <td>mike tyson earned up to $30 million per fight ...</td>\n",
       "    </tr>\n",
       "    <tr>\n",
       "      <th>6</th>\n",
       "      <td>6</td>\n",
       "      <td>what are the things which money cannot buy, bu...</td>\n",
       "      <td>do you know anyone who is truly poor? my wife ...</td>\n",
       "    </tr>\n",
       "    <tr>\n",
       "      <th>7</th>\n",
       "      <td>7</td>\n",
       "      <td>why do people buy houses that are cheaper in f...</td>\n",
       "      <td>this is my 7k square foot house out in the mid...</td>\n",
       "    </tr>\n",
       "    <tr>\n",
       "      <th>8</th>\n",
       "      <td>8</td>\n",
       "      <td>what is a simple mistake people do that ruins ...</td>\n",
       "      <td>“it’s a very serious problem. i truly don’t kn...</td>\n",
       "    </tr>\n",
       "    <tr>\n",
       "      <th>9</th>\n",
       "      <td>9</td>\n",
       "      <td>poor/lower class people, when was the moment y...</td>\n",
       "      <td>for me, i learned how poor i was in second gra...</td>\n",
       "    </tr>\n",
       "  </tbody>\n",
       "</table>\n",
       "</div>"
      ],
      "text/plain": [
       "   Unnamed: 0                                           Question  \\\n",
       "0           0              what are the best ways to save money?   \n",
       "1           1         what are the best ways tips to save money?   \n",
       "2           2       what are the best ways tricks to save money?   \n",
       "3           3  do affluent people really eat better than peop...   \n",
       "4           4  is it worth buying a lamborghini or is there a...   \n",
       "5           5        which is more important knowledge or money?   \n",
       "6           6  what are the things which money cannot buy, bu...   \n",
       "7           7  why do people buy houses that are cheaper in f...   \n",
       "8           8  what is a simple mistake people do that ruins ...   \n",
       "9           9  poor/lower class people, when was the moment y...   \n",
       "\n",
       "                                              Answer  \n",
       "0  1.don’t use credit cards - you buy the items, ...  \n",
       "1  first…most people have a monthly income. they ...  \n",
       "2  don't keep all your funds in one bank. spend y...  \n",
       "3  i will never forget this and i remember it lik...  \n",
       "4  as someone that owns a lamborghini i can tell ...  \n",
       "5  mike tyson earned up to $30 million per fight ...  \n",
       "6  do you know anyone who is truly poor? my wife ...  \n",
       "7  this is my 7k square foot house out in the mid...  \n",
       "8  “it’s a very serious problem. i truly don’t kn...  \n",
       "9  for me, i learned how poor i was in second gra...  "
      ]
     },
     "execution_count": 11,
     "metadata": {},
     "output_type": "execute_result"
    }
   ],
   "source": [
    "df_quora.head(10)"
   ]
  },
  {
   "cell_type": "code",
   "execution_count": 16,
   "metadata": {},
   "outputs": [
    {
     "data": {
      "text/plain": [
       "(155, 3)"
      ]
     },
     "execution_count": 16,
     "metadata": {},
     "output_type": "execute_result"
    }
   ],
   "source": [
    "df_quora.shape"
   ]
  },
  {
   "cell_type": "code",
   "execution_count": 12,
   "metadata": {},
   "outputs": [
    {
     "data": {
      "text/html": [
       "<div>\n",
       "<style scoped>\n",
       "    .dataframe tbody tr th:only-of-type {\n",
       "        vertical-align: middle;\n",
       "    }\n",
       "\n",
       "    .dataframe tbody tr th {\n",
       "        vertical-align: top;\n",
       "    }\n",
       "\n",
       "    .dataframe thead th {\n",
       "        text-align: right;\n",
       "    }\n",
       "</style>\n",
       "<table border=\"1\" class=\"dataframe\">\n",
       "  <thead>\n",
       "    <tr style=\"text-align: right;\">\n",
       "      <th></th>\n",
       "      <th>question</th>\n",
       "      <th>answer</th>\n",
       "    </tr>\n",
       "  </thead>\n",
       "  <tbody>\n",
       "    <tr>\n",
       "      <th>0</th>\n",
       "      <td>As of August 2023 all of my major derogs (an u...</td>\n",
       "      <td>My advice would be:1. First look for more spec...</td>\n",
       "    </tr>\n",
       "    <tr>\n",
       "      <th>1</th>\n",
       "      <td>What's a good strategy for picking a bank for ...</td>\n",
       "      <td>Depending how liquid you need it to be, you co...</td>\n",
       "    </tr>\n",
       "    <tr>\n",
       "      <th>2</th>\n",
       "      <td>Hello and greetings everyone!  I'm so glad to ...</td>\n",
       "      <td>Right, that was my first thought when the OP s...</td>\n",
       "    </tr>\n",
       "    <tr>\n",
       "      <th>3</th>\n",
       "      <td>Hey everyone - For those of you that have a So...</td>\n",
       "      <td>I'm using them, they seem fine, but they're fa...</td>\n",
       "    </tr>\n",
       "    <tr>\n",
       "      <th>4</th>\n",
       "      <td>My CU has offered a special interest (dividend...</td>\n",
       "      <td>I agree with you 100%. Which is why I consider...</td>\n",
       "    </tr>\n",
       "    <tr>\n",
       "      <th>5</th>\n",
       "      <td>Hello all, looking for some advice. i am assis...</td>\n",
       "      <td>Simple.  Put $3100 into her savings account. T...</td>\n",
       "    </tr>\n",
       "    <tr>\n",
       "      <th>6</th>\n",
       "      <td>Hi folks, When we bought our home there was so...</td>\n",
       "      <td>I think you should take out one of the 7.4% pe...</td>\n",
       "    </tr>\n",
       "    <tr>\n",
       "      <th>7</th>\n",
       "      <td>Hey everyone. POINT ONE:Recently opened a bran...</td>\n",
       "      <td>Many dollars have been lost striving for a lit...</td>\n",
       "    </tr>\n",
       "    <tr>\n",
       "      <th>8</th>\n",
       "      <td>Has this ever happened to anyone here? Got a n...</td>\n",
       "      <td>That's a bummer.  They ought to have reinstate...</td>\n",
       "    </tr>\n",
       "    <tr>\n",
       "      <th>9</th>\n",
       "      <td>Hi I've never applied or gotten a personal loa...</td>\n",
       "      <td>Been there, done that. When you get your overa...</td>\n",
       "    </tr>\n",
       "  </tbody>\n",
       "</table>\n",
       "</div>"
      ],
      "text/plain": [
       "                                            question  \\\n",
       "0  As of August 2023 all of my major derogs (an u...   \n",
       "1  What's a good strategy for picking a bank for ...   \n",
       "2  Hello and greetings everyone!  I'm so glad to ...   \n",
       "3  Hey everyone - For those of you that have a So...   \n",
       "4  My CU has offered a special interest (dividend...   \n",
       "5  Hello all, looking for some advice. i am assis...   \n",
       "6  Hi folks, When we bought our home there was so...   \n",
       "7  Hey everyone. POINT ONE:Recently opened a bran...   \n",
       "8  Has this ever happened to anyone here? Got a n...   \n",
       "9  Hi I've never applied or gotten a personal loa...   \n",
       "\n",
       "                                              answer  \n",
       "0  My advice would be:1. First look for more spec...  \n",
       "1  Depending how liquid you need it to be, you co...  \n",
       "2  Right, that was my first thought when the OP s...  \n",
       "3  I'm using them, they seem fine, but they're fa...  \n",
       "4  I agree with you 100%. Which is why I consider...  \n",
       "5  Simple.  Put $3100 into her savings account. T...  \n",
       "6  I think you should take out one of the 7.4% pe...  \n",
       "7  Many dollars have been lost striving for a lit...  \n",
       "8  That's a bummer.  They ought to have reinstate...  \n",
       "9  Been there, done that. When you get your overa...  "
      ]
     },
     "execution_count": 12,
     "metadata": {},
     "output_type": "execute_result"
    }
   ],
   "source": [
    "df_myfico.head(10)"
   ]
  },
  {
   "cell_type": "code",
   "execution_count": 17,
   "metadata": {},
   "outputs": [
    {
     "data": {
      "text/plain": [
       "(150, 2)"
      ]
     },
     "execution_count": 17,
     "metadata": {},
     "output_type": "execute_result"
    }
   ],
   "source": [
    "df_myfico.shape"
   ]
  },
  {
   "cell_type": "code",
   "execution_count": 13,
   "metadata": {},
   "outputs": [
    {
     "data": {
      "text/html": [
       "<div>\n",
       "<style scoped>\n",
       "    .dataframe tbody tr th:only-of-type {\n",
       "        vertical-align: middle;\n",
       "    }\n",
       "\n",
       "    .dataframe tbody tr th {\n",
       "        vertical-align: top;\n",
       "    }\n",
       "\n",
       "    .dataframe thead th {\n",
       "        text-align: right;\n",
       "    }\n",
       "</style>\n",
       "<table border=\"1\" class=\"dataframe\">\n",
       "  <thead>\n",
       "    <tr style=\"text-align: right;\">\n",
       "      <th></th>\n",
       "      <th>Unnamed: 0</th>\n",
       "      <th>post_text</th>\n",
       "      <th>reply_text</th>\n",
       "    </tr>\n",
       "  </thead>\n",
       "  <tbody>\n",
       "    <tr>\n",
       "      <th>0</th>\n",
       "      <td>0</td>\n",
       "      <td>\"I'm starting to do some end-of-the-year prep ...</td>\n",
       "      <td>2022 ($34.98 before tax) $32.38 - December 29</td>\n",
       "    </tr>\n",
       "    <tr>\n",
       "      <th>1</th>\n",
       "      <td>1</td>\n",
       "      <td>\"I'm 52 and about to retire.  Should I get lon...</td>\n",
       "      <td>it won't be me sorting all this out</td>\n",
       "    </tr>\n",
       "    <tr>\n",
       "      <th>2</th>\n",
       "      <td>2</td>\n",
       "      <td>\"A response to the thread about a gentleman's ...</td>\n",
       "      <td>I would think.)  Any advice would be most sin...</td>\n",
       "    </tr>\n",
       "    <tr>\n",
       "      <th>3</th>\n",
       "      <td>3</td>\n",
       "      <td>\"My son's a HS junior in Illinois, definitely ...</td>\n",
       "      <td>automatic scholarships gets it down to about ...</td>\n",
       "    </tr>\n",
       "    <tr>\n",
       "      <th>4</th>\n",
       "      <td>4</td>\n",
       "      <td>\"Update (09/06/2022) -- house officially sold ...</td>\n",
       "      <td>but $5</td>\n",
       "    </tr>\n",
       "    <tr>\n",
       "      <th>5</th>\n",
       "      <td>5</td>\n",
       "      <td>\"Hi all,     California recently included this...</td>\n",
       "      <td>do you believe it is likely we would have a d...</td>\n",
       "    </tr>\n",
       "    <tr>\n",
       "      <th>6</th>\n",
       "      <td>6</td>\n",
       "      <td>\"Last year, I sort of FOMO'd into buying my dr...</td>\n",
       "      <td>which if I'm being honest makes me have secon...</td>\n",
       "    </tr>\n",
       "    <tr>\n",
       "      <th>7</th>\n",
       "      <td>7</td>\n",
       "      <td>\"I came across this article from 2014 titled \"...</td>\n",
       "      <td>from what I understood from the example in th...</td>\n",
       "    </tr>\n",
       "    <tr>\n",
       "      <th>8</th>\n",
       "      <td>8</td>\n",
       "      <td>\"Just thinking about a \"\"can I afford this hou...</td>\n",
       "      <td>where expenses include projected rent. Annual...</td>\n",
       "    </tr>\n",
       "    <tr>\n",
       "      <th>9</th>\n",
       "      <td>9</td>\n",
       "      <td>\"Please forgive the lengthy context here but I...</td>\n",
       "      <td>my job has been lower-intensity the last coup...</td>\n",
       "    </tr>\n",
       "  </tbody>\n",
       "</table>\n",
       "</div>"
      ],
      "text/plain": [
       "   Unnamed: 0                                          post_text  \\\n",
       "0           0  \"I'm starting to do some end-of-the-year prep ...   \n",
       "1           1  \"I'm 52 and about to retire.  Should I get lon...   \n",
       "2           2  \"A response to the thread about a gentleman's ...   \n",
       "3           3  \"My son's a HS junior in Illinois, definitely ...   \n",
       "4           4  \"Update (09/06/2022) -- house officially sold ...   \n",
       "5           5  \"Hi all,     California recently included this...   \n",
       "6           6  \"Last year, I sort of FOMO'd into buying my dr...   \n",
       "7           7  \"I came across this article from 2014 titled \"...   \n",
       "8           8  \"Just thinking about a \"\"can I afford this hou...   \n",
       "9           9  \"Please forgive the lengthy context here but I...   \n",
       "\n",
       "                                          reply_text  \n",
       "0      2022 ($34.98 before tax) $32.38 - December 29  \n",
       "1                it won't be me sorting all this out  \n",
       "2   I would think.)  Any advice would be most sin...  \n",
       "3   automatic scholarships gets it down to about ...  \n",
       "4                                             but $5  \n",
       "5   do you believe it is likely we would have a d...  \n",
       "6   which if I'm being honest makes me have secon...  \n",
       "7   from what I understood from the example in th...  \n",
       "8   where expenses include projected rent. Annual...  \n",
       "9   my job has been lower-intensity the last coup...  "
      ]
     },
     "execution_count": 13,
     "metadata": {},
     "output_type": "execute_result"
    }
   ],
   "source": [
    "df_personal_finance.head(10)"
   ]
  },
  {
   "cell_type": "code",
   "execution_count": 18,
   "metadata": {},
   "outputs": [
    {
     "data": {
      "text/plain": [
       "(100, 3)"
      ]
     },
     "execution_count": 18,
     "metadata": {},
     "output_type": "execute_result"
    }
   ],
   "source": [
    "df_personal_finance.shape"
   ]
  },
  {
   "cell_type": "code",
   "execution_count": null,
   "metadata": {},
   "outputs": [],
   "source": [
    "df_quora = df_quora.drop(columns='Unnamed: 0')"
   ]
  },
  {
   "cell_type": "code",
   "execution_count": 34,
   "metadata": {},
   "outputs": [],
   "source": [
    "df_personal_finance = df_personal_finance.drop(columns='Unnamed: 0')"
   ]
  },
  {
   "cell_type": "code",
   "execution_count": 46,
   "metadata": {},
   "outputs": [
    {
     "data": {
      "text/plain": [
       "(155, 2)"
      ]
     },
     "execution_count": 46,
     "metadata": {},
     "output_type": "execute_result"
    }
   ],
   "source": [
    "df_quora.shape"
   ]
  },
  {
   "cell_type": "code",
   "execution_count": 47,
   "metadata": {},
   "outputs": [
    {
     "data": {
      "text/plain": [
       "(100, 2)"
      ]
     },
     "execution_count": 47,
     "metadata": {},
     "output_type": "execute_result"
    }
   ],
   "source": [
    "df_personal_finance.shape"
   ]
  },
  {
   "cell_type": "code",
   "execution_count": 37,
   "metadata": {},
   "outputs": [],
   "source": [
    "df_myfico = df_myfico.rename(columns={'question':'Question','answer':'Answer'})"
   ]
  },
  {
   "cell_type": "code",
   "execution_count": 38,
   "metadata": {},
   "outputs": [],
   "source": [
    "df_personal_finance = df_personal_finance.rename(columns={'post_text':'Question','reply_text':'Answer'})"
   ]
  },
  {
   "cell_type": "code",
   "execution_count": 39,
   "metadata": {},
   "outputs": [
    {
     "data": {
      "text/html": [
       "<div>\n",
       "<style scoped>\n",
       "    .dataframe tbody tr th:only-of-type {\n",
       "        vertical-align: middle;\n",
       "    }\n",
       "\n",
       "    .dataframe tbody tr th {\n",
       "        vertical-align: top;\n",
       "    }\n",
       "\n",
       "    .dataframe thead th {\n",
       "        text-align: right;\n",
       "    }\n",
       "</style>\n",
       "<table border=\"1\" class=\"dataframe\">\n",
       "  <thead>\n",
       "    <tr style=\"text-align: right;\">\n",
       "      <th></th>\n",
       "      <th>Question</th>\n",
       "      <th>Answer</th>\n",
       "    </tr>\n",
       "  </thead>\n",
       "  <tbody>\n",
       "    <tr>\n",
       "      <th>0</th>\n",
       "      <td>As of August 2023 all of my major derogs (an u...</td>\n",
       "      <td>My advice would be:1. First look for more spec...</td>\n",
       "    </tr>\n",
       "  </tbody>\n",
       "</table>\n",
       "</div>"
      ],
      "text/plain": [
       "                                            Question  \\\n",
       "0  As of August 2023 all of my major derogs (an u...   \n",
       "\n",
       "                                              Answer  \n",
       "0  My advice would be:1. First look for more spec...  "
      ]
     },
     "execution_count": 39,
     "metadata": {},
     "output_type": "execute_result"
    }
   ],
   "source": [
    "df_myfico.head(1)"
   ]
  },
  {
   "cell_type": "code",
   "execution_count": 40,
   "metadata": {},
   "outputs": [
    {
     "data": {
      "text/html": [
       "<div>\n",
       "<style scoped>\n",
       "    .dataframe tbody tr th:only-of-type {\n",
       "        vertical-align: middle;\n",
       "    }\n",
       "\n",
       "    .dataframe tbody tr th {\n",
       "        vertical-align: top;\n",
       "    }\n",
       "\n",
       "    .dataframe thead th {\n",
       "        text-align: right;\n",
       "    }\n",
       "</style>\n",
       "<table border=\"1\" class=\"dataframe\">\n",
       "  <thead>\n",
       "    <tr style=\"text-align: right;\">\n",
       "      <th></th>\n",
       "      <th>Question</th>\n",
       "      <th>Answer</th>\n",
       "    </tr>\n",
       "  </thead>\n",
       "  <tbody>\n",
       "    <tr>\n",
       "      <th>0</th>\n",
       "      <td>\"I'm starting to do some end-of-the-year prep ...</td>\n",
       "      <td>2022 ($34.98 before tax) $32.38 - December 29</td>\n",
       "    </tr>\n",
       "  </tbody>\n",
       "</table>\n",
       "</div>"
      ],
      "text/plain": [
       "                                            Question  \\\n",
       "0  \"I'm starting to do some end-of-the-year prep ...   \n",
       "\n",
       "                                           Answer  \n",
       "0   2022 ($34.98 before tax) $32.38 - December 29  "
      ]
     },
     "execution_count": 40,
     "metadata": {},
     "output_type": "execute_result"
    }
   ],
   "source": [
    "df_personal_finance.head(1)"
   ]
  },
  {
   "cell_type": "code",
   "execution_count": 42,
   "metadata": {},
   "outputs": [],
   "source": [
    "unprocessed_data_merged = pd.concat([df_quora, df_personal_finance, df_myfico, df_investing_therory])"
   ]
  },
  {
   "cell_type": "code",
   "execution_count": 43,
   "metadata": {},
   "outputs": [
    {
     "data": {
      "text/html": [
       "<div>\n",
       "<style scoped>\n",
       "    .dataframe tbody tr th:only-of-type {\n",
       "        vertical-align: middle;\n",
       "    }\n",
       "\n",
       "    .dataframe tbody tr th {\n",
       "        vertical-align: top;\n",
       "    }\n",
       "\n",
       "    .dataframe thead th {\n",
       "        text-align: right;\n",
       "    }\n",
       "</style>\n",
       "<table border=\"1\" class=\"dataframe\">\n",
       "  <thead>\n",
       "    <tr style=\"text-align: right;\">\n",
       "      <th></th>\n",
       "      <th>Question</th>\n",
       "      <th>Answer</th>\n",
       "    </tr>\n",
       "  </thead>\n",
       "  <tbody>\n",
       "    <tr>\n",
       "      <th>0</th>\n",
       "      <td>what are the best ways to save money?</td>\n",
       "      <td>1.don’t use credit cards - you buy the items, ...</td>\n",
       "    </tr>\n",
       "    <tr>\n",
       "      <th>1</th>\n",
       "      <td>what are the best ways tips to save money?</td>\n",
       "      <td>first…most people have a monthly income. they ...</td>\n",
       "    </tr>\n",
       "    <tr>\n",
       "      <th>2</th>\n",
       "      <td>what are the best ways tricks to save money?</td>\n",
       "      <td>don't keep all your funds in one bank. spend y...</td>\n",
       "    </tr>\n",
       "    <tr>\n",
       "      <th>3</th>\n",
       "      <td>do affluent people really eat better than peop...</td>\n",
       "      <td>i will never forget this and i remember it lik...</td>\n",
       "    </tr>\n",
       "    <tr>\n",
       "      <th>4</th>\n",
       "      <td>is it worth buying a lamborghini or is there a...</td>\n",
       "      <td>as someone that owns a lamborghini i can tell ...</td>\n",
       "    </tr>\n",
       "    <tr>\n",
       "      <th>5</th>\n",
       "      <td>which is more important knowledge or money?</td>\n",
       "      <td>mike tyson earned up to $30 million per fight ...</td>\n",
       "    </tr>\n",
       "    <tr>\n",
       "      <th>6</th>\n",
       "      <td>what are the things which money cannot buy, bu...</td>\n",
       "      <td>do you know anyone who is truly poor? my wife ...</td>\n",
       "    </tr>\n",
       "    <tr>\n",
       "      <th>7</th>\n",
       "      <td>why do people buy houses that are cheaper in f...</td>\n",
       "      <td>this is my 7k square foot house out in the mid...</td>\n",
       "    </tr>\n",
       "    <tr>\n",
       "      <th>8</th>\n",
       "      <td>what is a simple mistake people do that ruins ...</td>\n",
       "      <td>“it’s a very serious problem. i truly don’t kn...</td>\n",
       "    </tr>\n",
       "    <tr>\n",
       "      <th>9</th>\n",
       "      <td>poor/lower class people, when was the moment y...</td>\n",
       "      <td>for me, i learned how poor i was in second gra...</td>\n",
       "    </tr>\n",
       "  </tbody>\n",
       "</table>\n",
       "</div>"
      ],
      "text/plain": [
       "                                            Question  \\\n",
       "0              what are the best ways to save money?   \n",
       "1         what are the best ways tips to save money?   \n",
       "2       what are the best ways tricks to save money?   \n",
       "3  do affluent people really eat better than peop...   \n",
       "4  is it worth buying a lamborghini or is there a...   \n",
       "5        which is more important knowledge or money?   \n",
       "6  what are the things which money cannot buy, bu...   \n",
       "7  why do people buy houses that are cheaper in f...   \n",
       "8  what is a simple mistake people do that ruins ...   \n",
       "9  poor/lower class people, when was the moment y...   \n",
       "\n",
       "                                              Answer  \n",
       "0  1.don’t use credit cards - you buy the items, ...  \n",
       "1  first…most people have a monthly income. they ...  \n",
       "2  don't keep all your funds in one bank. spend y...  \n",
       "3  i will never forget this and i remember it lik...  \n",
       "4  as someone that owns a lamborghini i can tell ...  \n",
       "5  mike tyson earned up to $30 million per fight ...  \n",
       "6  do you know anyone who is truly poor? my wife ...  \n",
       "7  this is my 7k square foot house out in the mid...  \n",
       "8  “it’s a very serious problem. i truly don’t kn...  \n",
       "9  for me, i learned how poor i was in second gra...  "
      ]
     },
     "execution_count": 43,
     "metadata": {},
     "output_type": "execute_result"
    }
   ],
   "source": [
    "unprocessed_data_merged.head(10)"
   ]
  },
  {
   "cell_type": "code",
   "execution_count": 44,
   "metadata": {},
   "outputs": [
    {
     "data": {
      "text/plain": [
       "(7905, 2)"
      ]
     },
     "execution_count": 44,
     "metadata": {},
     "output_type": "execute_result"
    }
   ],
   "source": [
    "unprocessed_data_merged.shape"
   ]
  },
  {
   "cell_type": "code",
   "execution_count": 45,
   "metadata": {},
   "outputs": [],
   "source": [
    "unprocessed_data_merged.to_csv('../../data/final-data-unprocessed/unprocessed_data_merged.csv')"
   ]
  }
 ],
 "metadata": {
  "kernelspec": {
   "display_name": "thomas",
   "language": "python",
   "name": "python3"
  },
  "language_info": {
   "codemirror_mode": {
    "name": "ipython",
    "version": 3
   },
   "file_extension": ".py",
   "mimetype": "text/x-python",
   "name": "python",
   "nbconvert_exporter": "python",
   "pygments_lexer": "ipython3",
   "version": "3.10.6"
  },
  "orig_nbformat": 4,
  "vscode": {
   "interpreter": {
    "hash": "457a16c2b4d0b04e17a5631921816ec43d08a62ddd9a581737408d1448d0a218"
   }
  }
 },
 "nbformat": 4,
 "nbformat_minor": 2
}
