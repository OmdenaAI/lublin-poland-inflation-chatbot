{
 "cells": [
  {
   "cell_type": "markdown",
   "metadata": {
    "tags": []
   },
   "source": [
    "## Importing Modules"
   ]
  },
  {
   "cell_type": "code",
   "execution_count": 62,
   "metadata": {},
   "outputs": [],
   "source": [
    "import numpy as np\n",
    "import pandas as pd\n",
    "import re\n",
    "import string\n",
    "from collections import Counter\n",
    "import nltk\n",
    "from nltk.tokenize import word_tokenize\n",
    "from nltk.corpus import stopwords\n",
    "import spacy\n",
    "from spacy import displacy\n",
    "import en_core_web_sm"
   ]
  },
  {
   "cell_type": "code",
   "execution_count": 63,
   "metadata": {},
   "outputs": [],
   "source": [
    "nlp = en_core_web_sm.load()"
   ]
  },
  {
   "cell_type": "markdown",
   "metadata": {},
   "source": [
    "## Helper Functions"
   ]
  },
  {
   "cell_type": "code",
   "execution_count": 13,
   "metadata": {},
   "outputs": [],
   "source": [
    "contractions_dict = { \"ain't\": \"are not\",\"aren't\": \"are not\",\n",
    "                        \"can't\": \"cannot\",\"can't've\": \"cannot have\",\n",
    "                        \"'cause\": \"because\",\"could've\": \"could have\",\"couldn't\": \"could not\",\n",
    "                        \"couldn't've\": \"could not have\", \"didn't\": \"did not\",\"doesn't\": \"does not\",\n",
    "                        \"don't\": \"do not\",\"hadn't\": \"had not\",\"hadn't've\": \"had not have\",\n",
    "                        \"hasn't\": \"has not\",\"haven't\": \"have not\",\"he'd\": \"he would\",\n",
    "                        \"he'd've\": \"he would have\",\"he'll\": \"he will\", \"he'll've\": \"he will have\",\n",
    "                        \"how'd\": \"how did\",\"how'd'y\": \"how do you\",\"how'll\": \"how will\",\n",
    "                        \"I'd\": \"I would\", \"I'd've\": \"I would have\",\"I'll\": \"I will\",\n",
    "                        \"I'll've\": \"I will have\",\"I'm\": \"I am\",\"I've\": \"I have\", \"isn't\": \"is not\",\n",
    "                        \"it'd\": \"it would\",\"it'd've\": \"it would have\",\"it'll\": \"it will\",\n",
    "                        \"it'll've\": \"it will have\", \"let's\": \"let us\",\"ma'am\": \"madam\",\n",
    "                        \"mayn't\": \"may not\",\"might've\": \"might have\",\"mightn't\": \"might not\", \n",
    "                        \"mightn't've\": \"might not have\",\"must've\": \"must have\",\"mustn't\": \"must not\",\n",
    "                        \"mustn't've\": \"must not have\", \"needn't\": \"need not\",\n",
    "                        \"needn't've\": \"need not have\",\"o'clock\": \"of the clock\",\"oughtn't\": \"ought not\",\n",
    "                        \"oughtn't've\": \"ought not have\",\"shan't\": \"shall not\",\"sha'n't\": \"shall not\",\n",
    "                        \"shan't've\": \"shall not have\",\"she'd\": \"she would\",\"she'd've\": \"she would have\",\n",
    "                        \"she'll\": \"she will\", \"she'll've\": \"she will have\",\"should've\": \"should have\",\n",
    "                        \"shouldn't\": \"should not\", \"shouldn't've\": \"should not have\",\"so've\": \"so have\",\n",
    "                        \"that'd\": \"that would\",\"that'd've\": \"that would have\", \"there'd\": \"there would\",\n",
    "                        \"there'd've\": \"there would have\", \"they'd\": \"they would\",\n",
    "                        \"they'd've\": \"they would have\",\"they'll\": \"they will\",\n",
    "                        \"they'll've\": \"they will have\", \"they're\": \"they are\",\"they've\": \"they have\",\n",
    "                        \"to've\": \"to have\",\"wasn't\": \"was not\",\"we'd\": \"we would\",\n",
    "                        \"we'd've\": \"we would have\",\"we'll\": \"we will\",\"we'll've\": \"we will have\",\n",
    "                        \"we're\": \"we are\",\"we've\": \"we have\", \"weren't\": \"were not\",\"what'll\": \"what will\",\n",
    "                        \"what'll've\": \"what will have\",\"what're\": \"what are\", \"what've\": \"what have\",\n",
    "                        \"when've\": \"when have\",\"where'd\": \"where did\", \"where've\": \"where have\",\n",
    "                        \"who'll\": \"who will\",\"who'll've\": \"who will have\",\"who've\": \"who have\",\n",
    "                        \"why've\": \"why have\",\"will've\": \"will have\",\"won't\": \"will not\",\n",
    "                        \"won't've\": \"will not have\", \"would've\": \"would have\",\"wouldn't\": \"would not\",\n",
    "                        \"wouldn't've\": \"would not have\",\"y'all\": \"you all\", \"y'all'd\": \"you all would\",\n",
    "                        \"y'all'd've\": \"you all would have\",\"y'all're\": \"you all are\",\n",
    "                        \"y'all've\": \"you all have\", \"you'd\": \"you would\",\"you'd've\": \"you would have\",\n",
    "                        \"you'll\": \"you will\",\"you'll've\": \"you will have\", \"you're\": \"you are\",\n",
    "                        \"you've\": \"you have\"\n",
    "                        }\n",
    "\n",
    "\n",
    "# Regular expression for finding contractions\n",
    "contractions_re=re.compile('(%s)' % '|'.join(contractions_dict.keys()))\n",
    "\n",
    "# Function for expanding contractions\n",
    "def expand_contractions(text,contractions=contractions_dict):\n",
    "  def replace(match):\n",
    "    # print(contractions_dict[match.group(0)])\n",
    "    return contractions_dict[match.group(0)]\n",
    "  return contractions_re.sub(replace, text)\n",
    "\n",
    "def remove_digits(text):\n",
    "  return re.sub('\\w*\\d\\w*', \"\", text)\n",
    "\n",
    "def remove_punctutation(text):\n",
    "  return re.sub(\"[%s]\" % re.escape(string.punctuation), \"\", text)\n",
    "\n",
    "def replace(match):\n",
    "    # print(contractions_dict[match.group(0)])\n",
    "    return contractions_dict[match.group(0)]\n",
    "\n",
    "def text_prep(column, reverse=True, frequency=False, word_number=20, pos=False):\n",
    "    stopword = set(stopwords.words('english'))\n",
    "    stopword\n",
    "\n",
    "    contractions_re=re.compile('(%s)' % '|'.join(contractions_dict.keys()))\n",
    "    word_list = []\n",
    "\n",
    "    for text in column:\n",
    "        \n",
    "        # expand contractions\n",
    "        text = contractions_re.sub(replace, text)\n",
    "\n",
    "        # remove digits from text\n",
    "        text = re.sub('\\w*\\d\\w*', \"\", text)\n",
    "\n",
    "        # remove punctuation\n",
    "        text = re.sub(\"[%s]\" % re.escape(string.punctuation), \"\", text)\n",
    "\n",
    "        # remove links\n",
    "        text = re.sub(\"(https?:\\/\\/)?([\\da-z\\.-]+)\\.([a-z\\.]{2,6})([\\/\\w \\.-]*)\", \"\", text)\n",
    "\n",
    "        words = text.split(\" \")\n",
    "\n",
    "        for word in words:\n",
    "            if word.lower() not in stopword:\n",
    "                word_list.extend(word.split(\" \"))\n",
    "\n",
    "    prep_words = Counter(word_list)\n",
    "    sorted_words = sorted(prep_words.items(), key=lambda x: x[1], reverse=reverse)\n",
    "\n",
    "\n",
    "    if frequency:\n",
    "        return sorted_words\n",
    "    \n",
    "    freq_words = []\n",
    "    for i in range(word_number):\n",
    "        if sorted_words[i][0] != \"\":\n",
    "            freq_words.append(sorted_words[i][0])\n",
    "\n",
    "\n",
    "    tags = []\n",
    "    if pos:\n",
    "        word_tags = nltk.pos_tag(word_list)\n",
    "\n",
    "        for tag in word_tags:\n",
    "            tags.append(tag[1])\n",
    "\n",
    "        tags = Counter(tags)\n",
    "        sorted_tags = sorted(tags.items(), key=lambda x: x[1], reverse=reverse)\n",
    "        \n",
    "        top_tags = []\n",
    "        for i in range(word_number):\n",
    "            top_tags.append(sorted_tags[i][0])\n",
    "        return top_tags\n",
    "\n",
    "        \n",
    "\n",
    "    return freq_words\n",
    "\n",
    "\n",
    "def post_length(column, data=data, output='max'):\n",
    "    length =[]\n",
    "    for text in column:\n",
    "        length.append(len(text))\n",
    "\n",
    "        # print(f\"{len(text)} - {text}\")\n",
    "\n",
    "    length = np.array(length)\n",
    "\n",
    "    if output == 'max':\n",
    "\n",
    "        max_str = data[data[column].str.len() == data[column].str.len().max()][[column]].reset_index(drop=True).drop_duplicates()\n",
    "        max_str[\"length\"] = max_str[column].str.len()\n",
    "\n",
    "        return max_str\n",
    "\n",
    "    elif output == 'min':\n",
    "        min_str = data[data[column].str.len() == data[column].str.len().min()][[column]].reset_index(drop=True).drop_duplicates()\n",
    "        min_str[\"length\"] = min_str[column].str.len()\n",
    "\n",
    "        return min_str"
   ]
  },
  {
   "cell_type": "markdown",
   "metadata": {},
   "source": [
    "## Reading Data-in"
   ]
  },
  {
   "cell_type": "code",
   "execution_count": 14,
   "metadata": {},
   "outputs": [
    {
     "data": {
      "text/html": [
       "<div>\n",
       "<style scoped>\n",
       "    .dataframe tbody tr th:only-of-type {\n",
       "        vertical-align: middle;\n",
       "    }\n",
       "\n",
       "    .dataframe tbody tr th {\n",
       "        vertical-align: top;\n",
       "    }\n",
       "\n",
       "    .dataframe thead th {\n",
       "        text-align: right;\n",
       "    }\n",
       "</style>\n",
       "<table border=\"1\" class=\"dataframe\">\n",
       "  <thead>\n",
       "    <tr style=\"text-align: right;\">\n",
       "      <th></th>\n",
       "      <th>post_id</th>\n",
       "      <th>post_date</th>\n",
       "      <th>post_title</th>\n",
       "      <th>post_author</th>\n",
       "      <th>post_text</th>\n",
       "      <th>reply_date</th>\n",
       "      <th>replier</th>\n",
       "      <th>reply_text</th>\n",
       "      <th>replier_posts_count</th>\n",
       "    </tr>\n",
       "  </thead>\n",
       "  <tbody>\n",
       "    <tr>\n",
       "      <th>0</th>\n",
       "      <td>372603</td>\n",
       "      <td>2022-03-13</td>\n",
       "      <td>\"20 IRA Mistakes To Avoid\"</td>\n",
       "      <td>Taylor Larimore</td>\n",
       "      <td>Bogleheads:  Christine Benz, Morningstar's Dir...</td>\n",
       "      <td>2022-03-13</td>\n",
       "      <td>rkhusky</td>\n",
       "      <td>Nice compilation of things often mentioned on ...</td>\n",
       "      <td>14330</td>\n",
       "    </tr>\n",
       "    <tr>\n",
       "      <th>1</th>\n",
       "      <td>372603</td>\n",
       "      <td>2022-03-13</td>\n",
       "      <td>\"20 IRA Mistakes To Avoid\"</td>\n",
       "      <td>Taylor Larimore</td>\n",
       "      <td>Bogleheads:  Christine Benz, Morningstar's Dir...</td>\n",
       "      <td>2022-03-13</td>\n",
       "      <td>retired@50</td>\n",
       "      <td>It pays to learn the rules.    Ms. Benz uses t...</td>\n",
       "      <td>9760</td>\n",
       "    </tr>\n",
       "    <tr>\n",
       "      <th>2</th>\n",
       "      <td>372603</td>\n",
       "      <td>2022-03-13</td>\n",
       "      <td>\"20 IRA Mistakes To Avoid\"</td>\n",
       "      <td>Taylor Larimore</td>\n",
       "      <td>Bogleheads:  Christine Benz, Morningstar's Dir...</td>\n",
       "      <td>2022-03-13</td>\n",
       "      <td>JoMoney</td>\n",
       "      <td>That's an unfortunate mistake I've heard more ...</td>\n",
       "      <td>14640</td>\n",
       "    </tr>\n",
       "    <tr>\n",
       "      <th>3</th>\n",
       "      <td>375939</td>\n",
       "      <td>2022-04-21</td>\n",
       "      <td>Bonds: Specific Dollar Amount or Percentage of...</td>\n",
       "      <td>SimpleMan68</td>\n",
       "      <td>When it comes to bonds, do you seek to maintai...</td>\n",
       "      <td>2022-04-21</td>\n",
       "      <td>yules</td>\n",
       "      <td>I think it really depends on your assets. Like...</td>\n",
       "      <td>527</td>\n",
       "    </tr>\n",
       "    <tr>\n",
       "      <th>4</th>\n",
       "      <td>375939</td>\n",
       "      <td>2022-04-21</td>\n",
       "      <td>Bonds: Specific Dollar Amount or Percentage of...</td>\n",
       "      <td>SimpleMan68</td>\n",
       "      <td>When it comes to bonds, do you seek to maintai...</td>\n",
       "      <td>2022-04-21</td>\n",
       "      <td>dbr</td>\n",
       "      <td>There are people who would swear by either of ...</td>\n",
       "      <td>43427</td>\n",
       "    </tr>\n",
       "  </tbody>\n",
       "</table>\n",
       "</div>"
      ],
      "text/plain": [
       "   post_id   post_date                                         post_title  \\\n",
       "0   372603  2022-03-13                         \"20 IRA Mistakes To Avoid\"   \n",
       "1   372603  2022-03-13                         \"20 IRA Mistakes To Avoid\"   \n",
       "2   372603  2022-03-13                         \"20 IRA Mistakes To Avoid\"   \n",
       "3   375939  2022-04-21  Bonds: Specific Dollar Amount or Percentage of...   \n",
       "4   375939  2022-04-21  Bonds: Specific Dollar Amount or Percentage of...   \n",
       "\n",
       "       post_author                                          post_text  \\\n",
       "0  Taylor Larimore  Bogleheads:  Christine Benz, Morningstar's Dir...   \n",
       "1  Taylor Larimore  Bogleheads:  Christine Benz, Morningstar's Dir...   \n",
       "2  Taylor Larimore  Bogleheads:  Christine Benz, Morningstar's Dir...   \n",
       "3      SimpleMan68  When it comes to bonds, do you seek to maintai...   \n",
       "4      SimpleMan68  When it comes to bonds, do you seek to maintai...   \n",
       "\n",
       "   reply_date     replier                                         reply_text  \\\n",
       "0  2022-03-13     rkhusky  Nice compilation of things often mentioned on ...   \n",
       "1  2022-03-13  retired@50  It pays to learn the rules.    Ms. Benz uses t...   \n",
       "2  2022-03-13     JoMoney  That's an unfortunate mistake I've heard more ...   \n",
       "3  2022-04-21       yules  I think it really depends on your assets. Like...   \n",
       "4  2022-04-21         dbr  There are people who would swear by either of ...   \n",
       "\n",
       "   replier_posts_count  \n",
       "0                14330  \n",
       "1                 9760  \n",
       "2                14640  \n",
       "3                  527  \n",
       "4                43427  "
      ]
     },
     "execution_count": 14,
     "metadata": {},
     "output_type": "execute_result"
    }
   ],
   "source": [
    "data = pd.read_csv(\"./bogleheads_all_data_investing_theory.csv\")\n",
    "data.head()"
   ]
  },
  {
   "cell_type": "markdown",
   "metadata": {},
   "source": [
    "#### Columns and Representation"
   ]
  },
  {
   "cell_type": "markdown",
   "metadata": {},
   "source": [
    "* post_id - \n",
    "* post_date - Date on which the question was posted on the forum\n",
    "* post_title - Title of the post asking the quetsion\n",
    "* post_author - username of the question asker\n",
    "* post_text - The text explaining the question\n",
    "* reply_date - date on which the reply was posted\n",
    "* repiler - Username for replier\n",
    "* reply_text - text containing the answer to the posts\n",
    "* replier_posts_counts - total number of posts made by the replier\n"
   ]
  },
  {
   "cell_type": "code",
   "execution_count": 15,
   "metadata": {},
   "outputs": [
    {
     "name": "stdout",
     "output_type": "stream",
     "text": [
      "<class 'pandas.core.frame.DataFrame'>\n",
      "RangeIndex: 112679 entries, 0 to 112678\n",
      "Data columns (total 9 columns):\n",
      " #   Column               Non-Null Count   Dtype \n",
      "---  ------               --------------   ----- \n",
      " 0   post_id              112679 non-null  int64 \n",
      " 1   post_date            112679 non-null  object\n",
      " 2   post_title           112679 non-null  object\n",
      " 3   post_author          112261 non-null  object\n",
      " 4   post_text            112427 non-null  object\n",
      " 5   reply_date           112679 non-null  object\n",
      " 6   replier              111441 non-null  object\n",
      " 7   reply_text           112313 non-null  object\n",
      " 8   replier_posts_count  112679 non-null  int64 \n",
      "dtypes: int64(2), object(7)\n",
      "memory usage: 7.7+ MB\n"
     ]
    }
   ],
   "source": [
    "data.info()"
   ]
  },
  {
   "cell_type": "markdown",
   "metadata": {},
   "source": [
    "### Missing or Null values"
   ]
  },
  {
   "cell_type": "code",
   "execution_count": 16,
   "metadata": {},
   "outputs": [
    {
     "data": {
      "text/plain": [
       "post_id                   0\n",
       "post_date                 0\n",
       "post_title                0\n",
       "post_author             418\n",
       "post_text               252\n",
       "reply_date                0\n",
       "replier                1238\n",
       "reply_text              366\n",
       "replier_posts_count       0\n",
       "dtype: int64"
      ]
     },
     "execution_count": 16,
     "metadata": {},
     "output_type": "execute_result"
    }
   ],
   "source": [
    "data.isnull().sum()"
   ]
  },
  {
   "cell_type": "markdown",
   "metadata": {},
   "source": [
    "### Check duplicated"
   ]
  },
  {
   "cell_type": "code",
   "execution_count": 17,
   "metadata": {},
   "outputs": [
    {
     "data": {
      "text/plain": [
       "204"
      ]
     },
     "execution_count": 17,
     "metadata": {},
     "output_type": "execute_result"
    }
   ],
   "source": [
    "data.duplicated().sum()"
   ]
  },
  {
   "cell_type": "code",
   "execution_count": 18,
   "metadata": {},
   "outputs": [
    {
     "data": {
      "text/plain": [
       "191"
      ]
     },
     "execution_count": 18,
     "metadata": {},
     "output_type": "execute_result"
    }
   ],
   "source": [
    "data.dropna(inplace=True)\n",
    "data.duplicated().sum()"
   ]
  },
  {
   "cell_type": "code",
   "execution_count": 19,
   "metadata": {},
   "outputs": [],
   "source": [
    "data.drop_duplicates(inplace=True)"
   ]
  },
  {
   "cell_type": "code",
   "execution_count": 20,
   "metadata": {},
   "outputs": [
    {
     "name": "stdout",
     "output_type": "stream",
     "text": [
      "<class 'pandas.core.frame.DataFrame'>\n",
      "Int64Index: 110284 entries, 0 to 112678\n",
      "Data columns (total 9 columns):\n",
      " #   Column               Non-Null Count   Dtype \n",
      "---  ------               --------------   ----- \n",
      " 0   post_id              110284 non-null  int64 \n",
      " 1   post_date            110284 non-null  object\n",
      " 2   post_title           110284 non-null  object\n",
      " 3   post_author          110284 non-null  object\n",
      " 4   post_text            110284 non-null  object\n",
      " 5   reply_date           110284 non-null  object\n",
      " 6   replier              110284 non-null  object\n",
      " 7   reply_text           110284 non-null  object\n",
      " 8   replier_posts_count  110284 non-null  int64 \n",
      "dtypes: int64(2), object(7)\n",
      "memory usage: 8.4+ MB\n"
     ]
    }
   ],
   "source": [
    "data.info()"
   ]
  },
  {
   "cell_type": "code",
   "execution_count": 21,
   "metadata": {},
   "outputs": [
    {
     "data": {
      "text/html": [
       "<div>\n",
       "<style scoped>\n",
       "    .dataframe tbody tr th:only-of-type {\n",
       "        vertical-align: middle;\n",
       "    }\n",
       "\n",
       "    .dataframe tbody tr th {\n",
       "        vertical-align: top;\n",
       "    }\n",
       "\n",
       "    .dataframe thead th {\n",
       "        text-align: right;\n",
       "    }\n",
       "</style>\n",
       "<table border=\"1\" class=\"dataframe\">\n",
       "  <thead>\n",
       "    <tr style=\"text-align: right;\">\n",
       "      <th></th>\n",
       "      <th>post_id</th>\n",
       "      <th>post_date</th>\n",
       "      <th>post_title</th>\n",
       "      <th>post_author</th>\n",
       "      <th>post_text</th>\n",
       "      <th>reply_date</th>\n",
       "      <th>replier</th>\n",
       "      <th>reply_text</th>\n",
       "      <th>replier_posts_count</th>\n",
       "    </tr>\n",
       "  </thead>\n",
       "  <tbody>\n",
       "    <tr>\n",
       "      <th>0</th>\n",
       "      <td>372603</td>\n",
       "      <td>2022-03-13</td>\n",
       "      <td>\"20 IRA Mistakes To Avoid\"</td>\n",
       "      <td>Taylor Larimore</td>\n",
       "      <td>Bogleheads:  Christine Benz, Morningstar's Dir...</td>\n",
       "      <td>2022-03-13</td>\n",
       "      <td>rkhusky</td>\n",
       "      <td>Nice compilation of things often mentioned on ...</td>\n",
       "      <td>14330</td>\n",
       "    </tr>\n",
       "    <tr>\n",
       "      <th>1</th>\n",
       "      <td>372603</td>\n",
       "      <td>2022-03-13</td>\n",
       "      <td>\"20 IRA Mistakes To Avoid\"</td>\n",
       "      <td>Taylor Larimore</td>\n",
       "      <td>Bogleheads:  Christine Benz, Morningstar's Dir...</td>\n",
       "      <td>2022-03-13</td>\n",
       "      <td>retired@50</td>\n",
       "      <td>It pays to learn the rules.    Ms. Benz uses t...</td>\n",
       "      <td>9760</td>\n",
       "    </tr>\n",
       "    <tr>\n",
       "      <th>2</th>\n",
       "      <td>372603</td>\n",
       "      <td>2022-03-13</td>\n",
       "      <td>\"20 IRA Mistakes To Avoid\"</td>\n",
       "      <td>Taylor Larimore</td>\n",
       "      <td>Bogleheads:  Christine Benz, Morningstar's Dir...</td>\n",
       "      <td>2022-03-13</td>\n",
       "      <td>JoMoney</td>\n",
       "      <td>That's an unfortunate mistake I've heard more ...</td>\n",
       "      <td>14640</td>\n",
       "    </tr>\n",
       "    <tr>\n",
       "      <th>3</th>\n",
       "      <td>375939</td>\n",
       "      <td>2022-04-21</td>\n",
       "      <td>Bonds: Specific Dollar Amount or Percentage of...</td>\n",
       "      <td>SimpleMan68</td>\n",
       "      <td>When it comes to bonds, do you seek to maintai...</td>\n",
       "      <td>2022-04-21</td>\n",
       "      <td>yules</td>\n",
       "      <td>I think it really depends on your assets. Like...</td>\n",
       "      <td>527</td>\n",
       "    </tr>\n",
       "    <tr>\n",
       "      <th>4</th>\n",
       "      <td>375939</td>\n",
       "      <td>2022-04-21</td>\n",
       "      <td>Bonds: Specific Dollar Amount or Percentage of...</td>\n",
       "      <td>SimpleMan68</td>\n",
       "      <td>When it comes to bonds, do you seek to maintai...</td>\n",
       "      <td>2022-04-21</td>\n",
       "      <td>dbr</td>\n",
       "      <td>There are people who would swear by either of ...</td>\n",
       "      <td>43427</td>\n",
       "    </tr>\n",
       "  </tbody>\n",
       "</table>\n",
       "</div>"
      ],
      "text/plain": [
       "   post_id   post_date                                         post_title  \\\n",
       "0   372603  2022-03-13                         \"20 IRA Mistakes To Avoid\"   \n",
       "1   372603  2022-03-13                         \"20 IRA Mistakes To Avoid\"   \n",
       "2   372603  2022-03-13                         \"20 IRA Mistakes To Avoid\"   \n",
       "3   375939  2022-04-21  Bonds: Specific Dollar Amount or Percentage of...   \n",
       "4   375939  2022-04-21  Bonds: Specific Dollar Amount or Percentage of...   \n",
       "\n",
       "       post_author                                          post_text  \\\n",
       "0  Taylor Larimore  Bogleheads:  Christine Benz, Morningstar's Dir...   \n",
       "1  Taylor Larimore  Bogleheads:  Christine Benz, Morningstar's Dir...   \n",
       "2  Taylor Larimore  Bogleheads:  Christine Benz, Morningstar's Dir...   \n",
       "3      SimpleMan68  When it comes to bonds, do you seek to maintai...   \n",
       "4      SimpleMan68  When it comes to bonds, do you seek to maintai...   \n",
       "\n",
       "   reply_date     replier                                         reply_text  \\\n",
       "0  2022-03-13     rkhusky  Nice compilation of things often mentioned on ...   \n",
       "1  2022-03-13  retired@50  It pays to learn the rules.    Ms. Benz uses t...   \n",
       "2  2022-03-13     JoMoney  That's an unfortunate mistake I've heard more ...   \n",
       "3  2022-04-21       yules  I think it really depends on your assets. Like...   \n",
       "4  2022-04-21         dbr  There are people who would swear by either of ...   \n",
       "\n",
       "   replier_posts_count  \n",
       "0                14330  \n",
       "1                 9760  \n",
       "2                14640  \n",
       "3                  527  \n",
       "4                43427  "
      ]
     },
     "execution_count": 21,
     "metadata": {},
     "output_type": "execute_result"
    }
   ],
   "source": [
    "data.head()"
   ]
  },
  {
   "cell_type": "code",
   "execution_count": 22,
   "metadata": {},
   "outputs": [
    {
     "data": {
      "text/html": [
       "<div>\n",
       "<style scoped>\n",
       "    .dataframe tbody tr th:only-of-type {\n",
       "        vertical-align: middle;\n",
       "    }\n",
       "\n",
       "    .dataframe tbody tr th {\n",
       "        vertical-align: top;\n",
       "    }\n",
       "\n",
       "    .dataframe thead th {\n",
       "        text-align: right;\n",
       "    }\n",
       "</style>\n",
       "<table border=\"1\" class=\"dataframe\">\n",
       "  <thead>\n",
       "    <tr style=\"text-align: right;\">\n",
       "      <th></th>\n",
       "      <th>post_id</th>\n",
       "    </tr>\n",
       "    <tr>\n",
       "      <th>post_title</th>\n",
       "      <th></th>\n",
       "    </tr>\n",
       "  </thead>\n",
       "  <tbody>\n",
       "    <tr>\n",
       "      <th>Trading Treasuries (nominal and TIPS)</th>\n",
       "      <td>2227</td>\n",
       "    </tr>\n",
       "    <tr>\n",
       "      <th>New fee for Vanguard mutual accounts</th>\n",
       "      <td>1257</td>\n",
       "    </tr>\n",
       "    <tr>\n",
       "      <th>Why don't you factor tilt?</th>\n",
       "      <td>821</td>\n",
       "    </tr>\n",
       "    <tr>\n",
       "      <th>Bill Bernstein: \"Playing Inflation Russian Roulette in Retirement\"</th>\n",
       "      <td>773</td>\n",
       "    </tr>\n",
       "    <tr>\n",
       "      <th>Official Registration For The 2022 Boglehead Contest</th>\n",
       "      <td>687</td>\n",
       "    </tr>\n",
       "    <tr>\n",
       "      <th>...</th>\n",
       "      <td>...</td>\n",
       "    </tr>\n",
       "    <tr>\n",
       "      <th>Basic question: What comes first - decline in interest rates or decline in treasury yields?</th>\n",
       "      <td>1</td>\n",
       "    </tr>\n",
       "    <tr>\n",
       "      <th>allocation fund [How do I get total yearly performance?]</th>\n",
       "      <td>1</td>\n",
       "    </tr>\n",
       "    <tr>\n",
       "      <th>analyse nr of holdings in multi-ETF portfolio</th>\n",
       "      <td>1</td>\n",
       "    </tr>\n",
       "    <tr>\n",
       "      <th>another very good Humble Dollar reading.</th>\n",
       "      <td>1</td>\n",
       "    </tr>\n",
       "    <tr>\n",
       "      <th>Morningstar ceasing qualitative research coverage of Vanguard Intermediate-Term Bond Index</th>\n",
       "      <td>1</td>\n",
       "    </tr>\n",
       "  </tbody>\n",
       "</table>\n",
       "<p>3654 rows × 1 columns</p>\n",
       "</div>"
      ],
      "text/plain": [
       "                                                    post_id\n",
       "post_title                                                 \n",
       "Trading Treasuries (nominal and TIPS)                  2227\n",
       "New fee for Vanguard mutual accounts                   1257\n",
       "Why don't you factor tilt?                              821\n",
       "Bill Bernstein: \"Playing Inflation Russian Roul...      773\n",
       "Official Registration For The 2022 Boglehead Co...      687\n",
       "...                                                     ...\n",
       "Basic question: What comes first - decline in i...        1\n",
       "allocation fund [How do I get total yearly perf...        1\n",
       "analyse nr of holdings in multi-ETF portfolio             1\n",
       "another very good Humble Dollar reading.                  1\n",
       "Morningstar ceasing qualitative research covera...        1\n",
       "\n",
       "[3654 rows x 1 columns]"
      ]
     },
     "execution_count": 22,
     "metadata": {},
     "output_type": "execute_result"
    }
   ],
   "source": [
    "data.groupby(\"post_title\").count()[['post_id']].sort_values(\n",
    "  by=\"post_id\", ascending=False)"
   ]
  },
  {
   "cell_type": "code",
   "execution_count": 23,
   "metadata": {},
   "outputs": [],
   "source": [
    "data[\"post_text\"] = data['post_text'].apply(lambda x: expand_contractions(x))\n",
    "data[\"post_title\"] = data['post_title'].apply(lambda x: expand_contractions(x))\n",
    "data[\"reply_text\"] = data['post_text'].apply(lambda x: expand_contractions(x))"
   ]
  },
  {
   "cell_type": "code",
   "execution_count": 24,
   "metadata": {},
   "outputs": [],
   "source": [
    "data['post_text'] = data['post_text'].str.lower()\n",
    "data['post_title'] = data['post_title'].str.lower()\n",
    "data['reply_text'] = data['reply_text'].str.lower()"
   ]
  },
  {
   "cell_type": "code",
   "execution_count": 25,
   "metadata": {},
   "outputs": [],
   "source": [
    "data.duplicated().sum()\n",
    "data.drop_duplicates(inplace=True)"
   ]
  },
  {
   "cell_type": "code",
   "execution_count": 26,
   "metadata": {},
   "outputs": [
    {
     "data": {
      "text/plain": [
       "array(['Taylor Larimore', 'SimpleMan68', 'oklabecca', ..., 'spencydub',\n",
       "       'Ramec358', 'Lou Sevens'], dtype=object)"
      ]
     },
     "execution_count": 26,
     "metadata": {},
     "output_type": "execute_result"
    }
   ],
   "source": [
    "data['post_author'].unique()"
   ]
  },
  {
   "cell_type": "code",
   "execution_count": 27,
   "metadata": {},
   "outputs": [
    {
     "data": {
      "text/plain": [
       "array(['rkhusky', 'retired@50', 'JoMoney', ..., 'curious george',\n",
       "       'HoberMallow', 'benihanna'], dtype=object)"
      ]
     },
     "execution_count": 27,
     "metadata": {},
     "output_type": "execute_result"
    }
   ],
   "source": [
    "data['replier'].unique()"
   ]
  },
  {
   "cell_type": "code",
   "execution_count": 28,
   "metadata": {},
   "outputs": [],
   "source": [
    "data[\"post_text\"] = data['post_text'].apply(lambda x: remove_digits(x))\n",
    "data[\"post_title\"] = data['post_title'].apply(lambda x: remove_digits(x))\n",
    "data[\"reply_text\"] = data['post_text'].apply(lambda x: remove_digits(x))"
   ]
  },
  {
   "cell_type": "code",
   "execution_count": 29,
   "metadata": {},
   "outputs": [],
   "source": [
    "data[\"post_text\"] = data['post_text'].apply(lambda x: remove_punctutation(x))\n",
    "data[\"post_title\"] = data['post_title'].apply(lambda x: remove_punctutation(x))\n",
    "data[\"reply_text\"] = data['post_text'].apply(lambda x: remove_punctutation(x))"
   ]
  },
  {
   "cell_type": "code",
   "execution_count": 30,
   "metadata": {},
   "outputs": [
    {
     "data": {
      "text/html": [
       "<div>\n",
       "<style scoped>\n",
       "    .dataframe tbody tr th:only-of-type {\n",
       "        vertical-align: middle;\n",
       "    }\n",
       "\n",
       "    .dataframe tbody tr th {\n",
       "        vertical-align: top;\n",
       "    }\n",
       "\n",
       "    .dataframe thead th {\n",
       "        text-align: right;\n",
       "    }\n",
       "</style>\n",
       "<table border=\"1\" class=\"dataframe\">\n",
       "  <thead>\n",
       "    <tr style=\"text-align: right;\">\n",
       "      <th></th>\n",
       "      <th>post_id</th>\n",
       "      <th>post_date</th>\n",
       "      <th>post_title</th>\n",
       "      <th>post_author</th>\n",
       "      <th>post_text</th>\n",
       "      <th>reply_date</th>\n",
       "      <th>replier</th>\n",
       "      <th>reply_text</th>\n",
       "      <th>replier_posts_count</th>\n",
       "    </tr>\n",
       "  </thead>\n",
       "  <tbody>\n",
       "    <tr>\n",
       "      <th>0</th>\n",
       "      <td>372603</td>\n",
       "      <td>2022-03-13</td>\n",
       "      <td>ira mistakes to avoid</td>\n",
       "      <td>Taylor Larimore</td>\n",
       "      <td>bogleheads  christine benz morningstars direct...</td>\n",
       "      <td>2022-03-13</td>\n",
       "      <td>rkhusky</td>\n",
       "      <td>bogleheads  christine benz morningstars direct...</td>\n",
       "      <td>14330</td>\n",
       "    </tr>\n",
       "    <tr>\n",
       "      <th>1</th>\n",
       "      <td>372603</td>\n",
       "      <td>2022-03-13</td>\n",
       "      <td>ira mistakes to avoid</td>\n",
       "      <td>Taylor Larimore</td>\n",
       "      <td>bogleheads  christine benz morningstars direct...</td>\n",
       "      <td>2022-03-13</td>\n",
       "      <td>retired@50</td>\n",
       "      <td>bogleheads  christine benz morningstars direct...</td>\n",
       "      <td>9760</td>\n",
       "    </tr>\n",
       "    <tr>\n",
       "      <th>2</th>\n",
       "      <td>372603</td>\n",
       "      <td>2022-03-13</td>\n",
       "      <td>ira mistakes to avoid</td>\n",
       "      <td>Taylor Larimore</td>\n",
       "      <td>bogleheads  christine benz morningstars direct...</td>\n",
       "      <td>2022-03-13</td>\n",
       "      <td>JoMoney</td>\n",
       "      <td>bogleheads  christine benz morningstars direct...</td>\n",
       "      <td>14640</td>\n",
       "    </tr>\n",
       "    <tr>\n",
       "      <th>3</th>\n",
       "      <td>375939</td>\n",
       "      <td>2022-04-21</td>\n",
       "      <td>bonds specific dollar amount or percentage of ...</td>\n",
       "      <td>SimpleMan68</td>\n",
       "      <td>when it comes to bonds do you seek to maintain...</td>\n",
       "      <td>2022-04-21</td>\n",
       "      <td>yules</td>\n",
       "      <td>when it comes to bonds do you seek to maintain...</td>\n",
       "      <td>527</td>\n",
       "    </tr>\n",
       "    <tr>\n",
       "      <th>4</th>\n",
       "      <td>375939</td>\n",
       "      <td>2022-04-21</td>\n",
       "      <td>bonds specific dollar amount or percentage of ...</td>\n",
       "      <td>SimpleMan68</td>\n",
       "      <td>when it comes to bonds do you seek to maintain...</td>\n",
       "      <td>2022-04-21</td>\n",
       "      <td>dbr</td>\n",
       "      <td>when it comes to bonds do you seek to maintain...</td>\n",
       "      <td>43427</td>\n",
       "    </tr>\n",
       "  </tbody>\n",
       "</table>\n",
       "</div>"
      ],
      "text/plain": [
       "   post_id   post_date                                         post_title  \\\n",
       "0   372603  2022-03-13                              ira mistakes to avoid   \n",
       "1   372603  2022-03-13                              ira mistakes to avoid   \n",
       "2   372603  2022-03-13                              ira mistakes to avoid   \n",
       "3   375939  2022-04-21  bonds specific dollar amount or percentage of ...   \n",
       "4   375939  2022-04-21  bonds specific dollar amount or percentage of ...   \n",
       "\n",
       "       post_author                                          post_text  \\\n",
       "0  Taylor Larimore  bogleheads  christine benz morningstars direct...   \n",
       "1  Taylor Larimore  bogleheads  christine benz morningstars direct...   \n",
       "2  Taylor Larimore  bogleheads  christine benz morningstars direct...   \n",
       "3      SimpleMan68  when it comes to bonds do you seek to maintain...   \n",
       "4      SimpleMan68  when it comes to bonds do you seek to maintain...   \n",
       "\n",
       "   reply_date     replier                                         reply_text  \\\n",
       "0  2022-03-13     rkhusky  bogleheads  christine benz morningstars direct...   \n",
       "1  2022-03-13  retired@50  bogleheads  christine benz morningstars direct...   \n",
       "2  2022-03-13     JoMoney  bogleheads  christine benz morningstars direct...   \n",
       "3  2022-04-21       yules  when it comes to bonds do you seek to maintain...   \n",
       "4  2022-04-21         dbr  when it comes to bonds do you seek to maintain...   \n",
       "\n",
       "   replier_posts_count  \n",
       "0                14330  \n",
       "1                 9760  \n",
       "2                14640  \n",
       "3                  527  \n",
       "4                43427  "
      ]
     },
     "execution_count": 30,
     "metadata": {},
     "output_type": "execute_result"
    }
   ],
   "source": [
    "data.head()"
   ]
  },
  {
   "cell_type": "code",
   "execution_count": 31,
   "metadata": {},
   "outputs": [],
   "source": [
    "df = data.copy()"
   ]
  },
  {
   "cell_type": "code",
   "execution_count": 32,
   "metadata": {},
   "outputs": [],
   "source": [
    "df.drop(['post_id', 'post_date', \"post_author\", \"reply_date\", \"replier\"], axis=1, inplace=True)"
   ]
  },
  {
   "cell_type": "code",
   "execution_count": 33,
   "metadata": {},
   "outputs": [
    {
     "data": {
      "text/html": [
       "<div>\n",
       "<style scoped>\n",
       "    .dataframe tbody tr th:only-of-type {\n",
       "        vertical-align: middle;\n",
       "    }\n",
       "\n",
       "    .dataframe tbody tr th {\n",
       "        vertical-align: top;\n",
       "    }\n",
       "\n",
       "    .dataframe thead th {\n",
       "        text-align: right;\n",
       "    }\n",
       "</style>\n",
       "<table border=\"1\" class=\"dataframe\">\n",
       "  <thead>\n",
       "    <tr style=\"text-align: right;\">\n",
       "      <th></th>\n",
       "      <th>post_title</th>\n",
       "      <th>post_text</th>\n",
       "      <th>reply_text</th>\n",
       "      <th>replier_posts_count</th>\n",
       "    </tr>\n",
       "  </thead>\n",
       "  <tbody>\n",
       "    <tr>\n",
       "      <th>0</th>\n",
       "      <td>ira mistakes to avoid</td>\n",
       "      <td>bogleheads  christine benz morningstars direct...</td>\n",
       "      <td>bogleheads  christine benz morningstars direct...</td>\n",
       "      <td>14330</td>\n",
       "    </tr>\n",
       "    <tr>\n",
       "      <th>1</th>\n",
       "      <td>ira mistakes to avoid</td>\n",
       "      <td>bogleheads  christine benz morningstars direct...</td>\n",
       "      <td>bogleheads  christine benz morningstars direct...</td>\n",
       "      <td>9760</td>\n",
       "    </tr>\n",
       "    <tr>\n",
       "      <th>2</th>\n",
       "      <td>ira mistakes to avoid</td>\n",
       "      <td>bogleheads  christine benz morningstars direct...</td>\n",
       "      <td>bogleheads  christine benz morningstars direct...</td>\n",
       "      <td>14640</td>\n",
       "    </tr>\n",
       "    <tr>\n",
       "      <th>3</th>\n",
       "      <td>bonds specific dollar amount or percentage of ...</td>\n",
       "      <td>when it comes to bonds do you seek to maintain...</td>\n",
       "      <td>when it comes to bonds do you seek to maintain...</td>\n",
       "      <td>527</td>\n",
       "    </tr>\n",
       "    <tr>\n",
       "      <th>4</th>\n",
       "      <td>bonds specific dollar amount or percentage of ...</td>\n",
       "      <td>when it comes to bonds do you seek to maintain...</td>\n",
       "      <td>when it comes to bonds do you seek to maintain...</td>\n",
       "      <td>43427</td>\n",
       "    </tr>\n",
       "    <tr>\n",
       "      <th>...</th>\n",
       "      <td>...</td>\n",
       "      <td>...</td>\n",
       "      <td>...</td>\n",
       "      <td>...</td>\n",
       "    </tr>\n",
       "    <tr>\n",
       "      <th>112673</th>\n",
       "      <td>potential error on fidelity otc ytd dividendsc...</td>\n",
       "      <td>hello i believe i have an error and am wonderi...</td>\n",
       "      <td>hello i believe i have an error and am wonderi...</td>\n",
       "      <td>173</td>\n",
       "    </tr>\n",
       "    <tr>\n",
       "      <th>112675</th>\n",
       "      <td>potential error on fidelity otc ytd dividendsc...</td>\n",
       "      <td>hello i believe i have an error and am wonderi...</td>\n",
       "      <td>hello i believe i have an error and am wonderi...</td>\n",
       "      <td>1055</td>\n",
       "    </tr>\n",
       "    <tr>\n",
       "      <th>112676</th>\n",
       "      <td>potential error on fidelity otc ytd dividendsc...</td>\n",
       "      <td>hello i believe i have an error and am wonderi...</td>\n",
       "      <td>hello i believe i have an error and am wonderi...</td>\n",
       "      <td>553</td>\n",
       "    </tr>\n",
       "    <tr>\n",
       "      <th>112677</th>\n",
       "      <td>potential error on fidelity otc ytd dividendsc...</td>\n",
       "      <td>hello i believe i have an error and am wonderi...</td>\n",
       "      <td>hello i believe i have an error and am wonderi...</td>\n",
       "      <td>173</td>\n",
       "    </tr>\n",
       "    <tr>\n",
       "      <th>112678</th>\n",
       "      <td>tips fund returns</td>\n",
       "      <td>the vanguard total bond market has an sec yiel...</td>\n",
       "      <td>the vanguard total bond market has an sec yiel...</td>\n",
       "      <td>11894</td>\n",
       "    </tr>\n",
       "  </tbody>\n",
       "</table>\n",
       "<p>71248 rows × 4 columns</p>\n",
       "</div>"
      ],
      "text/plain": [
       "                                               post_title  \\\n",
       "0                                   ira mistakes to avoid   \n",
       "1                                   ira mistakes to avoid   \n",
       "2                                   ira mistakes to avoid   \n",
       "3       bonds specific dollar amount or percentage of ...   \n",
       "4       bonds specific dollar amount or percentage of ...   \n",
       "...                                                   ...   \n",
       "112673  potential error on fidelity otc ytd dividendsc...   \n",
       "112675  potential error on fidelity otc ytd dividendsc...   \n",
       "112676  potential error on fidelity otc ytd dividendsc...   \n",
       "112677  potential error on fidelity otc ytd dividendsc...   \n",
       "112678                                  tips fund returns   \n",
       "\n",
       "                                                post_text  \\\n",
       "0       bogleheads  christine benz morningstars direct...   \n",
       "1       bogleheads  christine benz morningstars direct...   \n",
       "2       bogleheads  christine benz morningstars direct...   \n",
       "3       when it comes to bonds do you seek to maintain...   \n",
       "4       when it comes to bonds do you seek to maintain...   \n",
       "...                                                   ...   \n",
       "112673  hello i believe i have an error and am wonderi...   \n",
       "112675  hello i believe i have an error and am wonderi...   \n",
       "112676  hello i believe i have an error and am wonderi...   \n",
       "112677  hello i believe i have an error and am wonderi...   \n",
       "112678  the vanguard total bond market has an sec yiel...   \n",
       "\n",
       "                                               reply_text  replier_posts_count  \n",
       "0       bogleheads  christine benz morningstars direct...                14330  \n",
       "1       bogleheads  christine benz morningstars direct...                 9760  \n",
       "2       bogleheads  christine benz morningstars direct...                14640  \n",
       "3       when it comes to bonds do you seek to maintain...                  527  \n",
       "4       when it comes to bonds do you seek to maintain...                43427  \n",
       "...                                                   ...                  ...  \n",
       "112673  hello i believe i have an error and am wonderi...                  173  \n",
       "112675  hello i believe i have an error and am wonderi...                 1055  \n",
       "112676  hello i believe i have an error and am wonderi...                  553  \n",
       "112677  hello i believe i have an error and am wonderi...                  173  \n",
       "112678  the vanguard total bond market has an sec yiel...                11894  \n",
       "\n",
       "[71248 rows x 4 columns]"
      ]
     },
     "execution_count": 33,
     "metadata": {},
     "output_type": "execute_result"
    }
   ],
   "source": [
    "df"
   ]
  },
  {
   "cell_type": "markdown",
   "metadata": {},
   "source": [
    "### Lemmatization"
   ]
  },
  {
   "cell_type": "code",
   "execution_count": 34,
   "metadata": {},
   "outputs": [
    {
     "name": "stderr",
     "output_type": "stream",
     "text": [
      "[nltk_data] Downloading package wordnet to /Users/mohamed/nltk_data...\n",
      "[nltk_data]   Package wordnet is already up-to-date!\n",
      "[nltk_data] Downloading package omw-1.4 to /Users/mohamed/nltk_data...\n",
      "[nltk_data]   Package omw-1.4 is already up-to-date!\n"
     ]
    },
    {
     "data": {
      "text/plain": [
       "True"
      ]
     },
     "execution_count": 34,
     "metadata": {},
     "output_type": "execute_result"
    }
   ],
   "source": [
    "import nltk\n",
    "nltk.download('wordnet')\n",
    "nltk.download('omw-1.4')"
   ]
  },
  {
   "cell_type": "code",
   "execution_count": 35,
   "metadata": {},
   "outputs": [],
   "source": [
    "from nltk.stem import WordNetLemmatizer"
   ]
  },
  {
   "cell_type": "code",
   "execution_count": 36,
   "metadata": {},
   "outputs": [
    {
     "name": "stdout",
     "output_type": "stream",
     "text": [
      "splendid\n"
     ]
    }
   ],
   "source": [
    "lemmatizer = WordNetLemmatizer()\n",
    "print(lemmatizer.lemmatize(\"splendid\"))"
   ]
  },
  {
   "cell_type": "code",
   "execution_count": 37,
   "metadata": {},
   "outputs": [],
   "source": [
    "def lemmatize_text(text):\n",
    "\n",
    "  lemmatizer = WordNetLemmatizer()\n",
    "\n",
    "  words = text.split(\" \")\n",
    "  lem_words = []\n",
    "\n",
    "  for word in words:\n",
    "    lem_words.append(lemmatizer.lemmatize(word))\n",
    "\n",
    "  return \" \".join(lem_words)"
   ]
  },
  {
   "cell_type": "code",
   "execution_count": 38,
   "metadata": {},
   "outputs": [
    {
     "data": {
      "text/plain": [
       "'bogleheads  christine benz morningstars director of personal finance ha written this excellent and timely article about mistake we make with our ira     ira mistake to avoid  best wish taylor'"
      ]
     },
     "execution_count": 38,
     "metadata": {},
     "output_type": "execute_result"
    }
   ],
   "source": [
    "lemmatize_text(df['post_text'][0])"
   ]
  },
  {
   "cell_type": "code",
   "execution_count": 39,
   "metadata": {},
   "outputs": [],
   "source": [
    "df['post_text'] = df[\"post_text\"].apply(lambda x: lemmatize_text(x))\n",
    "df['post_title'] = df[\"post_title\"].apply(lambda x: lemmatize_text(x))\n",
    "df['reply_text'] = df[\"reply_text\"].apply(lambda x: lemmatize_text(x))"
   ]
  },
  {
   "cell_type": "markdown",
   "metadata": {},
   "source": [
    "### Removing Stopwords"
   ]
  },
  {
   "cell_type": "code",
   "execution_count": 40,
   "metadata": {},
   "outputs": [
    {
     "data": {
      "text/plain": [
       "{'a',\n",
       " 'about',\n",
       " 'above',\n",
       " 'after',\n",
       " 'again',\n",
       " 'against',\n",
       " 'ain',\n",
       " 'all',\n",
       " 'am',\n",
       " 'an',\n",
       " 'and',\n",
       " 'any',\n",
       " 'are',\n",
       " 'aren',\n",
       " \"aren't\",\n",
       " 'as',\n",
       " 'at',\n",
       " 'be',\n",
       " 'because',\n",
       " 'been',\n",
       " 'before',\n",
       " 'being',\n",
       " 'below',\n",
       " 'between',\n",
       " 'both',\n",
       " 'but',\n",
       " 'by',\n",
       " 'can',\n",
       " 'couldn',\n",
       " \"couldn't\",\n",
       " 'd',\n",
       " 'did',\n",
       " 'didn',\n",
       " \"didn't\",\n",
       " 'do',\n",
       " 'does',\n",
       " 'doesn',\n",
       " \"doesn't\",\n",
       " 'doing',\n",
       " 'don',\n",
       " \"don't\",\n",
       " 'down',\n",
       " 'during',\n",
       " 'each',\n",
       " 'few',\n",
       " 'for',\n",
       " 'from',\n",
       " 'further',\n",
       " 'had',\n",
       " 'hadn',\n",
       " \"hadn't\",\n",
       " 'has',\n",
       " 'hasn',\n",
       " \"hasn't\",\n",
       " 'have',\n",
       " 'haven',\n",
       " \"haven't\",\n",
       " 'having',\n",
       " 'he',\n",
       " 'her',\n",
       " 'here',\n",
       " 'hers',\n",
       " 'herself',\n",
       " 'him',\n",
       " 'himself',\n",
       " 'his',\n",
       " 'how',\n",
       " 'i',\n",
       " 'if',\n",
       " 'in',\n",
       " 'into',\n",
       " 'is',\n",
       " 'isn',\n",
       " \"isn't\",\n",
       " 'it',\n",
       " \"it's\",\n",
       " 'its',\n",
       " 'itself',\n",
       " 'just',\n",
       " 'll',\n",
       " 'm',\n",
       " 'ma',\n",
       " 'me',\n",
       " 'mightn',\n",
       " \"mightn't\",\n",
       " 'more',\n",
       " 'most',\n",
       " 'mustn',\n",
       " \"mustn't\",\n",
       " 'my',\n",
       " 'myself',\n",
       " 'needn',\n",
       " \"needn't\",\n",
       " 'no',\n",
       " 'nor',\n",
       " 'not',\n",
       " 'now',\n",
       " 'o',\n",
       " 'of',\n",
       " 'off',\n",
       " 'on',\n",
       " 'once',\n",
       " 'only',\n",
       " 'or',\n",
       " 'other',\n",
       " 'our',\n",
       " 'ours',\n",
       " 'ourselves',\n",
       " 'out',\n",
       " 'over',\n",
       " 'own',\n",
       " 're',\n",
       " 's',\n",
       " 'same',\n",
       " 'shan',\n",
       " \"shan't\",\n",
       " 'she',\n",
       " \"she's\",\n",
       " 'should',\n",
       " \"should've\",\n",
       " 'shouldn',\n",
       " \"shouldn't\",\n",
       " 'so',\n",
       " 'some',\n",
       " 'such',\n",
       " 't',\n",
       " 'than',\n",
       " 'that',\n",
       " \"that'll\",\n",
       " 'the',\n",
       " 'their',\n",
       " 'theirs',\n",
       " 'them',\n",
       " 'themselves',\n",
       " 'then',\n",
       " 'there',\n",
       " 'these',\n",
       " 'they',\n",
       " 'this',\n",
       " 'those',\n",
       " 'through',\n",
       " 'to',\n",
       " 'too',\n",
       " 'under',\n",
       " 'until',\n",
       " 'up',\n",
       " 've',\n",
       " 'very',\n",
       " 'was',\n",
       " 'wasn',\n",
       " \"wasn't\",\n",
       " 'we',\n",
       " 'were',\n",
       " 'weren',\n",
       " \"weren't\",\n",
       " 'what',\n",
       " 'when',\n",
       " 'where',\n",
       " 'which',\n",
       " 'while',\n",
       " 'who',\n",
       " 'whom',\n",
       " 'why',\n",
       " 'will',\n",
       " 'with',\n",
       " 'won',\n",
       " \"won't\",\n",
       " 'wouldn',\n",
       " \"wouldn't\",\n",
       " 'y',\n",
       " 'you',\n",
       " \"you'd\",\n",
       " \"you'll\",\n",
       " \"you're\",\n",
       " \"you've\",\n",
       " 'your',\n",
       " 'yours',\n",
       " 'yourself',\n",
       " 'yourselves'}"
      ]
     },
     "execution_count": 40,
     "metadata": {},
     "output_type": "execute_result"
    }
   ],
   "source": [
    "stopword = set(stopwords.words('english'))\n",
    "stopword"
   ]
  },
  {
   "cell_type": "markdown",
   "metadata": {},
   "source": [
    "### Most common words in question post title"
   ]
  },
  {
   "cell_type": "code",
   "execution_count": 42,
   "metadata": {},
   "outputs": [
    {
     "data": {
      "text/plain": [
       "['market',\n",
       " 'vanguard',\n",
       " 'bonds',\n",
       " 'bond',\n",
       " 'funds',\n",
       " 'fund',\n",
       " 'tips',\n",
       " 'stocks',\n",
       " 'vs',\n",
       " 'retirement',\n",
       " 'investing',\n",
       " 'new',\n",
       " 'portfolio',\n",
       " 'stock',\n",
       " 'inflation',\n",
       " 'value',\n",
       " 'money',\n",
       " 'time',\n",
       " 'international']"
      ]
     },
     "execution_count": 42,
     "metadata": {},
     "output_type": "execute_result"
    }
   ],
   "source": [
    "text_prep(data['post_title'], reverse=True)"
   ]
  },
  {
   "cell_type": "markdown",
   "metadata": {},
   "source": [
    "### Most common words in question post"
   ]
  },
  {
   "cell_type": "code",
   "execution_count": 43,
   "metadata": {},
   "outputs": [
    {
     "data": {
      "text/plain": [
       "['market',\n",
       " 'would',\n",
       " 'year',\n",
       " 'fund',\n",
       " 'tips',\n",
       " 'portfolio',\n",
       " 'years',\n",
       " 'bond',\n",
       " 'funds',\n",
       " 'bonds',\n",
       " 'like',\n",
       " 'stocks',\n",
       " 'one',\n",
       " 'stock',\n",
       " 'inflation',\n",
       " 'us',\n",
       " 'time',\n",
       " 'much',\n",
       " 'vanguard']"
      ]
     },
     "execution_count": 43,
     "metadata": {},
     "output_type": "execute_result"
    }
   ],
   "source": [
    "text_prep(data['post_text'], reverse=True)"
   ]
  },
  {
   "cell_type": "markdown",
   "metadata": {},
   "source": [
    "### Most common words in replies"
   ]
  },
  {
   "cell_type": "code",
   "execution_count": 44,
   "metadata": {},
   "outputs": [
    {
     "data": {
      "text/plain": [
       "['market',\n",
       " 'would',\n",
       " 'year',\n",
       " 'fund',\n",
       " 'tips',\n",
       " 'portfolio',\n",
       " 'years',\n",
       " 'bond',\n",
       " 'funds',\n",
       " 'bonds',\n",
       " 'like',\n",
       " 'stocks',\n",
       " 'one',\n",
       " 'stock',\n",
       " 'inflation',\n",
       " 'us',\n",
       " 'time',\n",
       " 'much',\n",
       " 'vanguard']"
      ]
     },
     "execution_count": 44,
     "metadata": {},
     "output_type": "execute_result"
    }
   ],
   "source": [
    "text_prep(data['reply_text'], reverse=True)"
   ]
  },
  {
   "cell_type": "markdown",
   "metadata": {},
   "source": [
    "### Total Number of Unique words in Post titles"
   ]
  },
  {
   "cell_type": "code",
   "execution_count": 45,
   "metadata": {},
   "outputs": [
    {
     "data": {
      "text/plain": [
       "4258"
      ]
     },
     "execution_count": 45,
     "metadata": {},
     "output_type": "execute_result"
    }
   ],
   "source": [
    "len(text_prep(data['post_title'], reverse=True, frequency=True))"
   ]
  },
  {
   "cell_type": "markdown",
   "metadata": {},
   "source": [
    "### Number of Unique words in post text"
   ]
  },
  {
   "cell_type": "code",
   "execution_count": 46,
   "metadata": {},
   "outputs": [
    {
     "data": {
      "text/plain": [
       "18096"
      ]
     },
     "execution_count": 46,
     "metadata": {},
     "output_type": "execute_result"
    }
   ],
   "source": [
    "len(text_prep(data['post_text'], reverse=True, frequency=True))"
   ]
  },
  {
   "cell_type": "markdown",
   "metadata": {},
   "source": [
    "### Number of unique words in post answer"
   ]
  },
  {
   "cell_type": "code",
   "execution_count": 47,
   "metadata": {},
   "outputs": [
    {
     "data": {
      "text/plain": [
       "18096"
      ]
     },
     "execution_count": 47,
     "metadata": {},
     "output_type": "execute_result"
    }
   ],
   "source": [
    "len(text_prep(data['reply_text'], reverse=True, frequency=True))"
   ]
  },
  {
   "cell_type": "markdown",
   "metadata": {},
   "source": [
    "### Maximum length of questions"
   ]
  },
  {
   "cell_type": "code",
   "execution_count": 48,
   "metadata": {},
   "outputs": [
    {
     "data": {
      "text/html": [
       "<div>\n",
       "<style scoped>\n",
       "    .dataframe tbody tr th:only-of-type {\n",
       "        vertical-align: middle;\n",
       "    }\n",
       "\n",
       "    .dataframe tbody tr th {\n",
       "        vertical-align: top;\n",
       "    }\n",
       "\n",
       "    .dataframe thead th {\n",
       "        text-align: right;\n",
       "    }\n",
       "</style>\n",
       "<table border=\"1\" class=\"dataframe\">\n",
       "  <thead>\n",
       "    <tr style=\"text-align: right;\">\n",
       "      <th></th>\n",
       "      <th>post_text</th>\n",
       "      <th>length</th>\n",
       "    </tr>\n",
       "  </thead>\n",
       "  <tbody>\n",
       "    <tr>\n",
       "      <th>0</th>\n",
       "      <td>Hello fellow Bogleheads,  I have an investment...</td>\n",
       "      <td>16469</td>\n",
       "    </tr>\n",
       "  </tbody>\n",
       "</table>\n",
       "</div>"
      ],
      "text/plain": [
       "                                           post_text  length\n",
       "0  Hello fellow Bogleheads,  I have an investment...   16469"
      ]
     },
     "execution_count": 48,
     "metadata": {},
     "output_type": "execute_result"
    }
   ],
   "source": [
    "post_length(column=\"post_text\")"
   ]
  },
  {
   "cell_type": "markdown",
   "metadata": {},
   "source": [
    "### Maximum length of answers"
   ]
  },
  {
   "cell_type": "code",
   "execution_count": 49,
   "metadata": {},
   "outputs": [
    {
     "data": {
      "text/html": [
       "<div>\n",
       "<style scoped>\n",
       "    .dataframe tbody tr th:only-of-type {\n",
       "        vertical-align: middle;\n",
       "    }\n",
       "\n",
       "    .dataframe tbody tr th {\n",
       "        vertical-align: top;\n",
       "    }\n",
       "\n",
       "    .dataframe thead th {\n",
       "        text-align: right;\n",
       "    }\n",
       "</style>\n",
       "<table border=\"1\" class=\"dataframe\">\n",
       "  <thead>\n",
       "    <tr style=\"text-align: right;\">\n",
       "      <th></th>\n",
       "      <th>reply_text</th>\n",
       "      <th>length</th>\n",
       "    </tr>\n",
       "  </thead>\n",
       "  <tbody>\n",
       "    <tr>\n",
       "      <th>0</th>\n",
       "      <td>Thanks for this example. I do have some questi...</td>\n",
       "      <td>26256</td>\n",
       "    </tr>\n",
       "  </tbody>\n",
       "</table>\n",
       "</div>"
      ],
      "text/plain": [
       "                                          reply_text  length\n",
       "0  Thanks for this example. I do have some questi...   26256"
      ]
     },
     "execution_count": 49,
     "metadata": {},
     "output_type": "execute_result"
    }
   ],
   "source": [
    "post_length(column=\"reply_text\")"
   ]
  },
  {
   "cell_type": "markdown",
   "metadata": {},
   "source": [
    "### Minimum length of questions"
   ]
  },
  {
   "cell_type": "code",
   "execution_count": 50,
   "metadata": {},
   "outputs": [
    {
     "data": {
      "text/html": [
       "<div>\n",
       "<style scoped>\n",
       "    .dataframe tbody tr th:only-of-type {\n",
       "        vertical-align: middle;\n",
       "    }\n",
       "\n",
       "    .dataframe tbody tr th {\n",
       "        vertical-align: top;\n",
       "    }\n",
       "\n",
       "    .dataframe thead th {\n",
       "        text-align: right;\n",
       "    }\n",
       "</style>\n",
       "<table border=\"1\" class=\"dataframe\">\n",
       "  <thead>\n",
       "    <tr style=\"text-align: right;\">\n",
       "      <th></th>\n",
       "      <th>post_text</th>\n",
       "      <th>length</th>\n",
       "    </tr>\n",
       "  </thead>\n",
       "  <tbody>\n",
       "    <tr>\n",
       "      <th>0</th>\n",
       "      <td>Why?</td>\n",
       "      <td>4</td>\n",
       "    </tr>\n",
       "  </tbody>\n",
       "</table>\n",
       "</div>"
      ],
      "text/plain": [
       "  post_text  length\n",
       "0      Why?       4"
      ]
     },
     "execution_count": 50,
     "metadata": {},
     "output_type": "execute_result"
    }
   ],
   "source": [
    "post_length(column=\"post_text\", output=\"min\")"
   ]
  },
  {
   "cell_type": "markdown",
   "metadata": {},
   "source": [
    "### Minimum length of answers"
   ]
  },
  {
   "cell_type": "code",
   "execution_count": 51,
   "metadata": {},
   "outputs": [
    {
     "data": {
      "text/html": [
       "<div>\n",
       "<style scoped>\n",
       "    .dataframe tbody tr th:only-of-type {\n",
       "        vertical-align: middle;\n",
       "    }\n",
       "\n",
       "    .dataframe tbody tr th {\n",
       "        vertical-align: top;\n",
       "    }\n",
       "\n",
       "    .dataframe thead th {\n",
       "        text-align: right;\n",
       "    }\n",
       "</style>\n",
       "<table border=\"1\" class=\"dataframe\">\n",
       "  <thead>\n",
       "    <tr style=\"text-align: right;\">\n",
       "      <th></th>\n",
       "      <th>reply_text</th>\n",
       "      <th>length</th>\n",
       "    </tr>\n",
       "  </thead>\n",
       "  <tbody>\n",
       "    <tr>\n",
       "      <th>0</th>\n",
       "      <td>.</td>\n",
       "      <td>1</td>\n",
       "    </tr>\n",
       "    <tr>\n",
       "      <th>1</th>\n",
       "      <td>♠</td>\n",
       "      <td>1</td>\n",
       "    </tr>\n",
       "    <tr>\n",
       "      <th>2</th>\n",
       "      <td>↑</td>\n",
       "      <td>1</td>\n",
       "    </tr>\n",
       "  </tbody>\n",
       "</table>\n",
       "</div>"
      ],
      "text/plain": [
       "  reply_text  length\n",
       "0          .       1\n",
       "1          ♠       1\n",
       "2          ↑       1"
      ]
     },
     "execution_count": 51,
     "metadata": {},
     "output_type": "execute_result"
    }
   ],
   "source": [
    "post_length(column=\"reply_text\", output=\"min\")"
   ]
  },
  {
   "cell_type": "markdown",
   "metadata": {},
   "source": [
    "### Average length of questions"
   ]
  },
  {
   "cell_type": "code",
   "execution_count": 52,
   "metadata": {},
   "outputs": [
    {
     "name": "stdout",
     "output_type": "stream",
     "text": [
      "Average length of questions: 899\n"
     ]
    }
   ],
   "source": [
    "avg = int(np.mean(data[\"post_text\"].str.len()))\n",
    "print(f\"Average length of questions: {avg}\")"
   ]
  },
  {
   "cell_type": "markdown",
   "metadata": {},
   "source": [
    "### Average length of answers"
   ]
  },
  {
   "cell_type": "code",
   "execution_count": 53,
   "metadata": {},
   "outputs": [
    {
     "name": "stdout",
     "output_type": "stream",
     "text": [
      "Average length of answers: 899\n"
     ]
    }
   ],
   "source": [
    "avg = int(np.mean(data[\"reply_text\"].str.len()))\n",
    "print(f\"Average length of answers: {avg}\")"
   ]
  },
  {
   "cell_type": "markdown",
   "metadata": {},
   "source": [
    "### Most common part of speech tags"
   ]
  },
  {
   "cell_type": "code",
   "execution_count": 54,
   "metadata": {},
   "outputs": [],
   "source": [
    "question_pos = text_prep(data[\"post_text\"], pos=True)"
   ]
  },
  {
   "cell_type": "code",
   "execution_count": 55,
   "metadata": {},
   "outputs": [],
   "source": [
    "answer_pos = text_prep(data[\"reply_text\"], pos=True)"
   ]
  },
  {
   "cell_type": "code",
   "execution_count": 56,
   "metadata": {},
   "outputs": [
    {
     "data": {
      "text/plain": [
       "['NN',\n",
       " 'JJ',\n",
       " 'NNS',\n",
       " 'NNP',\n",
       " 'VBP',\n",
       " 'RB',\n",
       " 'VBG',\n",
       " 'VBD',\n",
       " 'VB',\n",
       " 'VBZ',\n",
       " 'VBN',\n",
       " 'IN',\n",
       " 'MD',\n",
       " 'CD',\n",
       " 'JJR',\n",
       " 'PRP',\n",
       " 'JJS',\n",
       " 'RBR',\n",
       " 'FW',\n",
       " 'DT']"
      ]
     },
     "execution_count": 56,
     "metadata": {},
     "output_type": "execute_result"
    }
   ],
   "source": [
    "question_pos"
   ]
  },
  {
   "cell_type": "code",
   "execution_count": 57,
   "metadata": {},
   "outputs": [
    {
     "data": {
      "text/plain": [
       "['NN',\n",
       " 'JJ',\n",
       " 'NNS',\n",
       " 'NNP',\n",
       " 'VBP',\n",
       " 'RB',\n",
       " 'VBG',\n",
       " 'VBD',\n",
       " 'VB',\n",
       " 'VBZ',\n",
       " 'VBN',\n",
       " 'IN',\n",
       " 'MD',\n",
       " 'CD',\n",
       " 'JJR',\n",
       " 'PRP',\n",
       " 'JJS',\n",
       " 'RBR',\n",
       " 'FW',\n",
       " 'DT']"
      ]
     },
     "execution_count": 57,
     "metadata": {},
     "output_type": "execute_result"
    }
   ],
   "source": [
    "answer_pos"
   ]
  },
  {
   "cell_type": "markdown",
   "metadata": {},
   "source": [
    "### Most occuring named entities in Questions"
   ]
  },
  {
   "cell_type": "code",
   "execution_count": 109,
   "metadata": {},
   "outputs": [
    {
     "data": {
      "text/plain": [
       "[(('years', 'DATE'), 561),\n",
       " (('one', 'CARDINAL'), 395),\n",
       " (('today', 'DATE'), 335),\n",
       " (('two', 'CARDINAL'), 317),\n",
       " (('year', 'DATE'), 286),\n",
       " (('first', 'ORDINAL'), 286),\n",
       " (('roth', 'PERSON'), 277),\n",
       " (('fed', 'ORG'), 204),\n",
       " (('treasury', 'ORG'), 196),\n",
       " (('annual', 'DATE'), 176),\n",
       " (('us', 'GPE'), 171),\n",
       " (('fidelity', 'ORG'), 170),\n",
       " (('this year', 'DATE'), 161),\n",
       " (('monthly', 'DATE'), 154),\n",
       " (('three', 'CARDINAL'), 120),\n",
       " (('sec', 'ORG'), 107),\n",
       " (('zero', 'CARDINAL'), 105),\n",
       " (('irs', 'ORG'), 91),\n",
       " (('second', 'ORDINAL'), 80),\n",
       " (('the year', 'DATE'), 79),\n",
       " (('taylor', 'PERSON'), 78),\n",
       " (('the john c bogle center for financial literacy', 'ORG'), 74),\n",
       " (('a  year', 'DATE'), 74),\n",
       " (('months', 'DATE'), 72),\n",
       " (('february', 'DATE'), 68),\n",
       " (('a year', 'DATE'), 66),\n",
       " (('april', 'DATE'), 66),\n",
       " (('january', 'DATE'), 64),\n",
       " (('month', 'DATE'), 60),\n",
       " (('october', 'DATE'), 60),\n",
       " (('december', 'DATE'), 59),\n",
       " (('the next  years', 'DATE'), 55),\n",
       " (('daily', 'DATE'), 54),\n",
       " (('roth ira', 'PERSON'), 53),\n",
       " (('annually', 'DATE'), 52),\n",
       " (('max', 'PERSON'), 51),\n",
       " (('days', 'DATE'), 51),\n",
       " (('the day', 'DATE'), 50),\n",
       " (('last year', 'DATE'), 49),\n",
       " (('the  year', 'DATE'), 48),\n",
       " (('each year', 'DATE'), 46),\n",
       " (('the last  years', 'DATE'), 46),\n",
       " (('weekly', 'DATE'), 46),\n",
       " (('ps', 'ORG'), 44),\n",
       " (('june', 'DATE'), 42),\n",
       " (('half', 'CARDINAL'), 41),\n",
       " (('july', 'DATE'), 40),\n",
       " (('yesterday', 'DATE'), 39),\n",
       " (('november', 'DATE'), 39),\n",
       " (('american', 'NORP'), 39),\n",
       " (('week', 'DATE'), 38),\n",
       " (('the years', 'DATE'), 36),\n",
       " (('jon luskin cfp®', 'PERSON'), 36),\n",
       " (('china', 'GPE'), 36),\n",
       " (('larry', 'PERSON'), 34),\n",
       " (('next year', 'DATE'), 32),\n",
       " (('a few years', 'DATE'), 31),\n",
       " (('russia', 'GPE'), 31),\n",
       " (('this morning', 'TIME'), 30),\n",
       " (('decades', 'DATE'), 30),\n",
       " (('thursday', 'DATE'), 30),\n",
       " (('rick', 'PERSON'), 29),\n",
       " (('jack bogle', 'PERSON'), 29),\n",
       " (('weeks', 'DATE'), 29),\n",
       " (('september', 'DATE'), 29),\n",
       " (('quarterly', 'DATE'), 29),\n",
       " (('august', 'DATE'), 28),\n",
       " (('day', 'DATE'), 26),\n",
       " (('years ago', 'DATE'), 26),\n",
       " (('yahoo', 'ORG'), 25),\n",
       " (('about  years', 'DATE'), 25),\n",
       " (('wellington', 'GPE'), 23),\n",
       " (('one year', 'DATE'), 23),\n",
       " (('four', 'CARDINAL'), 22),\n",
       " (('every year', 'DATE'), 21),\n",
       " (('europe', 'LOC'), 21),\n",
       " (('japan', 'GPE'), 20),\n",
       " (('the next year', 'DATE'), 20),\n",
       " (('vanguard’s', 'ORG'), 20),\n",
       " (('many years', 'DATE'), 19),\n",
       " (('tomorrow', 'DATE'), 19),\n",
       " (('rick ferri', 'PERSON'), 19),\n",
       " (('over  years', 'DATE'), 19),\n",
       " (('march', 'DATE'), 19),\n",
       " (('the end of the year', 'DATE'), 19),\n",
       " (('third', 'ORDINAL'), 18),\n",
       " (('mm', 'PERSON'), 18),\n",
       " (('john bogle', 'PERSON'), 17),\n",
       " (('russian', 'NORP'), 17),\n",
       " (('yearly', 'DATE'), 17),\n",
       " (('million', 'CARDINAL'), 17),\n",
       " (('friday', 'DATE'), 17),\n",
       " (('only one', 'CARDINAL'), 17),\n",
       " (('wednesday', 'DATE'), 17),\n",
       " (('the weeks', 'DATE'), 16),\n",
       " (('etfs', 'PERSON'), 16),\n",
       " (('the past  years', 'DATE'), 15),\n",
       " (('monday', 'DATE'), 15),\n",
       " (('a month', 'DATE'), 15),\n",
       " (('kevin', 'ORG'), 15),\n",
       " (('the month', 'DATE'), 15),\n",
       " (('ref', 'ORG'), 15),\n",
       " (('european', 'NORP'), 15),\n",
       " (('jack', 'PERSON'), 14),\n",
       " (('several years', 'DATE'), 14),\n",
       " (('ukraine', 'GPE'), 14),\n",
       " (('the  day', 'DATE'), 13),\n",
       " (('cnbc', 'ORG'), 13),\n",
       " (('allan roth', 'PERSON'), 13),\n",
       " (('california', 'GPE'), 13),\n",
       " (('morning', 'TIME'), 13),\n",
       " (('the last year', 'DATE'), 12),\n",
       " (('five', 'CARDINAL'), 12),\n",
       " (('japanese', 'NORP'), 12),\n",
       " (('at least  years', 'DATE'), 12),\n",
       " (('that year', 'DATE'), 12),\n",
       " (('roth ira account', 'PERSON'), 11),\n",
       " (('every month', 'DATE'), 11),\n",
       " (('mexico', 'GPE'), 11),\n",
       " (('hours', 'TIME'), 11),\n",
       " (('this week', 'DATE'), 11),\n",
       " (('the next  months', 'DATE'), 10),\n",
       " (('one day', 'DATE'), 10),\n",
       " (('a decade', 'DATE'), 10),\n",
       " (('the next decade', 'DATE'), 10),\n",
       " (('earlier this year', 'DATE'), 10),\n",
       " (('americans', 'NORP'), 10),\n",
       " (('the past few years', 'DATE'), 10),\n",
       " (('british', 'NORP'), 10),\n",
       " (('mike piper', 'PERSON'), 10),\n",
       " (('chinese', 'NORP'), 10),\n",
       " (('longshort', 'GPE'), 10),\n",
       " (('a  year old', 'DATE'), 10),\n",
       " (('millions', 'CARDINAL'), 10),\n",
       " (('the beginning of the year', 'DATE'), 10),\n",
       " (('the past year', 'DATE'), 10),\n",
       " (('french', 'NORP'), 10),\n",
       " (('avuv', 'ORG'), 10),\n",
       " (('uk', 'GPE'), 10),\n",
       " (('the fraction of days', 'DATE'), 10),\n",
       " (('pdf', 'ORG'), 9),\n",
       " (('at least one', 'CARDINAL'), 9),\n",
       " (('the week', 'DATE'), 9),\n",
       " (('the federal reserve', 'ORG'), 9),\n",
       " (('the  years', 'DATE'), 9),\n",
       " (('the first  years', 'DATE'), 9),\n",
       " (('a few days', 'DATE'), 9),\n",
       " (('three years', 'DATE'), 9),\n",
       " (('tuesday', 'DATE'), 9),\n",
       " (('a  month', 'DATE'), 9),\n",
       " (('recent years', 'DATE'), 9),\n",
       " (('enjoy jon luskin host', 'PERSON'), 9),\n",
       " (('around  years', 'DATE'), 9),\n",
       " (('a  day', 'DATE'), 9),\n",
       " (('schwab', 'PERSON'), 8),\n",
       " (('a year ago', 'DATE'), 8),\n",
       " (('a few months', 'DATE'), 8),\n",
       " (('the past decade', 'DATE'), 8),\n",
       " (('thousands', 'CARDINAL'), 8),\n",
       " (('four percent', 'PERCENT'), 8),\n",
       " (('the  week', 'DATE'), 8),\n",
       " (('xyz', 'ORG'), 8),\n",
       " (('thirty years', 'DATE'), 8),\n",
       " (('america', 'GPE'), 8),\n",
       " (('bloomberg', 'PERSON'), 8),\n",
       " (('michael', 'PERSON'), 8),\n",
       " (('this years', 'DATE'), 8),\n",
       " (('these days', 'DATE'), 8),\n",
       " (('jonathan clements', 'PERSON'), 7),\n",
       " (('roth k', 'PERSON'), 7),\n",
       " (('jim', 'PERSON'), 7),\n",
       " (('only  years', 'DATE'), 7),\n",
       " (('bank of america', 'ORG'), 7),\n",
       " (('the next few years', 'DATE'), 7),\n",
       " (('roth ira  ', 'PERSON'), 7),\n",
       " (('xx', 'PERSON'), 7),\n",
       " (('the last month', 'DATE'), 7),\n",
       " (('each month', 'DATE'), 7),\n",
       " (('six months', 'DATE'), 7),\n",
       " (('canadian', 'NORP'), 7),\n",
       " (('ten years', 'DATE'), 7),\n",
       " (('scv', 'NORP'), 7),\n",
       " (('the wall street journal', 'ORG'), 7),\n",
       " (('the  century', 'DATE'), 7),\n",
       " (('a few months ago', 'DATE'), 7),\n",
       " (('ten', 'CARDINAL'), 7),\n",
       " (('paul merriman', 'PERSON'), 7),\n",
       " (('last  years', 'DATE'), 7),\n",
       " (('the next month', 'DATE'), 7),\n",
       " (('only two', 'CARDINAL'), 7),\n",
       " (('jason zweig', 'PERSON'), 7),\n",
       " (('endofday', 'DATE'), 6),\n",
       " (('spx', 'CARDINAL'), 6),\n",
       " (('the weekend', 'DATE'), 6),\n",
       " (('charles schwab', 'PERSON'), 6),\n",
       " (('eduardo', 'ORG'), 6),\n",
       " (('warren buffett', 'PERSON'), 6),\n",
       " (('eric balchunas', 'PERSON'), 6),\n",
       " (('thursday april', 'DATE'), 6),\n",
       " (('six', 'CARDINAL'), 6),\n",
       " (('the past  months', 'DATE'), 6),\n",
       " (('night', 'TIME'), 6),\n",
       " (('this month', 'DATE'), 6),\n",
       " (('the last  months', 'DATE'), 6),\n",
       " (('ben', 'PERSON'), 6),\n",
       " (('oct', 'DATE'), 6),\n",
       " (('german', 'NORP'), 6),\n",
       " (('vanguard', 'ORG'), 6),\n",
       " (('trad ira', 'PERSON'), 6),\n",
       " (('last week', 'DATE'), 6),\n",
       " (('semiannual', 'DATE'), 6),\n",
       " (('the  month', 'DATE'), 6),\n",
       " (('five years', 'DATE'), 6),\n",
       " (('this weeks', 'DATE'), 6),\n",
       " (('one week', 'DATE'), 6),\n",
       " (('the last  days', 'DATE'), 6),\n",
       " (('months ago', 'DATE'), 6),\n",
       " (('avantis', 'ORG'), 6),\n",
       " (('agg', 'ORG'), 6),\n",
       " (('about year', 'DATE'), 6),\n",
       " (('london', 'GPE'), 6),\n",
       " (('the first four months', 'DATE'), 6),\n",
       " (('paul tudor', 'PERSON'), 6),\n",
       " (('next week', 'DATE'), 5),\n",
       " (('a week', 'DATE'), 5),\n",
       " (('trillions', 'CARDINAL'), 5),\n",
       " (('pm eastern time  pm pacific', 'TIME'), 5),\n",
       " (('previous years', 'DATE'), 5),\n",
       " (('google', 'ORG'), 5),\n",
       " (('merrill edge', 'ORG'), 5),\n",
       " (('the new year', 'DATE'), 5),\n",
       " (('the last few years', 'DATE'), 5),\n",
       " (('another  years', 'DATE'), 5),\n",
       " (('another year', 'DATE'), 5),\n",
       " (('new year', 'DATE'), 5),\n",
       " (('last years', 'DATE'), 5),\n",
       " (('only three', 'CARDINAL'), 5),\n",
       " (('a few minutes', 'TIME'), 5),\n",
       " (('a few years ago', 'DATE'), 5),\n",
       " (('susan dziubinski', 'PERSON'), 5),\n",
       " (('meme', 'GPE'), 5),\n",
       " (('edward jones', 'PERSON'), 5),\n",
       " (('john rekenthaler', 'PERSON'), 5),\n",
       " (('william bernstein', 'PERSON'), 5),\n",
       " (('taiwan', 'GPE'), 5),\n",
       " (('the current year', 'DATE'), 5),\n",
       " (('a year period', 'DATE'), 5),\n",
       " (('the next day', 'DATE'), 5),\n",
       " (('texas', 'GPE'), 5),\n",
       " (('ben carlson', 'PERSON'), 5),\n",
       " (('two years', 'DATE'), 5),\n",
       " (('asia', 'LOC'), 5),\n",
       " (('about  million', 'CARDINAL'), 5),\n",
       " (('pm eastern', 'TIME'), 5),\n",
       " (('thanksgiving', 'DATE'), 5),\n",
       " (('hundreds', 'CARDINAL'), 5),\n",
       " (('florida', 'GPE'), 5),\n",
       " (('more than one', 'CARDINAL'), 5),\n",
       " (('seasonally', 'DATE'), 5),\n",
       " (('each day', 'DATE'), 5),\n",
       " (('about  percent', 'PERCENT'), 5),\n",
       " (('australian', 'NORP'), 5),\n",
       " (('microsoft', 'ORG'), 4),\n",
       " (('the next two years', 'DATE'), 4),\n",
       " (('more than  years', 'DATE'), 4),\n",
       " (('every  months', 'DATE'), 4),\n",
       " (('mike', 'PERSON'), 4),\n",
       " (('pm eastern time  pm pacific  ', 'TIME'), 4),\n",
       " (('nick gendron', 'PERSON'), 4),\n",
       " (('year two', 'DATE'), 4),\n",
       " (('fidelity vanguard', 'ORG'), 4),\n",
       " (('fidelity’s', 'ORG'), 4),\n",
       " (('the decade', 'DATE'), 4),\n",
       " (('mark hulbert', 'PERSON'), 4),\n",
       " (('the last two years', 'DATE'), 4),\n",
       " (('afternoon', 'TIME'), 4),\n",
       " (('david', 'PERSON'), 4),\n",
       " (('david swensen', 'PERSON'), 4),\n",
       " (('barry ritholtz', 'PERSON'), 4),\n",
       " (('medicare', 'ORG'), 4),\n",
       " (('the same day', 'DATE'), 4),\n",
       " (('bil', 'ORG'), 4),\n",
       " (('the first decade', 'DATE'), 4),\n",
       " (('morgan', 'PERSON'), 4),\n",
       " (('rick ferris', 'PERSON'), 4),\n",
       " (('a single year', 'DATE'), 4),\n",
       " (('evening', 'TIME'), 4),\n",
       " (('kevin m', 'PERSON'), 4),\n",
       " (('last summer', 'DATE'), 4),\n",
       " (('future years', 'DATE'), 4),\n",
       " (('tonight', 'TIME'), 4),\n",
       " (('chicago', 'GPE'), 4),\n",
       " (('the next year or so', 'DATE'), 4),\n",
       " (('less than  years', 'DATE'), 4),\n",
       " (('the bay area', 'LOC'), 4),\n",
       " (('karen damato', 'PERSON'), 4),\n",
       " (('many years ago', 'DATE'), 4),\n",
       " (('two decades', 'DATE'), 4),\n",
       " (('buckingham', 'GPE'), 4),\n",
       " (('several months', 'DATE'), 4),\n",
       " (('minutes', 'TIME'), 4),\n",
       " (('sharpe', 'PERSON'), 4),\n",
       " (('more than a decade', 'DATE'), 4),\n",
       " (('quarter', 'DATE'), 4),\n",
       " (('that day', 'DATE'), 4),\n",
       " (('dan egan', 'PERSON'), 4),\n",
       " (('fm', 'PERSON'), 4),\n",
       " (('next weeks', 'DATE'), 4),\n",
       " (('safari', 'PERSON'), 4),\n",
       " (('oneyear', 'DATE'), 4),\n",
       " (('msci usa', 'ORG'), 4),\n",
       " (('the first year', 'DATE'), 4),\n",
       " (('doc', 'ORG'), 4),\n",
       " (('db', 'GPE'), 4),\n",
       " (('a few thousand', 'CARDINAL'), 3),\n",
       " (('each week', 'DATE'), 3),\n",
       " (('a  year period', 'DATE'), 3),\n",
       " (('almost  years', 'DATE'), 3),\n",
       " (('the california institute of technology', 'ORG'), 3),\n",
       " (('vanguard schwab', 'ORG'), 3),\n",
       " (('nine', 'CARDINAL'), 3),\n",
       " (('next years', 'DATE'), 3),\n",
       " (('healthcare', 'ORG'), 3),\n",
       " (('jim dahle', 'PERSON'), 3),\n",
       " (('the united states', 'GPE'), 3),\n",
       " (('one month', 'DATE'), 3),\n",
       " (('bloomberg', 'GPE'), 3),\n",
       " (('harry sit', 'PERSON'), 3),\n",
       " (('paul', 'PERSON'), 3),\n",
       " (('the past week', 'DATE'), 3),\n",
       " (('next  years', 'DATE'), 3),\n",
       " (('a few weeks ago', 'DATE'), 3),\n",
       " (('ibm', 'ORG'), 3),\n",
       " (('the last decade', 'DATE'), 3),\n",
       " (('navy', 'ORG'), 3),\n",
       " (('two years ago', 'DATE'), 3),\n",
       " (('those months', 'DATE'), 3),\n",
       " (('swan', 'NORP'), 3),\n",
       " (('two weeks', 'DATE'), 3),\n",
       " (('these past few years', 'DATE'), 3),\n",
       " (('years  months', 'DATE'), 3),\n",
       " (('bogleheadsorg', 'ORG'), 3),\n",
       " (('xle', 'ORG'), 3),\n",
       " (('tbm', 'ORG'), 3),\n",
       " (('nyu', 'ORG'), 3),\n",
       " (('robin wigglesworth', 'PERSON'), 3),\n",
       " (('pm eastern   pm pacific', 'TIME'), 3),\n",
       " (('thursday june', 'DATE'), 3),\n",
       " (('bidask', 'ORG'), 3),\n",
       " (('dozens', 'CARDINAL'), 3),\n",
       " (('msci', 'PERSON'), 3),\n",
       " (('just  years', 'DATE'), 3),\n",
       " (('the past several months', 'DATE'), 3),\n",
       " (('the following year', 'DATE'), 3),\n",
       " (('a year old', 'DATE'), 3),\n",
       " (('bad years', 'DATE'), 3),\n",
       " (('a given year', 'DATE'), 3),\n",
       " (('mel', 'PERSON'), 3),\n",
       " (('some years', 'DATE'), 3),\n",
       " (('hundreds of years', 'DATE'), 3),\n",
       " (('million dollar', 'MONEY'), 3),\n",
       " (('a couple of years', 'DATE'), 3),\n",
       " (('roughly  years', 'DATE'), 3),\n",
       " (('those years', 'DATE'), 3),\n",
       " (('christmas', 'DATE'), 3),\n",
       " (('the end of the day', 'DATE'), 3),\n",
       " (('vanguard etfs', 'PERSON'), 3),\n",
       " (('ryan barrett', 'PERSON'), 3),\n",
       " (('the coming year', 'DATE'), 3),\n",
       " (('a full year', 'DATE'), 3),\n",
       " (('two year', 'DATE'), 3),\n",
       " (('a couple of years ago', 'DATE'), 3),\n",
       " (('morgan stanley', 'ORG'), 3),\n",
       " (('canada', 'GPE'), 3),\n",
       " (('about a year ago', 'DATE'), 3),\n",
       " (('charles ellis', 'PERSON'), 3),\n",
       " (('over  percent', 'PERCENT'), 3),\n",
       " (('last friday', 'DATE'), 3),\n",
       " (('earlier this month', 'DATE'), 3),\n",
       " (('a million dollars', 'MONEY'), 3),\n",
       " (('decades ago', 'DATE'), 3),\n",
       " (('mar', 'PERSON'), 3),\n",
       " (('ford', 'ORG'), 3),\n",
       " (('the last few days', 'DATE'), 3),\n",
       " (('swedish', 'NORP'), 3),\n",
       " (('every week', 'DATE'), 3),\n",
       " (('year end', 'DATE'), 3),\n",
       " (('chris', 'PERSON'), 3),\n",
       " (('nick maggiulli', 'PERSON'), 3),\n",
       " (('html', 'GPE'), 3),\n",
       " (('vanguard wellington', 'PERSON'), 3),\n",
       " (('millions of dollars', 'MONEY'), 3),\n",
       " (('another  days', 'DATE'), 3),\n",
       " (('a few weeks', 'DATE'), 3),\n",
       " (('sean mullaney', 'PERSON'), 3),\n",
       " (('breakeven', 'CARDINAL'), 3),\n",
       " (('the end of september', 'DATE'), 3),\n",
       " (('etf vteb', 'PERSON'), 3),\n",
       " (('united states', 'GPE'), 3),\n",
       " (('letsencrypt', 'GPE'), 3),\n",
       " (('cnn', 'ORG'), 3),\n",
       " (('the past few weeks', 'DATE'), 3),\n",
       " (('the last week', 'DATE'), 3),\n",
       " (('days ago', 'DATE'), 3),\n",
       " (('the last  hours', 'TIME'), 3),\n",
       " (('william sharpe', 'PERSON'), 3),\n",
       " (('the first of the month', 'DATE'), 3),\n",
       " (('april    ', 'DATE'), 3),\n",
       " (('enron', 'ORG'), 3),\n",
       " (('uncle sam', 'PERSON'), 3),\n",
       " (('google spotify', 'ORG'), 3),\n",
       " (('the two weeks', 'DATE'), 3),\n",
       " (('about  months', 'DATE'), 3),\n",
       " (('nsa', 'ORG'), 3),\n",
       " (('ira', 'GPE'), 3),\n",
       " (('last month', 'DATE'), 3),\n",
       " (('a few years later', 'DATE'), 3),\n",
       " (('five year', 'DATE'), 3),\n",
       " (('about  minutes', 'TIME'), 3),\n",
       " (('ten year', 'DATE'), 3),\n",
       " (('robert farrington', 'PERSON'), 3),\n",
       " (('new york', 'GPE'), 3),\n",
       " (('the start of the year', 'DATE'), 3),\n",
       " (('boston', 'GPE'), 3),\n",
       " (('bloomberg tv', 'ORG'), 3),\n",
       " (('the next  days', 'DATE'), 3),\n",
       " (('the us government', 'ORG'), 3),\n",
       " (('antti', 'ORG'), 3),\n",
       " (('zeros', 'CARDINAL'), 3),\n",
       " (('the us treasury', 'ORG'), 3),\n",
       " (('the rolling month', 'DATE'), 3),\n",
       " (('early january', 'DATE'), 3),\n",
       " (('trad k', 'PERSON'), 3),\n",
       " (('zzz', 'CARDINAL'), 3),\n",
       " (('eu', 'GPE'), 3),\n",
       " (('fourmonth', 'ORDINAL'), 3),\n",
       " (('saturday', 'DATE'), 2),\n",
       " (('roth ira      ', 'PERSON'), 2),\n",
       " (('about  a year', 'DATE'), 2),\n",
       " (('tenyear', 'DATE'), 2),\n",
       " (('the end of this year', 'DATE'), 2),\n",
       " (('close to zero', 'CARDINAL'), 2),\n",
       " (('about one', 'CARDINAL'), 2),\n",
       " (('some months', 'DATE'), 2),\n",
       " (('the next week', 'DATE'), 2),\n",
       " (('warren buffet', 'PERSON'), 2),\n",
       " (('vanguard wellesley', 'ORG'), 2),\n",
       " (('david enna', 'PERSON'), 2),\n",
       " (('less than one year', 'DATE'), 2),\n",
       " (('over  billion', 'MONEY'), 2),\n",
       " (('ffezx', 'ORG'), 2),\n",
       " (('mdy', 'ORG'), 2),\n",
       " (('overnight', 'TIME'), 2),\n",
       " (('a few years from', 'DATE'), 2),\n",
       " (('josh barrickman', 'PERSON'), 2),\n",
       " (('bloomberg', 'ORG'), 2),\n",
       " (('josh barrickman principal', 'PERSON'), 2),\n",
       " (('multiasset', 'ORG'), 2),\n",
       " (('mexican', 'NORP'), 2),\n",
       " (('charlie', 'PERSON'), 2),\n",
       " (('benjamin graham', 'PERSON'), 2),\n",
       " (('earlier this week', 'DATE'), 2),\n",
       " (('buff', 'PERSON'), 2),\n",
       " (('george sistri', 'PERSON'), 2),\n",
       " (('msci eafe', 'PERSON'), 2),\n",
       " (('recent months', 'DATE'), 2),\n",
       " (('carter', 'PERSON'), 2),\n",
       " (('the three years', 'DATE'), 2),\n",
       " (('the next  year', 'DATE'), 2),\n",
       " (('the entire year', 'DATE'), 2),\n",
       " (('the remaining  years', 'DATE'), 2),\n",
       " (('twenty percent', 'PERCENT'), 2),\n",
       " (('britain', 'GPE'), 2),\n",
       " (('maryland', 'GPE'), 2),\n",
       " (('late october', 'DATE'), 2),\n",
       " (('peloton', 'ORG'), 2),\n",
       " (('only half', 'CARDINAL'), 2),\n",
       " (('year  to year', 'DATE'), 2),\n",
       " (('cu', 'ORG'), 2),\n",
       " (('several years ago', 'DATE'), 2),\n",
       " (('addon', 'GPE'), 2),\n",
       " (('the previous year', 'DATE'), 2),\n",
       " (('age   years', 'DATE'), 2),\n",
       " (('first year', 'DATE'), 2),\n",
       " (('the  a year', 'DATE'), 2),\n",
       " (('the last two weeks', 'DATE'), 2),\n",
       " (('fidelity international', 'ORG'), 2),\n",
       " (('a few minutes ago', 'TIME'), 2),\n",
       " (('dan', 'PERSON'), 2),\n",
       " (('the next couple years', 'DATE'), 2),\n",
       " (('between  year', 'DATE'), 2),\n",
       " (('amex', 'ORG'), 2),\n",
       " (('my first year', 'DATE'), 2),\n",
       " (('vbr', 'ORG'), 2),\n",
       " (('pm eastern   am pacific', 'TIME'), 2),\n",
       " (('years   years   years', 'DATE'), 2),\n",
       " (('msci china', 'PERSON'), 2),\n",
       " (('a month ago', 'DATE'), 2),\n",
       " (('a couple years', 'DATE'), 2),\n",
       " (('this  years', 'DATE'), 2),\n",
       " (('year    ', 'DATE'), 2),\n",
       " (('nearly  years old', 'DATE'), 2),\n",
       " (('the new york times', 'ORG'), 2),\n",
       " (('warren', 'PERSON'), 2),\n",
       " (('this past week', 'DATE'), 2),\n",
       " (('coming years', 'DATE'), 2),\n",
       " (('pps', 'ORG'), 2),\n",
       " (('treasury mm', 'PERSON'), 2),\n",
       " (('an  month', 'DATE'), 2),\n",
       " (('laurence kotlikoff', 'PERSON'), 2),\n",
       " (('httpsinvestorvanguardcommutualfu', 'PERSON'), 2),\n",
       " (('the past few days', 'DATE'), 2),\n",
       " (('a year and a half', 'DATE'), 2),\n",
       " (('robert merton', 'PERSON'), 2),\n",
       " (('the end of every year', 'DATE'), 2),\n",
       " (('all  year', 'DATE'), 2),\n",
       " (('diy', 'PERSON'), 2),\n",
       " (('magi', 'NORP'), 2),\n",
       " (('less than five years', 'DATE'), 2),\n",
       " (('peter', 'PERSON'), 2),\n",
       " (('nearly  years', 'DATE'), 2),\n",
       " (('at least a couple', 'CARDINAL'), 2),\n",
       " (('last months', 'DATE'), 2),\n",
       " (('seattle', 'GPE'), 2),\n",
       " (('the united states of america', 'GPE'), 2),\n",
       " (('edward jones', 'ORG'), 2),\n",
       " (('christine benz', 'PERSON'), 2),\n",
       " (('ten years later', 'DATE'), 2),\n",
       " (('all day', 'DATE'), 2),\n",
       " (('a few hours', 'TIME'), 2),\n",
       " (('n years', 'DATE'), 2),\n",
       " (('the coming years', 'DATE'), 2),\n",
       " (('the next  decades', 'DATE'), 2),\n",
       " (('prior year', 'DATE'), 2),\n",
       " (('toyota', 'ORG'), 2),\n",
       " (('a couple days', 'DATE'), 2),\n",
       " (('those  years', 'DATE'), 2),\n",
       " (('a million', 'CARDINAL'), 2),\n",
       " (('craig lazzara', 'PERSON'), 2),\n",
       " (('atlantic', 'LOC'), 2),\n",
       " (('the next ten years', 'DATE'), 2),\n",
       " (('kevin', 'PERSON'), 2),\n",
       " (('doc         ', 'ORG'), 2),\n",
       " (('wellesley wellington', 'GPE'), 2),\n",
       " (('the second half', 'DATE'), 2),\n",
       " (('five percent', 'PERCENT'), 2),\n",
       " (('a couple of days ago', 'DATE'), 2),\n",
       " (('hundreds of thousands', 'CARDINAL'), 2),\n",
       " (('the coming  years', 'DATE'), 2),\n",
       " (('scorp', 'ORG'), 2),\n",
       " (('the last few months', 'DATE'), 2),\n",
       " (('every day', 'DATE'), 2),\n",
       " (('just a few years', 'DATE'), 2),\n",
       " (('the first three years', 'DATE'), 2),\n",
       " (('httpwwweconyaleedushillerdatahtm', 'GPE'), 2),\n",
       " (('this afternoon', 'TIME'), 2),\n",
       " (('invesco bulletshares', 'ORG'), 2),\n",
       " (('many months', 'DATE'), 2),\n",
       " (('xirr', 'ORG'), 2),\n",
       " (('poland', 'GPE'), 2),\n",
       " (('the sf bay area', 'LOC'), 2),\n",
       " (('next  months', 'DATE'), 2),\n",
       " (('tim buckley', 'PERSON'), 2),\n",
       " (('james tobin', 'PERSON'), 2),\n",
       " (('upar', 'PERSON'), 2),\n",
       " (('my  year old', 'DATE'), 2),\n",
       " (('one third', 'CARDINAL'), 2),\n",
       " (('year   end of', 'DATE'), 2),\n",
       " (('the summer', 'DATE'), 2),\n",
       " (('twenty', 'CARDINAL'), 2),\n",
       " (('noon', 'TIME'), 2),\n",
       " (('that  year', 'DATE'), 2),\n",
       " (('fifty percent', 'PERCENT'), 2),\n",
       " (('year to', 'DATE'), 2),\n",
       " (('two centuries', 'DATE'), 2),\n",
       " (('twenty years', 'DATE'), 2),\n",
       " (('year\\tworst year', 'DATE'), 2),\n",
       " (('any given year', 'DATE'), 2),\n",
       " (('the two decades', 'DATE'), 2),\n",
       " (('germany', 'GPE'), 2),\n",
       " (('the following months', 'DATE'), 2),\n",
       " (('ben johnson', 'PERSON'), 2),\n",
       " (('year one', 'DATE'), 2),\n",
       " (('sharpe', 'NORP'), 2),\n",
       " (('jan   ', 'DATE'), 2),\n",
       " (('msci usa', 'PERSON'), 2),\n",
       " (('thursday july', 'DATE'), 2),\n",
       " (('labor department', 'ORG'), 2),\n",
       " (('cox', 'ORG'), 2),\n",
       " (('mos treasury', 'ORG'), 2),\n",
       " (('several decades', 'DATE'), 2),\n",
       " (('the past two years', 'DATE'), 2),\n",
       " (('berger jon luskin', 'PERSON'), 2),\n",
       " (('andrews federal credit union', 'ORG'), 2),\n",
       " (('ge', 'ORG'), 2),\n",
       " (('dutch', 'NORP'), 2),\n",
       " (('the past several years', 'DATE'), 2),\n",
       " (('a decade ago', 'DATE'), 2),\n",
       " (('vanguard treasury', 'ORG'), 2),\n",
       " (('washington', 'GPE'), 2),\n",
       " (('at least two', 'CARDINAL'), 2),\n",
       " (('next day', 'DATE'), 2),\n",
       " (('most years', 'DATE'), 2),\n",
       " (('a few dollars', 'MONEY'), 2),\n",
       " (('fidelity schwab', 'ORG'), 2),\n",
       " (('vanguard pas', 'ORG'), 2),\n",
       " (('a year later', 'DATE'), 2),\n",
       " (('a good  years', 'DATE'), 2),\n",
       " (('a years', 'DATE'), 2),\n",
       " (('httpswwwcnncominvestin  indexhtml', 'ORG'), 2),\n",
       " (('jorge soriano', 'PERSON'), 2),\n",
       " (('last  months', 'DATE'), 2),\n",
       " (('several hundred', 'CARDINAL'), 2),\n",
       " (('about  trillion', 'MONEY'), 2),\n",
       " (('a  week', 'DATE'), 2),\n",
       " (('massachusetts', 'GPE'), 2),\n",
       " (('india', 'GPE'), 2),\n",
       " (('the last day', 'DATE'), 2),\n",
       " (('the iranian revolution', 'EVENT'), 2),\n",
       " (('world war ii', 'EVENT'), 2),\n",
       " (('antti ilmanen’s', 'ORG'), 2),\n",
       " (('past  years', 'DATE'), 2),\n",
       " (('jack bogles', 'PERSON'), 2),\n",
       " (('roughly a year', 'DATE'), 2),\n",
       " (('seconds', 'TIME'), 2),\n",
       " (('a minute', 'TIME'), 2),\n",
       " (('vteb vanguard', 'PERSON'), 2),\n",
       " (('the last two months', 'DATE'), 2),\n",
       " (('the year annualized', 'DATE'), 2),\n",
       " (('new jersey', 'GPE'), 2),\n",
       " (('the next five years', 'DATE'), 2),\n",
       " (('dodge', 'ORG'), 2),\n",
       " (('atlanta', 'GPE'), 2),\n",
       " (('vea', 'ORG'), 2),\n",
       " (('years  years', 'DATE'), 2),\n",
       " (('dan wieners', 'PERSON'), 2),\n",
       " (('the other day', 'DATE'), 2),\n",
       " (('a single day', 'DATE'), 2),\n",
       " (('the next business day', 'DATE'), 2),\n",
       " (('max ss', 'PERSON'), 2),\n",
       " (('the end of the month', 'DATE'), 2),\n",
       " (('merrill', 'ORG'), 2),\n",
       " (('hysas', 'GPE'), 2),\n",
       " (('john hussman', 'PERSON'), 2),\n",
       " (('jon luskin host', 'PERSON'), 2),\n",
       " (('colorado', 'GPE'), 2),\n",
       " (('paul samuelson', 'PERSON'), 2),\n",
       " (('peter l', 'PERSON'), 2),\n",
       " (('three percent', 'PERCENT'), 2),\n",
       " (('a thousand dollars', 'MONEY'), 2),\n",
       " (('dec   jan   feb   mar   apr', 'DATE'), 2),\n",
       " (('the year  so', 'DATE'), 2),\n",
       " (('janet yellen', 'PERSON'), 2),\n",
       " (('the year period', 'DATE'), 2),\n",
       " (('pm eastern time', 'TIME'), 2),\n",
       " (('jason zweig wall street journal', 'PERSON'), 2),\n",
       " (('centuries', 'DATE'), 2),\n",
       " (('ed yardeni', 'PERSON'), 2),\n",
       " (('a new year', 'DATE'), 2),\n",
       " (('the last business day of the month', 'DATE'), 2),\n",
       " (('twelve', 'CARDINAL'), 2),\n",
       " (('half month                  ', 'DATE'), 2),\n",
       " (('july   october', 'DATE'), 2),\n",
       " (('the past three years', 'DATE'), 2),\n",
       " (('every two weeks', 'DATE'), 2),\n",
       " (('the previous month', 'DATE'), 2),\n",
       " (('approximately  years', 'DATE'), 2),\n",
       " (('past year', 'DATE'), 2),\n",
       " (('the  days', 'DATE'), 2),\n",
       " (('jeremy grantham', 'PERSON'), 2),\n",
       " (('english', 'LANGUAGE'), 2),\n",
       " (('four decades', 'DATE'), 2),\n",
       " (('less than half', 'CARDINAL'), 2),\n",
       " (('one year from now', 'DATE'), 2),\n",
       " (('ks', 'GPE'), 2),\n",
       " (('john bogles', 'PERSON'), 2),\n",
       " (('etf vtv', 'PERSON'), 2),\n",
       " (('two or three years', 'DATE'), 2),\n",
       " (('wall street journal', 'ORG'), 2),\n",
       " (('a few days ago', 'DATE'), 2),\n",
       " (('george', 'PERSON'), 2),\n",
       " (('around  percent', 'PERCENT'), 2),\n",
       " (('roth k  ', 'PERSON'), 2),\n",
       " (('up  percent', 'PERCENT'), 2),\n",
       " (('sunday', 'DATE'), 2),\n",
       " (('michael batnick', 'PERSON'), 2),\n",
       " (('scott grannis', 'PERSON'), 2),\n",
       " (('the year over year', 'DATE'), 2),\n",
       " (('the past couple of years', 'DATE'), 2),\n",
       " (('eur', 'ORG'), 2),\n",
       " (('the next several years', 'DATE'), 2),\n",
       " (('antti ilmanen', 'ORG'), 2),\n",
       " (('mfs', 'ORG'), 2),\n",
       " (('hour', 'TIME'), 2),\n",
       " (('quite a few years', 'DATE'), 2),\n",
       " (('xyz price', 'PERSON'), 2),\n",
       " (('about a year', 'DATE'), 2),\n",
       " (('the end of  years', 'DATE'), 2),\n",
       " (('france', 'GPE'), 2),\n",
       " (('zero percent', 'PERCENT'), 2),\n",
       " (('thirty', 'CARDINAL'), 2),\n",
       " (('the next few months', 'DATE'), 2),\n",
       " (('this  year', 'DATE'), 2),\n",
       " (('annualized', 'DATE'), 2),\n",
       " (('ark', 'GPE'), 2),\n",
       " (('roth ira   ', 'PERSON'), 2),\n",
       " (('up to half', 'CARDINAL'), 2),\n",
       " (('kinda', 'PERSON'), 2),\n",
       " (('a few hundred', 'CARDINAL'), 2),\n",
       " (('a year or so', 'DATE'), 2),\n",
       " (('a terrible year', 'DATE'), 2),\n",
       " (('the beginning of year', 'DATE'), 2),\n",
       " (('peter brandt', 'PERSON'), 2),\n",
       " (('allan roth’s', 'PERSON'), 2),\n",
       " (('ross berlin', 'PERSON'), 2),\n",
       " (('million dollars', 'MONEY'), 2),\n",
       " (('almost zero', 'CARDINAL'), 2),\n",
       " (('the current years', 'DATE'), 2),\n",
       " (('the  year old', 'DATE'), 2),\n",
       " (('one dollar', 'MONEY'), 2),\n",
       " (('thepoorswiss', 'DATE'), 2),\n",
       " (('peter lynch', 'PERSON'), 2),\n",
       " (('an hour', 'TIME'), 2),\n",
       " (('more than half', 'CARDINAL'), 2),\n",
       " (('the past years', 'DATE'), 2),\n",
       " (('the next couple months', 'DATE'), 2),\n",
       " (('the s corp', 'ORG'), 2),\n",
       " (('vanguard etf', 'PERSON'), 2),\n",
       " (('every five years', 'DATE'), 2),\n",
       " (('ellen quigley', 'PERSON'), 2),\n",
       " (('four month', 'DATE'), 2),\n",
       " (('several months ago', 'DATE'), 2),\n",
       " (('the first half', 'DATE'), 2),\n",
       " (('over  million', 'CARDINAL'), 2),\n",
       " (('michael perre', 'PERSON'), 2),\n",
       " (('summer', 'DATE'), 2),\n",
       " (('roth ira accounts', 'PERSON'), 2),\n",
       " (('june this year', 'DATE'), 2),\n",
       " (('morgan chase bank   ', 'ORG'), 2),\n",
       " (('australia', 'GPE'), 2),\n",
       " (('ppe', 'ORG'), 2),\n",
       " (('congress', 'ORG'), 2),\n",
       " (('ftaxcr', 'PERSON'), 2),\n",
       " (('epftaxftaxftaxcr   – mer', 'ORG'), 2),\n",
       " (('berger', 'PERSON'), 2),\n",
       " (('the month of january', 'DATE'), 2),\n",
       " (('the end of each year', 'DATE'), 2),\n",
       " (('friday feb', 'DATE'), 1),\n",
       " (('every two months', 'DATE'), 1),\n",
       " (('illinois', 'GPE'), 1),\n",
       " (('a job  year ago', 'DATE'), 1),\n",
       " (('roth ira posttax  ', 'PERSON'), 1),\n",
       " (('every single penny', 'MONEY'), 1),\n",
       " (('lawrence kotlikoff', 'PERSON'), 1),\n",
       " (('ss kicks', 'PERSON'), 1),\n",
       " (('the new month', 'DATE'), 1),\n",
       " (('the end of last year', 'DATE'), 1),\n",
       " (('gráinne', 'PERSON'), 1),\n",
       " (('the next period', 'DATE'), 1),\n",
       " (('less than  days', 'DATE'), 1),\n",
       " (('msci acwi', 'GPE'), 1),\n",
       " (('jim simons  httpswwwinvestopediacomarticlesi', 'PERSON'), 1),\n",
       " (('next month', 'DATE'), 1),\n",
       " (('federal home loan bank', 'ORG'), 1),\n",
       " (('the year treasury', 'DATE'), 1),\n",
       " (('pbs', 'ORG'), 1),\n",
       " (('early last night', 'TIME'), 1),\n",
       " (('one half', 'CARDINAL'), 1),\n",
       " (('a single  year', 'DATE'), 1),\n",
       " (('less than  hours', 'TIME'), 1),\n",
       " (('years   years', 'DATE'), 1),\n",
       " (('the us fx risk locationdependent', 'ORG'), 1),\n",
       " (('january    ', 'DATE'), 1),\n",
       " (('tipswatch prescribe', 'ORG'), 1),\n",
       " (('more than one year', 'DATE'), 1),\n",
       " (('the cleveland daily', 'ORG'), 1),\n",
       " (('one year  i', 'DATE'), 1),\n",
       " (('month discretionary', 'DATE'), 1),\n",
       " (('at  years', 'DATE'), 1),\n",
       " (('jb quinn', 'PERSON'), 1),\n",
       " (('around  hours', 'TIME'), 1),\n",
       " (('matt', 'PERSON'), 1),\n",
       " (('roth ira backdoor esa', 'PERSON'), 1),\n",
       " (('phd  eduardo', 'PERSON'), 1),\n",
       " (('brown university', 'ORG'), 1),\n",
       " (('the universidad de buenos', 'ORG'), 1),\n",
       " (('five dollar', 'MONEY'), 1),\n",
       " (('the coming week', 'DATE'), 1),\n",
       " (('global fintech institute  world', 'ORG'), 1),\n",
       " (('wr retiree', 'PERSON'), 1),\n",
       " (('from  months to  years', 'DATE'), 1),\n",
       " (('the year tip now', 'DATE'), 1),\n",
       " (('the last couple of weeks', 'DATE'), 1),\n",
       " (('bob pisani', 'PERSON'), 1),\n",
       " (('xly xlk', 'PERSON'), 1),\n",
       " (('keyword', 'PERSON'), 1),\n",
       " (('half the year', 'DATE'), 1),\n",
       " (('a current  day', 'DATE'), 1),\n",
       " (('eric', 'PERSON'), 1),\n",
       " (('morgan stanley wealth', 'ORG'), 1),\n",
       " (('years  months to age    ', 'DATE'), 1),\n",
       " (('the that year', 'DATE'), 1),\n",
       " (('ira invest', 'PERSON'), 1),\n",
       " (('interesting article', 'ORG'), 1),\n",
       " (('the last five years', 'DATE'), 1),\n",
       " (('those five successive years', 'DATE'), 1),\n",
       " (('the top quarter', 'DATE'), 1),\n",
       " (('netflix employees', 'ORG'), 1),\n",
       " (('the last six months', 'DATE'), 1),\n",
       " (('every red day', 'DATE'), 1),\n",
       " (('over a year', 'DATE'), 1),\n",
       " (('mans', 'NORP'), 1),\n",
       " (('our  board years back', 'DATE'), 1),\n",
       " (('end  years', 'DATE'), 1),\n",
       " (('pioneer', 'ORG'), 1),\n",
       " (('david zolt', 'PERSON'), 1),\n",
       " (('boston colleges center', 'ORG'), 1),\n",
       " (('fair', 'ORG'), 1),\n",
       " (('about fourteen', 'CARDINAL'), 1),\n",
       " (('late february five minutes', 'DATE'), 1),\n",
       " (('chris leonard', 'PERSON'), 1),\n",
       " (('aaron gordon', 'PERSON'), 1),\n",
       " (('peter van dooijeweert head', 'PERSON'), 1),\n",
       " (('otto van hemert phd director', 'PERSON'), 1),\n",
       " (('the st louis fed', 'ORG'), 1),\n",
       " (('about a decade', 'DATE'), 1),\n",
       " (('randall w forsyth', 'PERSON'), 1),\n",
       " (('etf httpsscreenerfidelitycomftgwetf', 'PERSON'), 1),\n",
       " (('carlos capistran', 'PERSON'), 1),\n",
       " (('reuters', 'ORG'), 1),\n",
       " (('oecd', 'ORG'), 1),\n",
       " (('bloomberg intelligence', 'ORG'), 1),\n",
       " (('bogle', 'PERSON'), 1),\n",
       " (('the average  year old', 'DATE'), 1),\n",
       " (('the first two years', 'DATE'), 1),\n",
       " (('duke university', 'ORG'), 1),\n",
       " (('fidelity treasury', 'ORG'), 1),\n",
       " (('eastern', 'ORG'), 1),\n",
       " (('a couple hundred bucks', 'QUANTITY'), 1),\n",
       " (('this december', 'DATE'), 1),\n",
       " (('less than last year', 'DATE'), 1),\n",
       " (('voe', 'PERSON'), 1),\n",
       " (('longer than one year', 'DATE'), 1),\n",
       " (('the end years', 'DATE'), 1),\n",
       " (('schb a month', 'DATE'), 1),\n",
       " (('the frankfurt exchange', 'ORG'), 1),\n",
       " (('jeremy siegel admin ladygeek  ', 'PERSON'), 1),\n",
       " (('many days', 'DATE'), 1),\n",
       " (('fidelity tips', 'ORG'), 1),\n",
       " (('as much as one', 'CARDINAL'), 1),\n",
       " (('april to later', 'DATE'), 1),\n",
       " (('years   end', 'DATE'), 1),\n",
       " (('andrew welsch', 'PERSON'), 1),\n",
       " (('xmonth', 'DATE'), 1),\n",
       " (('andrew m carter', 'PERSON'), 1),\n",
       " (('morgan stanley date', 'ORG'), 1),\n",
       " (('the    years', 'DATE'), 1),\n",
       " (('twenty five', 'CARDINAL'), 1),\n",
       " (('the ira k', 'FAC'), 1),\n",
       " (('georgia', 'GPE'), 1),\n",
       " (('over  months or a year', 'DATE'), 1),\n",
       " (('the past few decades', 'DATE'), 1),\n",
       " (('every single month', 'DATE'), 1),\n",
       " (('one  three year cd’s', 'DATE'), 1),\n",
       " (('the federal reserve a', 'ORG'), 1),\n",
       " (('benchmark russell', 'PERSON'), 1),\n",
       " (('david walker', 'PERSON'), 1),\n",
       " (('clinton', 'PERSON'), 1),\n",
       " (('bush', 'PERSON'), 1),\n",
       " (('david walker’s', 'PERSON'), 1),\n",
       " (('baltimore', 'GPE'), 1),\n",
       " (('every six months', 'DATE'), 1),\n",
       " (('the next six months', 'DATE'), 1),\n",
       " (('at  per six months', 'DATE'), 1),\n",
       " (('approximately the year', 'DATE'), 1),\n",
       " (('the preceding six months', 'DATE'), 1),\n",
       " (('the past six months', 'DATE'), 1),\n",
       " (('the trailing', 'DATE'), 1),\n",
       " (('months  last', 'DATE'), 1),\n",
       " (('this summer', 'DATE'), 1),\n",
       " (('several hours', 'TIME'), 1),\n",
       " (('the past couple of days', 'DATE'), 1),\n",
       " (('shillers  year', 'DATE'), 1),\n",
       " (('linear relationship association', 'ORG'), 1),\n",
       " (('an approximate year', 'DATE'), 1),\n",
       " (('past  month', 'DATE'), 1),\n",
       " (('all afternoon', 'TIME'), 1),\n",
       " (('three quarters', 'DATE'), 1),\n",
       " (('vanguard', 'NORP'), 1),\n",
       " (('five years or', 'DATE'), 1),\n",
       " (('fibonacci day', 'DATE'), 1),\n",
       " (('many many years', 'DATE'), 1),\n",
       " (('the last five years  ', 'DATE'), 1),\n",
       " (('an approximate  year', 'DATE'), 1),\n",
       " (('the past couple years', 'DATE'), 1),\n",
       " (('rf  betasmb  smb  betahml  hml', 'PERSON'), 1),\n",
       " (('rf', 'PERSON'), 1),\n",
       " (('betahmlcma', 'PERSON'), 1),\n",
       " (('year \\t\\t\\t\\t\\t year \\t\\t\\t\\t\\t year \\t\\t\\t\\t\\t year \\t\\t\\t\\t\\t year \\t\\t\\t\\t\\t year \\t\\t\\t\\t\\t year \\t\\t\\t\\t\\t\\t year \\t\\t\\t\\t\\t year \\t\\t\\t\\t\\t\\t year \\t\\t\\t\\t\\t year \\t\\t\\t\\t\\t year \\t\\t\\t\\t\\t year \\t\\t\\t\\t\\t year \\t\\t\\t\\t\\t year \\t\\t\\t\\t\\t\\t  now',\n",
       "   'DATE'),\n",
       "  1),\n",
       " (('year \\t\\t\\t\\t\\t year \\t\\t\\t\\t\\t year \\t\\t\\t\\t\\t year \\t\\t\\t\\t\\t year \\t\\t\\t\\t\\t year \\t\\t\\t\\t\\t\\t year \\t\\t\\t\\t\\t\\t year \\t\\t\\t\\t\\t\\t year \\t\\t\\t\\t\\t\\t year \\t\\t\\t\\t\\t\\t year \\t\\t\\t\\t\\t year \\t\\t\\t\\t\\t\\t year \\t\\t\\t\\t\\t year \\t\\t\\t\\t\\t\\t year',\n",
       "   'DATE'),\n",
       "  1),\n",
       " (('year \\t\\t\\t\\t\\t year \\t\\t\\t\\t\\t year \\t\\t\\t\\t\\t year \\t\\t\\t\\t\\t year \\t\\t\\t\\t\\t year \\t\\t\\t\\t\\t year \\t\\t\\t\\t\\t\\t year \\t\\t\\t\\t\\t\\t year \\t\\t\\t\\t\\t\\t year \\t\\t\\t\\t\\t\\t year \\t\\t\\t\\t\\t\\t year \\t\\t\\t\\t\\t\\t year \\t\\t\\t\\t\\t\\t year \\t\\t\\t\\t\\t\\t year',\n",
       "   'DATE'),\n",
       "  1),\n",
       " (('a breakout year', 'DATE'), 1),\n",
       " (('investor   years', 'DATE'), 1),\n",
       " (('dr edward qian', 'PERSON'), 1),\n",
       " (('some years ago', 'DATE'), 1),\n",
       " (('a risk nine', 'CARDINAL'), 1),\n",
       " (('dr qian', 'PERSON'), 1),\n",
       " (('about six to eight', 'CARDINAL'), 1),\n",
       " (('qian', 'NORP'), 1),\n",
       " (('five to seven years', 'DATE'), 1),\n",
       " (('the past three to five years', 'DATE'), 1),\n",
       " (('bahamas', 'GPE'), 1),\n",
       " (('the past month', 'DATE'), 1),\n",
       " (('july august', 'DATE'), 1),\n",
       " (('the ss cola', 'ORG'), 1),\n",
       " (('at least a year', 'DATE'), 1),\n",
       " (('years first  years', 'DATE'), 1),\n",
       " (('only  million', 'CARDINAL'), 1),\n",
       " (('annually  year', 'DATE'), 1),\n",
       " (('a year   a year', 'DATE'), 1),\n",
       " (('a year spend', 'DATE'), 1),\n",
       " (('just the past few days', 'DATE'), 1),\n",
       " (('etf ticker iwm', 'PERSON'), 1),\n",
       " (('two weeks later', 'DATE'), 1),\n",
       " (('two weeks ago', 'DATE'), 1),\n",
       " (('two and a half weeks', 'DATE'), 1),\n",
       " (('the next few years  so', 'DATE'), 1),\n",
       " (('less than a year', 'DATE'), 1),\n",
       " (('cameron huddleston', 'PERSON'), 1),\n",
       " (('boggle', 'GPE'), 1),\n",
       " (('fidelity zero international index fund', 'ORG'), 1),\n",
       " (('fidelity total international index fund', 'ORG'), 1),\n",
       " (('ifa', 'ORG'), 1),\n",
       " (('morningstar investment management', 'ORG'), 1),\n",
       " (('brooklyn', 'GPE'), 1),\n",
       " (('episode dan egan', 'PERSON'), 1),\n",
       " (('year treasury', 'DATE'), 1),\n",
       " (('additional  weeks', 'DATE'), 1),\n",
       " (('fidelity new', 'ORG'), 1),\n",
       " (('date december', 'DATE'), 1),\n",
       " (('fidelity  see', 'ORG'), 1),\n",
       " (('one year ago', 'DATE'), 1),\n",
       " (('the last couple months', 'DATE'), 1),\n",
       " (('four years', 'DATE'), 1),\n",
       " (('wednesday june', 'DATE'), 1),\n",
       " (('a couplefew days', 'DATE'), 1),\n",
       " (('last december', 'DATE'), 1),\n",
       " (('david blanchett', 'PERSON'), 1),\n",
       " (('phd cfa cfp®', 'PERSON'), 1),\n",
       " (('roughly three hours', 'TIME'), 1),\n",
       " (('benjamin franklin', 'PERSON'), 1),\n",
       " (('argentina', 'GPE'), 1),\n",
       " (('the final minutes', 'TIME'), 1),\n",
       " (('around  pm eastern time', 'TIME'), 1),\n",
       " (('about one cent', 'MONEY'), 1),\n",
       " (('a single  year old', 'DATE'), 1),\n",
       " (('the shanghai  shenzhen china', 'ORG'), 1),\n",
       " (('ashr', 'PERSON'), 1),\n",
       " (('one hour', 'TIME'), 1),\n",
       " (('roth ira  fund', 'PERSON'), 1),\n",
       " (('marin', 'GPE'), 1),\n",
       " (('the worlds reserve', 'ORG'), 1),\n",
       " (('last period', 'DATE'), 1),\n",
       " (('morgan chase', 'ORG'), 1),\n",
       " (('michael d', 'PERSON'), 1),\n",
       " (('bidens', 'PERSON'), 1),\n",
       " (('stephanie krewsonkelly', 'PERSON'), 1),\n",
       " (('glenn', 'PERSON'), 1),\n",
       " (('psldx hfea', 'ORG'), 1),\n",
       " (('baillie gifford', 'PERSON'), 1),\n",
       " (('apple microsoft alphabet', 'ORG'), 1),\n",
       " (('brad cornell', 'ORG'), 1),\n",
       " (('bill sharpe', 'PERSON'), 1),\n",
       " (('ssrn httpspapersssrncompaperscfm', 'PERSON'), 1),\n",
       " (('few  months ago', 'DATE'), 1),\n",
       " (('month  months  months', 'DATE'), 1),\n",
       " (('one i am decades', 'DATE'), 1),\n",
       " (('the first of the year', 'DATE'), 1),\n",
       " (('some percent', 'PERCENT'), 1),\n",
       " (('at  million', 'CARDINAL'), 1),\n",
       " (('a few bad years', 'DATE'), 1),\n",
       " (('httpswwwlinkedincompulsestartsi  aydalio', 'PERSON'), 1),\n",
       " (('a year for  years', 'DATE'), 1),\n",
       " (('several two year', 'DATE'), 1),\n",
       " (('the cdc foundation', 'ORG'), 1),\n",
       " (('slightly  week later', 'DATE'), 1),\n",
       " (('the beginning of this year', 'DATE'), 1),\n",
       " (('the first of each month', 'DATE'), 1),\n",
       " (('all weekend', 'DATE'), 1),\n",
       " (('safari', 'ORG'), 1),\n",
       " (('mac pro latest', 'PERSON'), 1),\n",
       " (('a year roughly', 'DATE'), 1),\n",
       " (('the approximate  months', 'DATE'), 1),\n",
       " (('vea vanguard', 'PERSON'), 1),\n",
       " (('msci international', 'ORG'), 1),\n",
       " (('credit suisse', 'ORG'), 1),\n",
       " (('admin ladygeek  rick ferri', 'PERSON'), 1),\n",
       " (('this decade', 'DATE'), 1),\n",
       " (('the first quarter', 'DATE'), 1),\n",
       " (('ps', 'PERSON'), 1),\n",
       " ...]"
      ]
     },
     "execution_count": 109,
     "metadata": {},
     "output_type": "execute_result"
    }
   ],
   "source": [
    "tags = []\n",
    "\n",
    "for text in data['post_text'].drop_duplicates():\n",
    "  doc = nlp(text)\n",
    "  tags.extend([(x.text, x.label_) for x in doc.ents])\n",
    "\n",
    "Counter(tags)\n",
    "sorted(Counter(tags).items(), key=lambda x: x[1], reverse=True)"
   ]
  },
  {
   "cell_type": "code",
   "execution_count": 110,
   "metadata": {},
   "outputs": [
    {
     "data": {
      "image/png": "[encoded data removed]",
      "text/plain": [
       "<Figure size 640x480 with 1 Axes>"
      ]
     },
     "metadata": {},
     "output_type": "display_data"
    }
   ],
   "source": [
    "import matplotlib.pyplot as plt\n",
    "\n",
    "# Extract the named entities and their frequencies from the counter\n",
    "entities, frequencies = zip(*counter[:3])\n",
    "\n",
    "# Convert the named entities to strings\n",
    "entities = [str(e) for e in entities]\n",
    "\n",
    "# Plot the named entities as a bar chart\n",
    "plt.bar(entities, frequencies)\n",
    "plt.xlabel('Named Entity')\n",
    "plt.ylabel('Frequency')\n",
    "plt.title('Most Common Named Entities')\n",
    "plt.show()\n"
   ]
  },
  {
   "cell_type": "markdown",
   "metadata": {
    "tags": []
   },
   "source": [
    "### What are the common named entities in the answers ?"
   ]
  },
  {
   "cell_type": "code",
   "execution_count": 65,
   "metadata": {},
   "outputs": [
    {
     "name": "stderr",
     "output_type": "stream",
     "text": [
      "[nltk_data] Downloading package averaged_perceptron_tagger to\n",
      "[nltk_data]     /Users/mohamed/nltk_data...\n",
      "[nltk_data]   Package averaged_perceptron_tagger is already up-to-\n",
      "[nltk_data]       date!\n",
      "[nltk_data] Downloading package maxent_ne_chunker to\n",
      "[nltk_data]     /Users/mohamed/nltk_data...\n",
      "[nltk_data]   Package maxent_ne_chunker is already up-to-date!\n",
      "[nltk_data] Downloading package words to /Users/mohamed/nltk_data...\n",
      "[nltk_data]   Package words is already up-to-date!\n"
     ]
    },
    {
     "data": {
      "text/plain": [
       "True"
      ]
     },
     "execution_count": 65,
     "metadata": {},
     "output_type": "execute_result"
    }
   ],
   "source": [
    "nltk.download('averaged_perceptron_tagger')\n",
    "nltk.download('maxent_ne_chunker')\n",
    "nltk.download('words')"
   ]
  },
  {
   "cell_type": "code",
   "execution_count": 67,
   "metadata": {},
   "outputs": [],
   "source": [
    "tags = []\n",
    "\n",
    "for text in data['reply_text'].drop_duplicates():\n",
    "  doc = nlp(text)\n",
    "  tags.extend([(x.text, x.label_) for x in doc.ents])\n",
    "\n",
    "Counter(tags)\n",
    "counter = sorted(Counter(tags).items(), key=lambda x: x[1], reverse=True)"
   ]
  },
  {
   "cell_type": "code",
   "execution_count": 77,
   "metadata": {},
   "outputs": [
    {
     "data": {
      "image/png": "[encoded data removed]",
      "text/plain": [
       "<Figure size 640x480 with 1 Axes>"
      ]
     },
     "metadata": {},
     "output_type": "display_data"
    }
   ],
   "source": [
    "import matplotlib.pyplot as plt\n",
    "\n",
    "# Extract the named entities and their frequencies from the counter\n",
    "entities, frequencies = zip(*counter[:3])\n",
    "\n",
    "# Convert the named entities to strings\n",
    "entities = [str(e) for e in entities]\n",
    "\n",
    "# Plot the named entities as a bar chart\n",
    "plt.bar(entities, frequencies)\n",
    "plt.xlabel('Named Entity')\n",
    "plt.ylabel('Frequency')\n",
    "plt.title('Most Common Named Entities')\n",
    "plt.show()\n"
   ]
  },
  {
   "cell_type": "markdown",
   "metadata": {
    "tags": []
   },
   "source": [
    "### What are the common themes or topics in the questions?"
   ]
  },
  {
   "cell_type": "code",
   "execution_count": 103,
   "metadata": {},
   "outputs": [],
   "source": [
    "import nltk\n",
    "from nltk.corpus import stopwords\n",
    "from nltk.stem import WordNetLemmatizer\n",
    "import string\n",
    "\n",
    "def preprocess(text):\n",
    "    # Lowercase the text\n",
    "    text = text.lower()\n",
    "    \n",
    "    # Remove punctuation\n",
    "    text = ''.join([c for c in text if c not in string.punctuation])\n",
    "    \n",
    "    # Tokenize the text\n",
    "    tokens = nltk.word_tokenize(text)\n",
    "    \n",
    "    # Remove stopwords\n",
    "    stopwords = nltk.corpus.stopwords.words('english')\n",
    "    tokens = [t for t in tokens if t not in stopwords]\n",
    "    \n",
    "    # Lemmatize the tokens\n",
    "    lemmatizer = WordNetLemmatizer()\n",
    "    tokens = [lemmatizer.lemmatize(t) for t in tokens]\n",
    "    \n",
    "    return tokens\n",
    "\n",
    "# Pre-process the \"questions\" column\n",
    "questions = df['post_title']\n",
    "question_tokens = [preprocess(q) for q in questions]"
   ]
  },
  {
   "cell_type": "code",
   "execution_count": 104,
   "metadata": {},
   "outputs": [
    {
     "name": "stdout",
     "output_type": "stream",
     "text": [
      "Topic 0: 0.124*\"value\" + 0.101*\"fund\" + 0.046*\"gold\" + 0.043*\"live\" + 0.033*\"ha\" + 0.031*\"investment\" + 0.026*\"ibonds\" + 0.025*\"bill\" + 0.023*\"bogleheads®\" + 0.022*\"date\"\n",
      "Topic 1: 0.177*\"bond\" + 0.077*\"income\" + 0.059*\"inflation\" + 0.048*\"asset\" + 0.046*\"fund\" + 0.040*\"yield\" + 0.037*\"loss\" + 0.030*\"tax\" + 0.029*\"lot\" + 0.028*\"account\"\n",
      "Topic 2: 0.104*\"time\" + 0.089*\"equity\" + 0.072*\"investing\" + 0.055*\"allocation\" + 0.047*\"price\" + 0.034*\"expense\" + 0.033*\"estate\" + 0.030*\"real\" + 0.028*\"aa\" + 0.026*\"stay\"\n",
      "Topic 3: 0.158*\"new\" + 0.094*\"whats\" + 0.073*\"dividend\" + 0.055*\"much\" + 0.045*\"sp\" + 0.039*\"know\" + 0.024*\"anyone\" + 0.024*\"maybe\" + 0.023*\"withdrawal\" + 0.023*\"believe\"\n",
      "Topic 4: 0.057*\"money\" + 0.056*\"tilt\" + 0.052*\"fidelity\" + 0.048*\"security\" + 0.047*\"social\" + 0.046*\"question\" + 0.041*\"going\" + 0.040*\"’\" + 0.037*\"investor\" + 0.029*\"call\"\n",
      "Topic 5: 0.202*\"market\" + 0.136*\"stock\" + 0.052*\"fund\" + 0.038*\"index\" + 0.034*\"u\" + 0.032*\"v\" + 0.031*\"total\" + 0.030*\"financial\" + 0.022*\"use\" + 0.020*\"timing\"\n",
      "Topic 6: 0.195*\"etf\" + 0.100*\"international\" + 0.084*\"tip\" + 0.070*\"hedge\" + 0.046*\"long\" + 0.044*\"roth\" + 0.044*\"invest\" + 0.029*\"downturn\" + 0.028*\"possible\" + 0.026*\"ira\"\n",
      "Topic 7: 0.186*\"rate\" + 0.156*\"treasury\" + 0.070*\"future\" + 0.058*\"interest\" + 0.058*\"swr\" + 0.041*\"plan\" + 0.031*\"term\" + 0.025*\"report\" + 0.025*\"weight\" + 0.024*\"yielding\"\n",
      "Topic 8: 0.242*\"vanguard\" + 0.075*\"doe\" + 0.060*\"“\" + 0.046*\"”\" + 0.038*\"service\" + 0.034*\"customer\" + 0.029*\"cut\" + 0.028*\"old\" + 0.027*\"corporate\" + 0.025*\"fund\"\n",
      "Topic 9: 0.081*\"year\" + 0.076*\"portfolio\" + 0.060*\"return\" + 0.059*\"retirement\" + 0.041*\"avantis\" + 0.037*\"contest\" + 0.034*\"buying\" + 0.030*\"risk\" + 0.027*\"rule\" + 0.026*\"bogleheads\"\n"
     ]
    }
   ],
   "source": [
    "from gensim.corpora import Dictionary\n",
    "from gensim.models import LdaModel\n",
    "\n",
    "# Create a dictionary from the question text\n",
    "dictionary = Dictionary(question_tokens)\n",
    "\n",
    "# Create a bag-of-words representation of the question text\n",
    "bow_corpus = [dictionary.doc2bow(q) for q in question_tokens]\n",
    "\n",
    "# Train the LDA model\n",
    "lda = LdaModel(bow_corpus, num_topics=10, id2word=dictionary)\n",
    "\n",
    "# Print the topics\n",
    "for i, topic in lda.show_topics(formatted=True):\n",
    "    print(f\"Topic {i}: {topic}\")\n"
   ]
  },
  {
   "cell_type": "code",
   "execution_count": 105,
   "metadata": {},
   "outputs": [
    {
     "data": {
      "text/html": [
       "\n",
       "<link rel=\"stylesheet\" type=\"text/css\" href=\"https://cdn.jsdelivr.net/gh/bmabey/pyLDAvis@3.3.1/pyLDAvis/js/ldavis.v1.0.0.css\">\n",
       "\n",
       "\n",
       "<div id=\"ldavis_el38107147024725448013313884\"></div>\n",
       "<script type=\"text/javascript\">\n",
       "\n",
       "var ldavis_el38107147024725448013313884_data = {\"mdsDat\": {\"x\": [-0.19752451455366388, -0.23020405306121877, -0.029879371787544653, -0.2278885591344904, 0.143125635287284, -0.008903869815900429, 0.1947135958194082, 0.18175470595217533, -0.018977684445976847, 0.1937841157399278], \"y\": [-0.09012489445078573, 0.06385136657942848, -0.310078120767475, 0.12649488328203665, 0.19072773121649716, -0.15356323046937412, -0.08474065584899582, -0.015338582684492032, 0.21515768910396924, 0.05761381403919121], \"topics\": [1, 2, 3, 4, 5, 6, 7, 8, 9, 10], \"cluster\": [1, 1, 1, 1, 1, 1, 1, 1, 1, 1], \"Freq\": [13.518594416612256, 13.447249532609302, 12.604050304276344, 10.277756190620678, 10.125375752231216, 9.770633319409411, 8.225480110531267, 7.6428062179825025, 7.622064787461724, 6.7659893682652985]}, \"tinfo\": {\"Term\": [\"market\", \"bond\", \"vanguard\", \"etf\", \"stock\", \"rate\", \"new\", \"value\", \"treasury\", \"time\", \"fund\", \"income\", \"year\", \"equity\", \"international\", \"whats\", \"portfolio\", \"tip\", \"investing\", \"inflation\", \"return\", \"retirement\", \"dividend\", \"doe\", \"hedge\", \"money\", \"tilt\", \"future\", \"allocation\", \"fidelity\", \"stock\", \"market\", \"index\", \"financial\", \"use\", \"timing\", \"jeremy\", \"mutual\", \"versus\", \"emerging\", \"individual\", \"decade\", \"many\", \"pay\", \"ben\", \"bull\", \"bear\", \"recommendation\", \"better\", \"fee\", \"case\", \"felix\", \"dollar\", \"beat\", \"large\", \"total\", \"get\", \"discussion\", \"really\", \"another\", \"u\", \"reason\", \"terrible\", \"v\", \"fund\", \"cap\", \"portfolio\", \"income\", \"inflation\", \"yield\", \"loss\", \"lot\", \"account\", \"fixed\", \"lower\", \"say\", \"ever\", \"worst\", \"change\", \"bondsfixed\", \"bond\", \"one\", \"retiree\", \"bank\", \"transfer\", \"people\", \"side\", \"sale\", \"er\", \"spread\", \"hit\", \"positive\", \"acats\", \"harvesting\", \"brokerage\", \"bnd\", \"broker\", \"environment\", \"since\", \"asset\", \"tax\", \"fund\", \"v\", \"contest\", \"buying\", \"avantis\", \"rule\", \"bogleheads\", \"still\", \"take\", \"recover\", \"return\", \"way\", \"best\", \"indexing\", \"expected\", \"boglehead\", \"mid\", \"think\", \"annuity\", \"enough\", \"curve\", \"retirement\", \"rebalancing\", \"wrong\", \"risk\", \"go\", \"great\", \"fama\", \"update\", \"bad\", \"difference\", \"like\", \"year\", \"podcast\", \"portfolio\", \"small\", \"next\", \"strategy\", \"cap\", \"v\", \"gold\", \"live\", \"ha\", \"bill\", \"ibonds\", \"bogleheads\\u00ae\", \"date\", \"direct\", \"submit\", \"target\", \"different\", \"bernstein\", \"growth\", \"b\", \"investment\", \"need\", \"gain\", \"cd\", \"right\", \"duration\", \"cost\", \"buy\", \"jan\", \"dont\", \"capital\", \"schwab\", \"selling\", \"buyback\", \"morningstar\", \"make\", \"value\", \"share\", \"pe\", \"fund\", \"distribution\", \"tax\", \"tilt\", \"money\", \"security\", \"social\", \"question\", \"going\", \"\\u2019\", \"fidelity\", \"investor\", \"article\", \"fed\", \"taxable\", \"bubble\", \"thought\", \"ratio\", \"factor\", \"point\", \"often\", \"today\", \"understand\", \"advisor\", \"wsj\", \"tlh\", \"number\", \"check\", \"vt\", \"understanding\", \"type\", \"increase\", \"help\", \"call\", \"time\", \"equity\", \"price\", \"expense\", \"estate\", \"allocation\", \"real\", \"aa\", \"mortgage\", \"stay\", \"big\", \"high\", \"hard\", \"idea\", \"company\", \"cash\", \"life\", \"current\", \"instead\", \"planning\", \"happens\", \"low\", \"safe\", \"lesson\", \"alternative\", \"course\", \"little\", \"saving\", \"recovery\", \"passive\", \"bogle\", \"investing\", \"v\", \"new\", \"whats\", \"dividend\", \"much\", \"know\", \"sp\", \"believe\", \"anyone\", \"would\", \"withdrawal\", \"early\", \"model\", \"find\", \"recession\", \"sell\", \"larry\", \"swedroe\", \"\\u2014\", \"balance\", \"spending\", \"maybe\", \"pension\", \"tell\", \"purpose\", \"response\", \"latest\", \"k\", \"top\", \"invested\", \"choose\", \"french\", \"panic\", \"worldwide\", \"strategy\", \"international\", \"hedge\", \"possible\", \"ira\", \"negative\", \"day\", \"downturn\", \"far\", \"vxus\", \"good\", \"tip\", \"invest\", \"comparing\", \"hidden\", \"ishares\", \"crash\", \"long\", \"affect\", \"considering\", \"world\", \"tiaa\", \"dropping\", \"traditional\", \"msci\", \"due\", \"done\", \"utma\", \"late\", \"rolling\", \"average\", \"roth\", \"allan\", \"strong\", \"etf\", \"worldwide\", \"doe\", \"\\u201c\", \"service\", \"customer\", \"corporate\", \"cut\", \"handle\", \"\\u201d\", \"global\", \"apply\", \"diversification\", \"coming\", \"active\", \"vti\", \"esg\", \"mean\", \"rmd\", \"volatility\", \"old\", \"matter\", \"want\", \"consider\", \"building\", \"bottom\", \"paid\", \"munis\", \"page\", \"online\", \"deposit\", \"story\", \"vanguard\", \"mistake\", \"conversion\", \"using\", \"fund\", \"future\", \"interest\", \"treasury\", \"swr\", \"plan\", \"yielding\", \"rate\", \"report\", \"weight\", \"purchase\", \"rising\", \"trading\", \"nominal\", \"matching\", \"country\", \"present\", \"term\", \"tbill\", \"tbills\", \"raised\", \"auction\", \"raise\", \"result\", \"chart\", \"moving\", \"mm\", \"short\", \"success\", \"transaction\", \"mo\", \"disappointing\", \"call\"], \"Freq\": [9748.0, 8527.0, 6716.0, 5629.0, 6565.0, 4494.0, 4658.0, 4612.0, 3779.0, 3627.0, 9294.0, 3698.0, 3689.0, 3108.0, 2725.0, 2775.0, 3842.0, 2291.0, 2817.0, 2815.0, 2713.0, 2647.0, 2159.0, 2054.0, 1903.0, 2072.0, 2012.0, 1695.0, 1918.0, 1893.0, 6563.459649435183, 9743.279845978954, 1856.0454038775174, 1425.3747783333524, 1047.78607235879, 969.9691860734409, 873.1313258380127, 897.6682904743594, 720.8975485375887, 691.625581425928, 702.9657209642896, 701.0713871219633, 569.9470064309847, 511.08137505367256, 495.42364769170746, 489.6080000647399, 469.0264890536215, 476.7129459687295, 452.8263025645412, 441.1451244605256, 437.57110146530863, 405.89081374137584, 410.3343906209536, 368.1258078682199, 314.02320152311995, 1487.9046626402924, 305.36911177450736, 248.1732289640915, 243.7546384895811, 224.3688990095401, 1626.6870278892095, 376.75927427439615, 258.1899211643843, 1526.9380602983174, 2514.1676121001506, 851.3367934554149, 399.76363444654766, 3696.798625913564, 2814.1692698962597, 1907.2002738319125, 1796.1520755105453, 1400.0440220741857, 1321.4012201184846, 1010.2994463471505, 922.1752308368954, 910.3827702674777, 840.6123450049051, 810.6395166734706, 803.4364880041275, 697.2655957502171, 8511.767452934746, 577.4445731171986, 529.9055145465154, 510.47740868910046, 375.18596834581086, 371.5267583725257, 362.77907942644305, 428.94503733988216, 331.2955381132581, 325.3167800228705, 323.51814813109434, 320.9924930273511, 329.81780045966445, 290.4895762287013, 277.76922034994885, 252.89671779180242, 219.62232980678604, 394.2220615334216, 305.502276697393, 2286.207152064114, 1420.4174057578812, 2229.4480664613898, 1039.0530376470076, 1676.6797907765422, 1543.5234878360384, 1863.604980105101, 1205.4246470247606, 1189.9277176530538, 1003.7258592704671, 739.9886940233903, 869.506199449973, 2708.8559403456698, 703.6306619671695, 717.4296423975196, 644.0227905217401, 761.7374371765062, 660.7964946296553, 612.5816307654707, 537.7001030209433, 510.1085165980787, 484.98719258485835, 434.680674368789, 2640.27000870558, 429.50068875975677, 407.1548453046492, 1329.0329647035956, 374.54724729865404, 322.8749428706791, 316.8917151887295, 364.20279280426814, 298.4050276923257, 300.56048932820255, 285.48817300310805, 3649.436115171971, 565.9529534950653, 3441.127203130564, 963.5203507353926, 365.97501233382735, 785.9675141312965, 844.6961325263286, 835.2298407179734, 1679.0183895551238, 1564.9627664841778, 1196.3209462819902, 934.8072135762136, 939.8950253957563, 846.9122037728451, 814.8613830913322, 754.6365052364006, 726.6263195123653, 721.3290176054014, 627.3681652119637, 701.0981433451415, 570.2928542100481, 575.207664013224, 1137.4385011518063, 563.6356107757313, 563.3048585515169, 493.1623383208862, 467.5709663192591, 453.59241023619, 446.5304467260277, 441.9011466747094, 791.5750859889395, 360.9008776378713, 369.27056403949166, 413.97443553496976, 271.5954004168193, 272.38979394127136, 248.1944582739305, 292.7704676347583, 4556.893492444548, 379.5983295980901, 282.1221234237717, 3722.7325529252817, 579.6713827711545, 452.0212687774115, 2011.1921997482673, 2070.661691399212, 1721.5349257681157, 1685.5421520024565, 1675.0713406938976, 1492.0239055288905, 1464.263183892008, 1891.475519508647, 1347.5738752874813, 1019.7292694701149, 979.8098067042698, 912.5458943238348, 837.8518834580882, 814.5466470063952, 785.1872063224201, 751.868734363947, 676.3894800297967, 615.7890194739989, 587.2475688111687, 558.8238979306252, 544.1719717306246, 531.4646921533804, 441.3465832884306, 424.3752443620818, 414.59928660319787, 392.55459029282105, 378.79706273702783, 390.00719822244116, 373.20259045814527, 368.8667043081725, 1054.9414489693027, 3626.076403239116, 3107.2482542633634, 1636.5116330681703, 1193.057774133786, 1147.3506544325953, 1916.1315600344954, 1053.0734944710468, 988.8613566597586, 819.4445605516914, 903.8366082246243, 561.3621420406566, 630.4247039460995, 551.2164982594771, 540.9751138686644, 535.638737097838, 502.2691522213935, 492.36388401496055, 475.31087221680235, 438.2537296660953, 413.15333764110767, 360.78010325539594, 339.2148966678792, 330.32330857994384, 320.2536721146634, 447.7929078877811, 605.8363697623118, 333.6310572415253, 304.3198989271859, 297.6263461867973, 292.25479408842483, 304.0225666298324, 2508.9207441171593, 407.5676126611515, 4657.130669984157, 2773.9786237185194, 2158.0264763434157, 1610.8791469521946, 1133.7194978537536, 1328.5219769819823, 662.9994146596414, 704.5848795485886, 639.4473726167101, 672.5036394169481, 623.7617207171647, 617.5274178234038, 579.0488685992101, 524.7996064838918, 527.7470191052337, 499.92457591684905, 498.6019705503573, 485.80647657640606, 440.2685218927726, 355.8930814004664, 697.4185731132452, 240.0549540167646, 240.17181709078108, 210.8962349453844, 195.11925469033713, 189.88994686471634, 181.50612972429172, 168.25050450165153, 210.39778793472283, 176.91631196599386, 367.86664754330224, 260.9612653270856, 495.1738593266676, 201.81170462368496, 2724.4189247481004, 1902.5818783610298, 761.6452304529574, 721.4998405854473, 689.2256510197778, 683.9162882925928, 792.2993454895708, 603.3396280110844, 460.155433204984, 455.3830437583217, 2283.9572078445726, 1200.2954889995638, 305.7150161094392, 414.08357838456186, 256.6510279727565, 235.20919866585547, 1246.8811506552274, 222.96058282306748, 217.57818603348133, 207.15071725853966, 184.87167906605362, 189.08615388456514, 167.00441192228067, 159.8577415608649, 156.91949375234387, 140.09188123606927, 143.4309009190476, 138.2828005549254, 152.92766856243708, 126.53102994583958, 1210.9388303914004, 283.11191469473573, 271.6365139290257, 5335.678181524441, 292.575242299108, 2053.558755032669, 1621.5269742754278, 1043.667964053293, 926.6670981109493, 728.8817290318117, 781.2061782372773, 572.3711122933871, 1265.4827756801533, 522.6979187847854, 449.1902555986707, 436.6007599842216, 406.15116109087825, 389.2309751527386, 565.1531091089522, 348.60210848560865, 354.5072909625399, 327.8121371331432, 377.2211231284974, 774.4844834646541, 231.21525306816162, 192.67949167983932, 171.25040595404386, 155.96533686298432, 182.41189267466078, 132.4330523096893, 131.23768956893602, 113.30475043113923, 106.24406585455156, 97.53273101738179, 555.1739370617469, 6601.102936528622, 670.2115317014847, 652.4956799425896, 360.81692548605133, 673.1648330388532, 1694.8299904028904, 1403.5408054793663, 3776.654361820711, 1395.8522314500456, 995.3860517227808, 591.2486593909697, 4485.754808015382, 600.5702742253985, 598.1939229529199, 525.5064977926677, 466.81031969789365, 451.6904870018435, 444.5920498854687, 381.9971050579704, 308.89603926147515, 285.10053658653754, 746.6125236044672, 265.9381737364587, 243.5208278302983, 204.84740942225085, 187.2982202900108, 218.6002514404988, 161.6125640578954, 150.85584764194437, 131.34827023126542, 143.92244805165512, 258.7271977314054, 147.51023014581097, 121.46210369032855, 117.76154632855224, 134.20550632091945, 137.05364744937606], \"Total\": [9748.0, 8527.0, 6716.0, 5629.0, 6565.0, 4494.0, 4658.0, 4612.0, 3779.0, 3627.0, 9294.0, 3698.0, 3689.0, 3108.0, 2725.0, 2775.0, 3842.0, 2291.0, 2817.0, 2815.0, 2713.0, 2647.0, 2159.0, 2054.0, 1903.0, 2072.0, 2012.0, 1695.0, 1918.0, 1893.0, 6565.422095345746, 9748.328563863088, 1857.4947344235827, 1426.6029104445474, 1049.0143255489318, 971.2050383308807, 874.3796371044482, 899.1838206923377, 722.1274742372289, 692.8539543153464, 704.2470428588547, 702.3650381845653, 571.1750262144494, 512.3224614050002, 496.65244723967055, 490.8370821912453, 470.2545273747561, 477.962324515517, 454.06003983102454, 442.3738598538696, 438.79930051997667, 407.1262452760058, 411.62239749340415, 369.3557107998269, 315.2516562562653, 1493.8088734259386, 306.59732235492703, 249.40163811137583, 244.9838317659055, 225.59755341178303, 1649.790483616459, 379.41281182059976, 260.7604567008017, 4146.820646596534, 9294.0657570841, 1697.1471125302905, 3842.9237443261686, 3698.0497805023133, 2815.536747669015, 1908.4673362748003, 1797.3839379630658, 1401.276958008543, 1322.6333199387368, 1011.5294518590778, 923.4121861851951, 911.6200333167162, 841.8432398491852, 811.8746518742506, 804.6665740258986, 698.5439955144126, 8527.541378381162, 578.6765651517784, 531.1427451684617, 511.72240170273903, 376.4168769047746, 372.75672095327997, 364.0092124685458, 430.49583075048224, 332.53281190688494, 326.5474918243252, 324.755591283628, 322.2233805871035, 331.09651151597063, 291.7209629302487, 279.000543501303, 254.23841557988317, 220.8605083108586, 396.9278861799022, 309.4876784653459, 2561.5029839060358, 1888.592109316681, 9294.0657570841, 4146.820646596534, 1677.9079852690431, 1544.7520296308028, 1865.1538595468508, 1206.6525066580512, 1191.160780065702, 1004.9537652289059, 741.2182726023417, 870.9748515446772, 2713.482228091789, 704.8584990597848, 718.7347738297173, 645.2543418065756, 763.20551436552, 662.0954401827238, 613.811857081066, 538.9310905049227, 511.3368117069875, 486.32052711844295, 435.908805269457, 2647.769545850084, 430.7288782606475, 408.3836085468853, 1333.0998387171746, 375.8031771834163, 324.1032856747622, 318.12047011244755, 365.63524823218995, 299.6346396058386, 301.8314463230507, 286.7576067671865, 3689.1181819425838, 571.0077958698233, 3842.9237443261686, 1026.755239193828, 372.3206775948917, 1034.074930192773, 1697.1471125302905, 4146.820646596534, 1680.2577290682716, 1566.201468798008, 1197.5599562353354, 936.0460025775049, 941.1414504211007, 848.1507926774707, 816.1000399573359, 755.8821319224684, 727.8649236732457, 722.5690286726214, 628.6069293043635, 702.5092174538732, 571.5335129384467, 576.4619727815167, 1139.9262974000817, 564.8746189670588, 564.5572440751449, 494.46199261368236, 468.8190897708278, 454.8473554753825, 447.7692505194067, 443.1398913312515, 794.0734472677959, 362.14036560288275, 370.71956554260066, 415.6994983628737, 272.8394369329616, 273.7374428158221, 249.4332536416922, 294.27068898714236, 4612.2105555046455, 386.3781409338352, 286.4061041691282, 9294.0657570841, 824.577996359015, 1888.592109316681, 2012.433458703065, 2072.015417157809, 1722.7722129907481, 1686.7756022030403, 1676.3862277770195, 1493.256252222054, 1465.5116152045427, 1893.1223510858897, 1348.864292367623, 1020.9713586919829, 981.0496175488626, 913.7785602316962, 839.1216025271074, 815.8206635153355, 786.4196651038556, 753.101052373081, 677.6217211136143, 617.0763475694861, 588.5113867178324, 560.0563332684069, 545.4043042207775, 532.697550207755, 442.5803850454924, 425.61059730554666, 415.84229323504746, 393.78786052619694, 380.02918863789233, 391.28386153098154, 374.4348572063166, 370.10324515394797, 1193.1764250693248, 3627.3055128652977, 3108.4649871638103, 1637.736376414484, 1194.2922875945196, 1148.5656117888955, 1918.1870704356722, 1054.2883769675298, 990.0773623820037, 820.6708067992088, 905.7604463437333, 562.5777532534306, 631.814119259219, 552.4385034596589, 542.1914776130187, 536.8539378728094, 503.49391248518583, 493.57890940176975, 476.53533472387517, 439.47673217989484, 414.4217275498707, 362.0134556818035, 340.4341972655927, 331.5391021708052, 321.47283448152217, 449.5027118975553, 608.1608708539273, 334.96902659028626, 305.5441168735707, 298.8416685767619, 293.5159547178679, 305.3440482784454, 2817.4553901598047, 4146.820646596534, 4658.302687166432, 2775.55829309919, 2159.433099444402, 1612.0485541567714, 1134.8921384451694, 1330.1155177006044, 664.1733452240754, 705.8699570522966, 640.6168141136588, 673.7453886015699, 624.9311031512116, 618.6971013099787, 580.219315331444, 525.975110767346, 528.9594519831467, 501.0939615561981, 499.77137734522324, 486.9768882177825, 441.43907280325635, 357.06285777698866, 699.8060971380586, 241.22433262566514, 241.48200407935792, 212.06955703475623, 196.29801045574627, 191.0599586364751, 182.6757260826109, 169.4198354714669, 211.86105039818818, 178.17750753925708, 376.4831205331667, 271.9769438892574, 922.3722114718155, 1034.074930192773, 2725.63648863051, 1903.8970090914383, 762.8898938041524, 722.7147802519298, 690.435331047683, 685.125304667689, 793.737062875093, 604.5499460826134, 461.367164643855, 456.65684219272845, 2291.428470841576, 1204.2413942912553, 306.92480607746154, 415.79043775560945, 257.8603797106178, 236.42039884798695, 1253.325823565711, 224.17008272109658, 218.8194506275729, 208.3598667700435, 186.107737007874, 190.43366411162307, 168.2141892288387, 161.07243564257777, 158.129551113268, 141.31040036494772, 144.69490075478313, 139.50160024429587, 154.2769624243521, 127.82864539837372, 1241.148901738429, 286.7022182708174, 274.98322796679656, 5629.230675368498, 922.3722114718155, 2054.8525546204896, 1622.922629808163, 1044.9107565654308, 927.9520885201167, 730.0734900657267, 782.6331780768036, 573.5926104083413, 1268.1847848498523, 523.889877726923, 450.4260317689406, 437.80682212948386, 407.3558505292954, 390.4225898470377, 567.0385711053283, 349.7949585153464, 355.72587672618374, 329.01335957293315, 378.6275786791962, 777.4875920226773, 232.40903321920425, 193.87553624615606, 172.4427022685351, 157.17171742571347, 183.88491053843245, 133.62733232243698, 132.43852876583279, 114.57262199523367, 107.45549770532571, 98.72737327149693, 562.749895983979, 6716.3312212413375, 689.2027072992113, 674.5107732077563, 374.529764072681, 9294.0657570841, 1695.990539901504, 1404.6951544504448, 3779.7646936690726, 1397.0068865592425, 996.540639882218, 592.4047480707388, 4494.758683979643, 601.7938403577647, 599.5472081316678, 526.765516692436, 467.9647903720758, 452.85323574590586, 445.74641895947866, 383.15521037824675, 310.0876691707171, 286.2829580415648, 749.8251410023294, 267.0925174184841, 244.72055200622864, 206.04151934281688, 188.47142446204288, 219.97315223231678, 162.7863184729259, 152.01365386898775, 132.54886632927145, 145.26802462586522, 261.24402781963124, 148.9710055137271, 122.70172377537685, 118.9927975646282, 138.84519123431235, 1193.1764250693248], \"Category\": [\"Default\", \"Default\", \"Default\", \"Default\", \"Default\", \"Default\", \"Default\", \"Default\", \"Default\", \"Default\", \"Default\", \"Default\", \"Default\", \"Default\", \"Default\", \"Default\", \"Default\", \"Default\", \"Default\", \"Default\", \"Default\", \"Default\", \"Default\", \"Default\", \"Default\", \"Default\", \"Default\", \"Default\", \"Default\", \"Default\", \"Topic1\", \"Topic1\", \"Topic1\", \"Topic1\", \"Topic1\", \"Topic1\", \"Topic1\", \"Topic1\", \"Topic1\", \"Topic1\", \"Topic1\", \"Topic1\", \"Topic1\", \"Topic1\", \"Topic1\", \"Topic1\", \"Topic1\", \"Topic1\", \"Topic1\", \"Topic1\", \"Topic1\", \"Topic1\", \"Topic1\", \"Topic1\", \"Topic1\", \"Topic1\", \"Topic1\", \"Topic1\", \"Topic1\", \"Topic1\", \"Topic1\", \"Topic1\", \"Topic1\", \"Topic1\", \"Topic1\", \"Topic1\", \"Topic1\", \"Topic2\", \"Topic2\", \"Topic2\", \"Topic2\", \"Topic2\", \"Topic2\", \"Topic2\", \"Topic2\", \"Topic2\", \"Topic2\", \"Topic2\", \"Topic2\", \"Topic2\", \"Topic2\", \"Topic2\", \"Topic2\", \"Topic2\", \"Topic2\", \"Topic2\", \"Topic2\", \"Topic2\", \"Topic2\", \"Topic2\", \"Topic2\", \"Topic2\", \"Topic2\", \"Topic2\", \"Topic2\", \"Topic2\", \"Topic2\", \"Topic2\", \"Topic2\", \"Topic2\", \"Topic2\", \"Topic2\", \"Topic2\", \"Topic3\", \"Topic3\", \"Topic3\", \"Topic3\", \"Topic3\", \"Topic3\", \"Topic3\", \"Topic3\", \"Topic3\", \"Topic3\", \"Topic3\", \"Topic3\", \"Topic3\", \"Topic3\", \"Topic3\", \"Topic3\", \"Topic3\", \"Topic3\", \"Topic3\", \"Topic3\", \"Topic3\", \"Topic3\", \"Topic3\", \"Topic3\", \"Topic3\", \"Topic3\", \"Topic3\", \"Topic3\", \"Topic3\", \"Topic3\", \"Topic3\", \"Topic3\", \"Topic3\", \"Topic3\", \"Topic3\", \"Topic3\", \"Topic3\", \"Topic3\", \"Topic4\", \"Topic4\", \"Topic4\", \"Topic4\", \"Topic4\", \"Topic4\", \"Topic4\", \"Topic4\", \"Topic4\", \"Topic4\", \"Topic4\", \"Topic4\", \"Topic4\", \"Topic4\", \"Topic4\", \"Topic4\", \"Topic4\", \"Topic4\", \"Topic4\", \"Topic4\", \"Topic4\", \"Topic4\", \"Topic4\", \"Topic4\", \"Topic4\", \"Topic4\", \"Topic4\", \"Topic4\", \"Topic4\", \"Topic4\", \"Topic4\", \"Topic4\", \"Topic4\", \"Topic4\", \"Topic4\", \"Topic4\", \"Topic5\", \"Topic5\", \"Topic5\", \"Topic5\", \"Topic5\", \"Topic5\", \"Topic5\", \"Topic5\", \"Topic5\", \"Topic5\", \"Topic5\", \"Topic5\", \"Topic5\", \"Topic5\", \"Topic5\", \"Topic5\", \"Topic5\", \"Topic5\", \"Topic5\", \"Topic5\", \"Topic5\", \"Topic5\", \"Topic5\", \"Topic5\", \"Topic5\", \"Topic5\", \"Topic5\", \"Topic5\", \"Topic5\", \"Topic5\", \"Topic5\", \"Topic6\", \"Topic6\", \"Topic6\", \"Topic6\", \"Topic6\", \"Topic6\", \"Topic6\", \"Topic6\", \"Topic6\", \"Topic6\", \"Topic6\", \"Topic6\", \"Topic6\", \"Topic6\", \"Topic6\", \"Topic6\", \"Topic6\", \"Topic6\", \"Topic6\", \"Topic6\", \"Topic6\", \"Topic6\", \"Topic6\", \"Topic6\", \"Topic6\", \"Topic6\", \"Topic6\", \"Topic6\", \"Topic6\", \"Topic6\", \"Topic6\", \"Topic6\", \"Topic6\", \"Topic7\", \"Topic7\", \"Topic7\", \"Topic7\", \"Topic7\", \"Topic7\", \"Topic7\", \"Topic7\", \"Topic7\", \"Topic7\", \"Topic7\", \"Topic7\", \"Topic7\", \"Topic7\", \"Topic7\", \"Topic7\", \"Topic7\", \"Topic7\", \"Topic7\", \"Topic7\", \"Topic7\", \"Topic7\", \"Topic7\", \"Topic7\", \"Topic7\", \"Topic7\", \"Topic7\", \"Topic7\", \"Topic7\", \"Topic7\", \"Topic7\", \"Topic7\", \"Topic7\", \"Topic7\", \"Topic8\", \"Topic8\", \"Topic8\", \"Topic8\", \"Topic8\", \"Topic8\", \"Topic8\", \"Topic8\", \"Topic8\", \"Topic8\", \"Topic8\", \"Topic8\", \"Topic8\", \"Topic8\", \"Topic8\", \"Topic8\", \"Topic8\", \"Topic8\", \"Topic8\", \"Topic8\", \"Topic8\", \"Topic8\", \"Topic8\", \"Topic8\", \"Topic8\", \"Topic8\", \"Topic8\", \"Topic8\", \"Topic8\", \"Topic8\", \"Topic8\", \"Topic8\", \"Topic8\", \"Topic8\", \"Topic8\", \"Topic9\", \"Topic9\", \"Topic9\", \"Topic9\", \"Topic9\", \"Topic9\", \"Topic9\", \"Topic9\", \"Topic9\", \"Topic9\", \"Topic9\", \"Topic9\", \"Topic9\", \"Topic9\", \"Topic9\", \"Topic9\", \"Topic9\", \"Topic9\", \"Topic9\", \"Topic9\", \"Topic9\", \"Topic9\", \"Topic9\", \"Topic9\", \"Topic9\", \"Topic9\", \"Topic9\", \"Topic9\", \"Topic9\", \"Topic9\", \"Topic9\", \"Topic9\", \"Topic9\", \"Topic9\", \"Topic9\", \"Topic10\", \"Topic10\", \"Topic10\", \"Topic10\", \"Topic10\", \"Topic10\", \"Topic10\", \"Topic10\", \"Topic10\", \"Topic10\", \"Topic10\", \"Topic10\", \"Topic10\", \"Topic10\", \"Topic10\", \"Topic10\", \"Topic10\", \"Topic10\", \"Topic10\", \"Topic10\", \"Topic10\", \"Topic10\", \"Topic10\", \"Topic10\", \"Topic10\", \"Topic10\", \"Topic10\", \"Topic10\", \"Topic10\", \"Topic10\", \"Topic10\", \"Topic10\"], \"logprob\": [30.0, 29.0, 28.0, 27.0, 26.0, 25.0, 24.0, 23.0, 22.0, 21.0, 20.0, 19.0, 18.0, 17.0, 16.0, 15.0, 14.0, 13.0, 12.0, 11.0, 10.0, 9.0, 8.0, 7.0, 6.0, 5.0, 4.0, 3.0, 2.0, 1.0, -1.9959, -1.6008, -3.2589, -3.5229, -3.8307, -3.9079, -4.013, -3.9853, -4.2046, -4.2461, -4.2298, -4.2325, -4.4396, -4.5486, -4.5797, -4.5915, -4.6345, -4.6182, -4.6696, -4.6957, -4.7039, -4.779, -4.7682, -4.8767, -5.0357, -3.48, -5.0636, -5.271, -5.289, -5.3718, -3.3908, -4.8535, -5.2314, -3.4541, -2.9554, -4.0383, -4.7942, -2.5646, -2.8374, -3.2264, -3.2864, -3.5356, -3.5934, -3.8618, -3.9531, -3.966, -4.0457, -4.082, -4.0909, -4.2327, -1.7306, -4.4212, -4.5071, -4.5445, -4.8524, -4.8622, -4.886, -4.7185, -4.9768, -4.995, -5.0006, -5.0084, -4.9813, -5.1083, -5.153, -5.2469, -5.3879, -4.8029, -5.0579, -3.0452, -3.5211, -3.0703, -3.8338, -3.2905, -3.3733, -3.1848, -3.6205, -3.6334, -3.8036, -4.1084, -3.9472, -2.8108, -4.1588, -4.1394, -4.2473, -4.0795, -4.2216, -4.2974, -4.4278, -4.4805, -4.531, -4.6405, -2.8364, -4.6525, -4.7059, -3.5229, -4.7894, -4.9378, -4.9565, -4.8174, -5.0166, -5.0094, -5.0609, -2.5127, -4.3766, -2.5715, -3.8445, -4.8125, -4.0482, -3.9761, -3.9874, -3.0851, -3.1554, -3.424, -3.6707, -3.6653, -3.7694, -3.808, -3.8848, -3.9226, -3.9299, -4.0695, -3.9584, -4.1649, -4.1563, -3.4745, -4.1766, -4.1772, -4.3102, -4.3635, -4.3938, -4.4095, -4.42, -3.837, -4.6224, -4.5995, -4.4852, -4.9067, -4.9038, -4.9968, -4.8317, -2.0866, -4.5719, -4.8687, -2.2888, -4.1486, -4.3973, -2.8896, -2.8605, -3.0451, -3.0663, -3.0725, -3.1882, -3.207, -2.951, -3.29, -3.5688, -3.6087, -3.6799, -3.7653, -3.7935, -3.8302, -3.8735, -3.9793, -4.0732, -4.1207, -4.1703, -4.1968, -4.2205, -4.4063, -4.4455, -4.4688, -4.5234, -4.5591, -4.5299, -4.574, -4.5857, -3.5349, -2.2645, -2.4189, -3.0601, -3.3762, -3.4152, -2.9024, -3.501, -3.5639, -3.7518, -3.6538, -4.1301, -4.014, -4.1483, -4.1671, -4.177, -4.2413, -4.2612, -4.2965, -4.3776, -4.4366, -4.5722, -4.6338, -4.6604, -4.6913, -4.3561, -4.0538, -4.6504, -4.7424, -4.7646, -4.7828, -4.7433, -2.6328, -4.4502, -1.8421, -2.3603, -2.6113, -2.9038, -3.255, -3.0965, -3.7915, -3.7307, -3.8277, -3.7773, -3.8525, -3.8626, -3.9269, -4.0253, -4.0197, -4.0738, -4.0765, -4.1025, -4.2009, -4.4137, -3.7409, -4.8074, -4.8069, -4.9369, -5.0147, -5.0418, -5.087, -5.1628, -4.9393, -5.1126, -4.3806, -4.7239, -4.0834, -4.981, -2.3048, -2.6639, -3.5793, -3.6335, -3.6793, -3.687, -3.5399, -3.8123, -4.0833, -4.0937, -2.4812, -3.1245, -4.4922, -4.1888, -4.6671, -4.7543, -3.0864, -4.8078, -4.8323, -4.8814, -4.9952, -4.9726, -5.0968, -5.1405, -5.1591, -5.2725, -5.249, -5.2855, -5.1849, -5.3743, -3.1157, -4.569, -4.6104, -1.6327, -4.5361, -2.5848, -2.821, -3.2616, -3.3805, -3.6206, -3.5513, -3.8623, -3.0689, -3.9531, -4.1047, -4.1331, -4.2054, -4.2479, -3.875, -4.3582, -4.3414, -4.4197, -4.2793, -3.5599, -4.7688, -4.9511, -5.069, -5.1625, -5.0058, -5.326, -5.3351, -5.482, -5.5464, -5.6319, -3.8928, -1.4171, -3.7045, -3.7313, -4.3237, -3.7001, -2.6576, -2.8462, -1.8564, -2.8517, -3.1898, -3.7107, -1.6843, -3.6951, -3.6991, -3.8286, -3.947, -3.98, -3.9958, -4.1476, -4.36, -4.4401, -3.4774, -4.5097, -4.5978, -4.7707, -4.8603, -4.7057, -5.0078, -5.0766, -5.2151, -5.1237, -4.5372, -5.0991, -5.2934, -5.3243, -5.1936, -5.1726], \"loglift\": [30.0, 29.0, 28.0, 27.0, 26.0, 25.0, 24.0, 23.0, 22.0, 21.0, 20.0, 19.0, 18.0, 17.0, 16.0, 15.0, 14.0, 13.0, 12.0, 11.0, 10.0, 9.0, 8.0, 7.0, 6.0, 5.0, 4.0, 3.0, 2.0, 1.0, 2.0008, 2.0006, 2.0003, 2.0002, 1.9999, 1.9998, 1.9997, 1.9994, 1.9994, 1.9993, 1.9993, 1.9993, 1.999, 1.9987, 1.9986, 1.9986, 1.9985, 1.9985, 1.9984, 1.9983, 1.9983, 1.9981, 1.998, 1.9978, 1.9972, 1.9971, 1.9971, 1.9962, 1.9961, 1.9956, 1.987, 1.9941, 1.9912, 1.002, 0.6937, 1.3112, -0.262, 2.0061, 2.0059, 2.0057, 2.0057, 2.0055, 2.0055, 2.0052, 2.0051, 2.005, 2.0049, 2.0049, 2.0049, 2.0046, 2.0045, 2.0043, 2.0041, 2.004, 2.0031, 2.0031, 2.003, 2.0028, 2.0027, 2.0026, 2.0026, 2.0026, 2.0025, 2.0022, 2.002, 2.0011, 2.0008, 1.9996, 1.9934, 1.8927, 1.7215, 0.5788, 0.6224, 2.0704, 2.0704, 2.0703, 2.0701, 2.0701, 2.0699, 2.0695, 2.0695, 2.0694, 2.0694, 2.0693, 2.0692, 2.0692, 2.0692, 2.0691, 2.0689, 2.0687, 2.0684, 2.0683, 2.0683, 2.0683, 2.0681, 2.0681, 2.0678, 2.0674, 2.0673, 2.0672, 2.067, 2.0669, 2.0667, 2.0603, 2.0623, 1.9607, 2.0076, 2.054, 1.7968, 1.3734, 0.4688, 2.2745, 2.2744, 2.2742, 2.2739, 2.2739, 2.2737, 2.2737, 2.2735, 2.2735, 2.2735, 2.2732, 2.2732, 2.273, 2.273, 2.273, 2.273, 2.273, 2.2726, 2.2725, 2.2724, 2.2724, 2.2724, 2.272, 2.2718, 2.2713, 2.271, 2.2706, 2.2703, 2.2702, 2.2701, 2.2631, 2.2575, 2.2601, 1.3603, 1.9228, 0.8453, 2.2895, 2.2895, 2.2894, 2.2894, 2.2893, 2.2893, 2.2893, 2.2893, 2.2892, 2.2889, 2.2889, 2.2888, 2.2886, 2.2886, 2.2886, 2.2885, 2.2883, 2.288, 2.288, 2.2879, 2.2879, 2.2878, 2.2873, 2.2872, 2.2871, 2.287, 2.2869, 2.2869, 2.2868, 2.2868, 2.167, 2.3254, 2.3254, 2.325, 2.3248, 2.3247, 2.3247, 2.3246, 2.3246, 2.3243, 2.3237, 2.3236, 2.3236, 2.3236, 2.3235, 2.3235, 2.3234, 2.3233, 2.3232, 2.323, 2.3227, 2.3224, 2.3222, 2.3221, 2.322, 2.322, 2.322, 2.3218, 2.3218, 2.3217, 2.3215, 2.3215, 2.2098, 0.0059, 2.4977, 2.4974, 2.4973, 2.4972, 2.4969, 2.4967, 2.4962, 2.4961, 2.4961, 2.4961, 2.4961, 2.496, 2.4959, 2.4957, 2.4956, 2.4956, 2.4956, 2.4955, 2.4953, 2.4947, 2.4945, 2.4931, 2.4925, 2.4924, 2.4919, 2.4918, 2.4915, 2.491, 2.491, 2.4908, 2.4748, 2.4566, 1.8759, 0.864, 2.571, 2.5707, 2.5698, 2.5697, 2.5697, 2.5696, 2.5696, 2.5694, 2.5688, 2.5686, 2.5681, 2.5681, 2.5675, 2.5673, 2.5667, 2.5663, 2.5663, 2.566, 2.5657, 2.5656, 2.5647, 2.5643, 2.5642, 2.5638, 2.5637, 2.5627, 2.5626, 2.5626, 2.5626, 2.5612, 2.5468, 2.5588, 2.5592, 2.5178, 1.4232, 2.5735, 2.5733, 2.5729, 2.5727, 2.5725, 2.5723, 2.572, 2.572, 2.5718, 2.5714, 2.5714, 2.5712, 2.5711, 2.5708, 2.5707, 2.5707, 2.5705, 2.5704, 2.5703, 2.569, 2.5679, 2.5672, 2.5664, 2.5661, 2.5651, 2.565, 2.563, 2.5628, 2.5619, 2.5606, 2.5568, 2.5462, 2.5409, 2.5368, -0.051, 2.6926, 2.6924, 2.6924, 2.6924, 2.6921, 2.6913, 2.6913, 2.6912, 2.691, 2.6909, 2.6908, 2.6907, 2.6907, 2.6902, 2.6894, 2.6891, 2.689, 2.6889, 2.6883, 2.6874, 2.687, 2.687, 2.686, 2.6856, 2.6842, 2.684, 2.6836, 2.6834, 2.6831, 2.6829, 2.6593, 0.5293]}, \"token.table\": {\"Topic\": [6, 2, 2, 9, 5, 8, 3, 8, 9, 5, 6, 6, 7, 3, 1, 7, 9, 5, 2, 4, 6, 10, 3, 8, 4, 3, 7, 2, 1, 1, 7, 1, 4, 3, 1, 6, 4, 2, 6, 3, 3, 4, 2, 3, 4, 6, 10, 2, 9, 2, 2, 5, 9, 1, 4, 4, 3, 5, 10, 1, 3, 4, 1, 6, 4, 2, 10, 5, 7, 9, 6, 8, 9, 8, 3, 8, 9, 9, 4, 10, 2, 6, 8, 6, 3, 9, 9, 4, 8, 1, 9, 3, 4, 4, 4, 10, 1, 2, 4, 9, 7, 9, 1, 8, 4, 8, 8, 8, 4, 7, 1, 3, 2, 5, 6, 2, 9, 6, 1, 5, 7, 8, 10, 2, 3, 6, 5, 3, 8, 5, 1, 1, 5, 1, 7, 2, 3, 7, 1, 2, 3, 4, 5, 6, 7, 8, 9, 10, 10, 4, 1, 9, 3, 5, 4, 8, 3, 4, 4, 9, 6, 6, 2, 8, 5, 4, 8, 6, 2, 4, 6, 2, 5, 1, 3, 1, 2, 6, 10, 8, 1, 8, 7, 1, 6, 4, 6, 7, 5, 8, 8, 4, 8, 1, 7, 7, 1, 7, 8, 7, 6, 6, 3, 6, 4, 1, 2, 8, 10, 2, 2, 6, 2, 4, 1, 1, 5, 7, 8, 10, 9, 6, 7, 10, 9, 3, 3, 9, 10, 10, 7, 5, 4, 6, 10, 8, 7, 9, 1, 4, 8, 7, 2, 3, 10, 5, 5, 8, 9, 2, 9, 9, 9, 3, 5, 7, 6, 1, 3, 4, 7, 2, 10, 6, 3, 4, 5, 1, 3, 5, 2, 8, 10, 6, 10, 7, 5, 10, 10, 2, 5, 6, 10, 5, 6, 1, 1, 9, 3, 7, 1, 3, 6, 10, 7, 10, 2, 3, 4, 7, 10, 1, 3, 4, 10, 2, 3, 6, 9, 8, 8, 9, 3, 6, 2, 6, 2, 4, 10, 5, 7, 4, 9, 1, 4, 2, 10, 2, 2, 7, 1, 3, 5, 7, 7, 2, 2, 6, 3, 1, 6, 3, 4, 9, 10, 2, 3, 7, 1, 6, 8, 4, 10, 7, 10, 3, 4, 1, 2, 4, 5, 5, 10, 10, 7, 2, 8, 10, 1, 10, 3, 5, 8, 5, 6, 1, 8, 10, 5, 5, 7, 1, 2, 8, 10, 8, 10, 2, 4, 10, 5, 1, 2, 8, 10, 5, 5, 3, 1, 7, 9, 8, 1, 2, 3, 4, 6, 8, 1, 2, 3, 4, 1, 2, 4, 5, 8, 9, 1, 9, 5, 6, 9, 8, 9, 3, 10, 7, 7, 8, 3, 4, 5, 7, 8, 2, 7, 3, 5, 1, 2, 3, 4, 8, 2, 10, 7, 5, 9, 5, 9], \"Freq\": [0.9989118402026568, 0.996688242014541, 0.9987650999607265, 0.9963562819262198, 0.9974252051003084, 0.994780379670233, 0.0034879395284462197, 0.9870868865502801, 0.0034879395284462197, 0.0005213255867546187, 0.9988598242218495, 0.9966569458697776, 0.0022246806827450395, 0.9973856532986061, 0.9929185694276258, 0.9987675391995297, 0.9968340378478122, 0.9990485935930393, 0.8924447929059519, 0.0007807915948433525, 0.10657805269611761, 0.9921928511643461, 0.9993813595908216, 0.9935175296914766, 0.9974638868641024, 0.9945445573048934, 0.996740042076208, 0.9966341092416361, 0.9973322375400411, 0.9963295252782443, 0.9982333750179637, 0.9966728297648494, 0.9978516759405048, 0.9975863504968966, 0.9976654192440739, 0.9971954929886467, 0.9988825308001694, 0.9951289203204854, 0.9955982496268609, 0.9983454950506508, 0.9990255051332045, 0.9986431744361898, 0.9981775077139394, 0.0004690683776851219, 0.0007036025665276828, 0.0003518012832638414, 0.00023453418884256095, 0.997789694673024, 0.9897495094463529, 0.9961038380404005, 0.9964138295619545, 0.99866336115799, 0.9925449855425339, 0.998294582415191, 0.9974276941580974, 0.9936528857800755, 0.9995131712945653, 0.8841944726981205, 0.11481956659681754, 0.5014297191545388, 0.497894374483649, 0.995361546294208, 0.9981784371145772, 0.9970329085453843, 0.9970432659425361, 0.9979288638552979, 0.9933318235356584, 0.9979744887695409, 0.9933913794422248, 0.9966715820393062, 0.9984093664727636, 0.9969868643421799, 0.991633729641464, 0.9962551289420446, 0.9994588587234731, 0.031133676190419842, 0.9666265179120827, 0.9985296136891232, 0.998282038084316, 0.9964923817395709, 0.0016443017759361692, 0.9964468762173185, 0.9939920630583986, 0.9967781303672585, 0.9979151481721155, 0.9989739895713419, 0.9979132266270427, 0.9986520770696281, 0.9983575199163972, 0.9980565117704413, 0.9926325065947346, 0.9972453290298956, 0.9974436659389967, 0.998832976881958, 0.021606797998047052, 0.9651036439127683, 0.9943799963705535, 0.29590893896926673, 0.7033901008285849, 0.9981571275532906, 0.9993363538584404, 0.9995851018027679, 0.996058529605571, 0.9907267946197627, 0.9968510397867846, 0.997811538661429, 0.9924715825938069, 0.9928567993438563, 0.9981370552885882, 0.9985100707157694, 0.9987674829449588, 0.9972846568367834, 0.9926236319446319, 0.002519349319656426, 0.9995287104182097, 0.9953904942550026, 0.9977273585682295, 0.9986368982556799, 0.043345177000412655, 0.007993987561551515, 0.0001776441680344781, 0.9479092806319751, 0.0003552883360689562, 0.9989983410102143, 0.9984204590469683, 0.9989179469649574, 0.9985379752562934, 0.9964778434029992, 0.9974361984602649, 0.9989301075806084, 0.996894346663423, 0.9972336706634025, 0.9988789149921175, 0.9988764144298234, 0.9978985268169718, 0.998487980892433, 0.021249292634077686, 0.9774674611675734, 0.27049518108732823, 0.2398304529211037, 0.00043038214970139737, 0.4005781858345756, 0.011835509116788427, 0.003765843809887227, 0.00043038214970139737, 0.00010759553742534934, 0.07241179668726011, 0.00010759553742534934, 0.9994159519890001, 0.9972416542494358, 0.9947901620840709, 0.998301403091077, 0.9978627717055614, 0.9991587162483435, 0.9992514665777082, 0.9963718003550045, 0.9965958824747325, 0.9973168451127872, 0.9986973877781958, 0.9972234467818413, 0.9972005027274613, 0.9973960839973133, 0.9941006538818392, 0.9995288562946656, 0.997019088137179, 0.002405057714645601, 0.9956938938632788, 0.9971287136454849, 0.9976733540425233, 0.9987871637992461, 0.997802478160918, 0.9997161259137591, 0.9961679390187597, 0.99919529547197, 0.998056050575245, 0.9982292536809351, 0.9994541901574231, 0.9966397943923676, 0.9995051207742531, 0.999399593952702, 0.0024911948835354735, 0.9964779534141893, 0.9912157029586591, 0.10896357084205231, 0.8905198672400952, 0.9974329064898705, 0.0008772496978802731, 0.0008772496978802731, 0.9993592443861747, 0.9976273070666521, 0.9966633892667678, 0.9973888469952872, 0.0012593293522667767, 0.9984221532090832, 0.9963009530762432, 0.9992139002333811, 0.9960296600147033, 0.9978168534444105, 0.9892359640200094, 0.9944522198997653, 0.995418479188459, 0.9968011003474937, 0.9938707580001062, 0.99710711584247, 0.9992328772370964, 0.0007978771211742855, 0.001595754242348571, 0.994952770104334, 0.001595754242348571, 0.9992300265214152, 0.9990887183284896, 0.9957871527681053, 0.998470687081758, 0.9956819043326538, 0.9979427913327424, 0.999453386923904, 0.00010258168807594212, 0.00010258168807594212, 0.00030774506422782635, 0.9969850067362875, 0.9939372699946853, 0.001428967258344305, 0.9959901790659806, 0.001428967258344305, 0.9979594491891787, 0.9986773519088947, 0.026117134783954728, 0.9721377947360926, 0.9912711374087244, 0.9916566583444768, 0.9988732752933499, 0.999509937450561, 0.9942539592425352, 0.9979640962181593, 0.9883147523463246, 0.9933419046014954, 0.9993495517526022, 0.9891381399413136, 0.9986834497406479, 0.9984516582305323, 0.9979211216704322, 0.9997203515413412, 0.013429283681741453, 0.9830235655034744, 0.998325462801875, 0.9962157960451572, 0.9982557303099924, 0.0025723883191458895, 0.9955142795094593, 0.9971027595504258, 0.9864548791229174, 0.9862740158351347, 0.9878218602874574, 0.025737475757688616, 0.007353564502196748, 0.9596401675366756, 0.9948351880247019, 0.9974186932945054, 0.010474637084649716, 0.9846158859570734, 0.9949245061128842, 0.9979699334425286, 0.9984540119885125, 0.9965693701479501, 0.9912298993007707, 0.007005158298945376, 0.9976067456767043, 0.10408741536716008, 0.8954119906959946, 0.0002602185384179002, 0.9962033152750291, 0.9988335226205253, 0.9955185664898064, 0.9995503693847869, 0.9985467600513361, 0.9949565743913874, 0.999173085680346, 0.9955760408829846, 0.9949450996763232, 0.0002224813544638627, 0.0008899254178554508, 0.0006674440633915881, 0.998051356124888, 0.9981947741557708, 0.9987779653122654, 0.9959840951183848, 0.9936406685661933, 0.005271303281518267, 0.998307802663265, 0.9981460895251804, 0.9979866101026007, 0.9988807351406894, 0.9971835635212106, 0.9986808765651494, 0.9933875516479629, 0.9951696280111115, 0.9978485159048924, 0.9970656260994235, 0.0003776763735225089, 0.0018883818676125445, 0.0003776763735225089, 0.0011055904361347891, 0.9983481638297146, 0.9982528660016208, 0.9979383270025322, 0.0007501313637261314, 0.9969245823920286, 0.0015002627274522627, 0.9969200047856764, 0.9917229221765483, 0.9757088761097072, 0.02336544790023246, 0.9986305032733674, 0.9953577054388828, 0.9965253304593576, 0.9949463374082583, 0.9982229072886627, 0.9959117141840037, 0.0024055838506859993, 0.9995517614081971, 0.9981861521151583, 0.9969233299174128, 0.9991283881808009, 0.015528828793209246, 0.9834924902365856, 0.0038278387006436087, 0.9914102234666946, 0.9972275084421579, 0.9887308002611277, 0.00969343921824635, 0.060384400910074944, 0.9388800399566491, 0.9995401864942632, 0.9991613377291223, 0.9970233314559631, 0.9952610512618553, 0.0011040446776370968, 0.9980563885839355, 0.9990509362102955, 0.9996310830727146, 0.00015231313165819208, 0.008884941668904984, 0.0017769883337809967, 0.9862285252484532, 0.0017769883337809967, 0.043517155948854754, 0.7600996572399964, 0.19534367781485912, 0.003636585428842035, 0.003636585428842035, 0.9891512366450336, 0.9988116975483847, 0.9934819160924733, 0.9984565395695112, 0.9992792544053076, 0.9983563915686205, 0.9978285414813534, 0.0005294949582108621, 0.7518828406594242, 0.23933172111130968, 0.0074129294149520705, 0.999147977129712, 0.9959095918184323, 0.9970556130234198, 0.9938628798240763, 0.001333644266266198, 0.001333644266266198, 0.9962322669008499, 0.9894138216517658, 0.0038349372932238984, 0.9982723384838489, 0.9989940638279505, 0.9940478723470421, 0.9992876988320454, 0.9996400874255925, 0.9987592338555495, 0.9967581484929146, 0.0026184539802791102, 0.9964291570550965, 0.997431847960901, 0.9916194259809322, 0.9961113677062204, 0.0020082890477947993, 0.001338859365196533, 0.9981158669552168, 0.9927818857945038, 0.986131215413957, 0.9962358836925024, 0.0002645667339226044, 0.9992685540256769, 0.9967188487509856, 0.9861858315690484, 0.0012122751463663779, 0.011516613890480589, 0.0006061375731831889, 0.9981138803265696, 0.9972918168691696, 0.9955276515595906, 0.9990330679722595, 0.03471019194479088, 0.9638753301591928, 0.9882863822709584, 0.3682339146385006, 0.25055339705920243, 0.20135908233343025, 0.08078478153496903, 0.09838862945154436, 0.0004822972031938449, 0.00021681577368719778, 0.00021681577368719778, 0.011491236005421483, 0.9880294806925604, 0.00014889081063145903, 0.0008933448637887542, 0.0013400172956831314, 0.014293517820620067, 0.0004466724318943771, 0.9828282409782612, 0.9984386769961636, 0.9957013731411911, 0.9979992767548899, 0.0017635484620573518, 0.9964048810624038, 0.9970367101332182, 0.9954840292740987, 0.9987820263770247, 0.9974193723018254, 0.999438565890306, 0.9988936642622267, 0.9934734707257981, 0.03360899170036114, 0.05854469521998393, 0.05312389010702245, 0.536659706183186, 0.31765917961954243, 0.9989226762133397, 0.9974761603535246, 0.9966119880476877, 0.9968132945100031, 0.007860957163679, 0.0013553374420136207, 0.9891252651815403, 0.00027106748840272413, 0.0008132024652081724, 0.9992311441506437, 0.9976287359692615, 0.9979939741671157, 0.9989685409594439, 0.999431501051734, 0.0015770572426768166, 0.9974887059930865], \"Term\": [\"aa\", \"acats\", \"account\", \"active\", \"advisor\", \"affect\", \"allan\", \"allan\", \"allan\", \"allocation\", \"allocation\", \"alternative\", \"alternative\", \"annuity\", \"another\", \"anyone\", \"apply\", \"article\", \"asset\", \"asset\", \"asset\", \"auction\", \"avantis\", \"average\", \"b\", \"bad\", \"balance\", \"bank\", \"bear\", \"beat\", \"believe\", \"ben\", \"bernstein\", \"best\", \"better\", \"big\", \"bill\", \"bnd\", \"bogle\", \"boglehead\", \"bogleheads\", \"bogleheads\\u00ae\", \"bond\", \"bond\", \"bond\", \"bond\", \"bond\", \"bondsfixed\", \"bottom\", \"broker\", \"brokerage\", \"bubble\", \"building\", \"bull\", \"buy\", \"buyback\", \"buying\", \"call\", \"call\", \"cap\", \"cap\", \"capital\", \"case\", \"cash\", \"cd\", \"change\", \"chart\", \"check\", \"choose\", \"coming\", \"company\", \"comparing\", \"consider\", \"considering\", \"contest\", \"conversion\", \"conversion\", \"corporate\", \"cost\", \"country\", \"course\", \"course\", \"crash\", \"current\", \"curve\", \"customer\", \"cut\", \"date\", \"day\", \"decade\", \"deposit\", \"difference\", \"different\", \"direct\", \"disappointing\", \"disappointing\", \"discussion\", \"distribution\", \"distribution\", \"diversification\", \"dividend\", \"doe\", \"dollar\", \"done\", \"dont\", \"downturn\", \"dropping\", \"due\", \"duration\", \"early\", \"emerging\", \"enough\", \"environment\", \"environment\", \"equity\", \"er\", \"esg\", \"estate\", \"etf\", \"etf\", \"etf\", \"etf\", \"etf\", \"ever\", \"expected\", \"expense\", \"factor\", \"fama\", \"far\", \"fed\", \"fee\", \"felix\", \"fidelity\", \"financial\", \"find\", \"fixed\", \"french\", \"french\", \"fund\", \"fund\", \"fund\", \"fund\", \"fund\", \"fund\", \"fund\", \"fund\", \"fund\", \"fund\", \"future\", \"gain\", \"get\", \"global\", \"go\", \"going\", \"gold\", \"good\", \"great\", \"growth\", \"ha\", \"handle\", \"happens\", \"hard\", \"harvesting\", \"hedge\", \"help\", \"hidden\", \"hidden\", \"high\", \"hit\", \"ibonds\", \"idea\", \"income\", \"increase\", \"index\", \"indexing\", \"individual\", \"inflation\", \"instead\", \"interest\", \"international\", \"invest\", \"invest\", \"invested\", \"investing\", \"investing\", \"investment\", \"investment\", \"investment\", \"investor\", \"ira\", \"ishares\", \"jan\", \"jan\", \"jeremy\", \"k\", \"know\", \"large\", \"larry\", \"late\", \"latest\", \"lesson\", \"life\", \"like\", \"little\", \"live\", \"long\", \"long\", \"long\", \"long\", \"loss\", \"lot\", \"low\", \"lower\", \"make\", \"many\", \"market\", \"market\", \"market\", \"market\", \"matching\", \"matter\", \"maybe\", \"maybe\", \"maybe\", \"mean\", \"mid\", \"mistake\", \"mistake\", \"mm\", \"mo\", \"model\", \"money\", \"morningstar\", \"mortgage\", \"moving\", \"msci\", \"much\", \"munis\", \"mutual\", \"need\", \"negative\", \"new\", \"next\", \"next\", \"nominal\", \"number\", \"often\", \"old\", \"old\", \"one\", \"online\", \"page\", \"paid\", \"panic\", \"panic\", \"panic\", \"passive\", \"pay\", \"pe\", \"pe\", \"pension\", \"people\", \"plan\", \"planning\", \"podcast\", \"podcast\", \"point\", \"portfolio\", \"portfolio\", \"portfolio\", \"positive\", \"possible\", \"present\", \"price\", \"purchase\", \"purpose\", \"question\", \"raise\", \"raised\", \"rate\", \"rate\", \"rate\", \"rate\", \"ratio\", \"real\", \"really\", \"reason\", \"reason\", \"rebalancing\", \"recession\", \"recommendation\", \"recover\", \"recovery\", \"report\", \"response\", \"result\", \"retiree\", \"retirement\", \"retirement\", \"retirement\", \"retirement\", \"return\", \"return\", \"right\", \"rising\", \"risk\", \"risk\", \"risk\", \"rmd\", \"rolling\", \"roth\", \"roth\", \"rule\", \"safe\", \"sale\", \"saving\", \"say\", \"schwab\", \"schwab\", \"security\", \"sell\", \"selling\", \"service\", \"share\", \"share\", \"short\", \"short\", \"side\", \"since\", \"since\", \"small\", \"small\", \"social\", \"sp\", \"spending\", \"spread\", \"stay\", \"stay\", \"still\", \"stock\", \"stock\", \"story\", \"story\", \"story\", \"story\", \"strategy\", \"strategy\", \"strategy\", \"strong\", \"strong\", \"strong\", \"submit\", \"success\", \"swedroe\", \"swr\", \"take\", \"target\", \"tax\", \"tax\", \"tax\", \"tax\", \"taxable\", \"tbill\", \"tbills\", \"tell\", \"term\", \"term\", \"term\", \"terrible\", \"terrible\", \"think\", \"thought\", \"tiaa\", \"tilt\", \"time\", \"timing\", \"tip\", \"tip\", \"tlh\", \"today\", \"top\", \"total\", \"total\", \"total\", \"trading\", \"traditional\", \"transaction\", \"transfer\", \"treasury\", \"treasury\", \"type\", \"u\", \"u\", \"u\", \"u\", \"understand\", \"understanding\", \"update\", \"use\", \"using\", \"using\", \"utma\", \"v\", \"v\", \"v\", \"v\", \"v\", \"v\", \"value\", \"value\", \"value\", \"value\", \"vanguard\", \"vanguard\", \"vanguard\", \"vanguard\", \"vanguard\", \"vanguard\", \"versus\", \"volatility\", \"vt\", \"vti\", \"vti\", \"vxus\", \"want\", \"way\", \"weight\", \"whats\", \"withdrawal\", \"world\", \"worldwide\", \"worldwide\", \"worldwide\", \"worldwide\", \"worldwide\", \"worst\", \"would\", \"wrong\", \"wsj\", \"year\", \"year\", \"year\", \"year\", \"year\", \"yield\", \"yielding\", \"\\u2014\", \"\\u2019\", \"\\u201c\", \"\\u201d\", \"\\u201d\"]}, \"R\": 30, \"lambda.step\": 0.01, \"plot.opts\": {\"xlab\": \"PC1\", \"ylab\": \"PC2\"}, \"topic.order\": [6, 2, 10, 1, 5, 3, 4, 7, 9, 8]};\n",
       "\n",
       "function LDAvis_load_lib(url, callback){\n",
       "  var s = document.createElement('script');\n",
       "  s.src = url;\n",
       "  s.async = true;\n",
       "  s.onreadystatechange = s.onload = callback;\n",
       "  s.onerror = function(){console.warn(\"failed to load library \" + url);};\n",
       "  document.getElementsByTagName(\"head\")[0].appendChild(s);\n",
       "}\n",
       "\n",
       "if(typeof(LDAvis) !== \"undefined\"){\n",
       "   // already loaded: just create the visualization\n",
       "   !function(LDAvis){\n",
       "       new LDAvis(\"#\" + \"ldavis_el38107147024725448013313884\", ldavis_el38107147024725448013313884_data);\n",
       "   }(LDAvis);\n",
       "}else if(typeof define === \"function\" && define.amd){\n",
       "   // require.js is available: use it to load d3/LDAvis\n",
       "   require.config({paths: {d3: \"https://d3js.org/d3.v5\"}});\n",
       "   require([\"d3\"], function(d3){\n",
       "      window.d3 = d3;\n",
       "      LDAvis_load_lib(\"https://cdn.jsdelivr.net/gh/bmabey/pyLDAvis@3.3.1/pyLDAvis/js/ldavis.v3.0.0.js\", function(){\n",
       "        new LDAvis(\"#\" + \"ldavis_el38107147024725448013313884\", ldavis_el38107147024725448013313884_data);\n",
       "      });\n",
       "    });\n",
       "}else{\n",
       "    // require.js not available: dynamically load d3 & LDAvis\n",
       "    LDAvis_load_lib(\"https://d3js.org/d3.v5.js\", function(){\n",
       "         LDAvis_load_lib(\"https://cdn.jsdelivr.net/gh/bmabey/pyLDAvis@3.3.1/pyLDAvis/js/ldavis.v3.0.0.js\", function(){\n",
       "                 new LDAvis(\"#\" + \"ldavis_el38107147024725448013313884\", ldavis_el38107147024725448013313884_data);\n",
       "            })\n",
       "         });\n",
       "}\n",
       "</script>"
      ],
      "text/plain": [
       "<IPython.core.display.HTML object>"
      ]
     },
     "execution_count": 105,
     "metadata": {},
     "output_type": "execute_result"
    }
   ],
   "source": [
    "import warnings\n",
    "warnings.simplefilter('ignore', DeprecationWarning)\n",
    "\n",
    "import pyLDAvis\n",
    "import pyLDAvis.gensim_models\n",
    "\n",
    "# Visualize the topics\n",
    "vis = pyLDAvis.gensim_models.prepare(lda, bow_corpus, dictionary)\n",
    "pyLDAvis.display(vis)"
   ]
  },
  {
   "cell_type": "markdown",
   "metadata": {},
   "source": [
    "### What are the common themes or topics in the answers ?"
   ]
  },
  {
   "cell_type": "code",
   "execution_count": 106,
   "metadata": {},
   "outputs": [],
   "source": [
    "import nltk\n",
    "from nltk.corpus import stopwords\n",
    "from nltk.stem import WordNetLemmatizer\n",
    "import string\n",
    "\n",
    "def preprocess(text):\n",
    "    # Lowercase the text\n",
    "    text = text.lower()\n",
    "    \n",
    "    # Remove punctuation\n",
    "    text = ''.join([c for c in text if c not in string.punctuation])\n",
    "    \n",
    "    # Tokenize the text\n",
    "    tokens = nltk.word_tokenize(text)\n",
    "    \n",
    "    # Remove stopwords\n",
    "    stopwords = nltk.corpus.stopwords.words('english')\n",
    "    tokens = [t for t in tokens if t not in stopwords]\n",
    "    \n",
    "    # Lemmatize the tokens\n",
    "    lemmatizer = WordNetLemmatizer()\n",
    "    tokens = [lemmatizer.lemmatize(t) for t in tokens]\n",
    "    \n",
    "    return tokens\n",
    "\n",
    "# Pre-process the \"questions\" column\n",
    "answers = df['reply_text']\n",
    "answer_tokens = [preprocess(q) for q in questions]"
   ]
  },
  {
   "cell_type": "code",
   "execution_count": 107,
   "metadata": {},
   "outputs": [
    {
     "name": "stdout",
     "output_type": "stream",
     "text": [
      "Topic 0: 0.106*\"equity\" + 0.103*\"return\" + 0.081*\"money\" + 0.079*\"tilt\" + 0.066*\"question\" + 0.058*\"’\" + 0.031*\"ratio\" + 0.030*\"factor\" + 0.029*\"expected\" + 0.026*\"customer\"\n",
      "Topic 1: 0.150*\"fund\" + 0.108*\"vanguard\" + 0.103*\"etf\" + 0.085*\"v\" + 0.049*\"international\" + 0.039*\"index\" + 0.031*\"total\" + 0.025*\"fidelity\" + 0.022*\"future\" + 0.022*\"invest\"\n",
      "Topic 2: 0.087*\"inflation\" + 0.075*\"rate\" + 0.056*\"loss\" + 0.033*\"much\" + 0.032*\"article\" + 0.027*\"date\" + 0.027*\"distribution\" + 0.026*\"bubble\" + 0.026*\"interest\" + 0.025*\"stay\"\n",
      "Topic 3: 0.111*\"year\" + 0.058*\"yield\" + 0.055*\"avantis\" + 0.049*\"hedge\" + 0.040*\"ha\" + 0.036*\"bogleheads\" + 0.032*\"long\" + 0.032*\"expense\" + 0.031*\"ibonds\" + 0.029*\"real\"\n",
      "Topic 4: 0.134*\"treasury\" + 0.114*\"tip\" + 0.090*\"going\" + 0.078*\"account\" + 0.065*\"tax\" + 0.051*\"jeremy\" + 0.034*\"understand\" + 0.032*\"cd\" + 0.026*\"number\" + 0.025*\"check\"\n",
      "Topic 5: 0.181*\"stock\" + 0.105*\"portfolio\" + 0.051*\"gold\" + 0.051*\"whats\" + 0.045*\"u\" + 0.039*\"dividend\" + 0.039*\"lot\" + 0.038*\"investor\" + 0.035*\"risk\" + 0.025*\"say\"\n",
      "Topic 6: 0.239*\"market\" + 0.063*\"investing\" + 0.042*\"live\" + 0.036*\"price\" + 0.035*\"financial\" + 0.030*\"rule\" + 0.026*\"use\" + 0.025*\"estate\" + 0.025*\"bill\" + 0.025*\"still\"\n",
      "Topic 7: 0.135*\"value\" + 0.106*\"income\" + 0.087*\"new\" + 0.074*\"retirement\" + 0.048*\"cap\" + 0.035*\"investment\" + 0.029*\"roth\" + 0.029*\"fixed\" + 0.029*\"small\" + 0.027*\"strategy\"\n",
      "Topic 8: 0.258*\"bond\" + 0.078*\"asset\" + 0.073*\"fund\" + 0.052*\"allocation\" + 0.029*\"taxable\" + 0.026*\"ever\" + 0.023*\"know\" + 0.019*\"often\" + 0.018*\"negative\" + 0.017*\"bondsfixed\"\n",
      "Topic 9: 0.115*\"time\" + 0.063*\"security\" + 0.062*\"social\" + 0.055*\"doe\" + 0.055*\"buying\" + 0.053*\"contest\" + 0.044*\"“\" + 0.042*\"call\" + 0.036*\"fed\" + 0.034*\"timing\"\n"
     ]
    }
   ],
   "source": [
    "from gensim.corpora import Dictionary\n",
    "from gensim.models import LdaModel\n",
    "\n",
    "# Create a dictionary from the question text\n",
    "dictionary = Dictionary(answer_tokens)\n",
    "\n",
    "# Create a bag-of-words representation of the question text\n",
    "bow_corpus = [dictionary.doc2bow(q) for q in answer_tokens]\n",
    "\n",
    "# Train the LDA model\n",
    "lda = LdaModel(bow_corpus, num_topics=10, id2word=dictionary)\n",
    "\n",
    "# Print the topics\n",
    "for i, topic in lda.show_topics(formatted=True):\n",
    "    print(f\"Topic {i}: {topic}\")\n"
   ]
  },
  {
   "cell_type": "code",
   "execution_count": 108,
   "metadata": {},
   "outputs": [
    {
     "data": {
      "text/html": [
       "\n",
       "<link rel=\"stylesheet\" type=\"text/css\" href=\"https://cdn.jsdelivr.net/gh/bmabey/pyLDAvis@3.3.1/pyLDAvis/js/ldavis.v1.0.0.css\">\n",
       "\n",
       "\n",
       "<div id=\"ldavis_el38107147024709765640070136\"></div>\n",
       "<script type=\"text/javascript\">\n",
       "\n",
       "var ldavis_el38107147024709765640070136_data = {\"mdsDat\": {\"x\": [0.30521458509180754, -0.11513071183715833, 0.2979451530715722, -0.03223278595922375, -0.08036012598323351, 0.07094782528087208, -0.06603769672298963, -0.1454770583648764, -0.16436179017957547, -0.07050739439719496], \"y\": [-0.06304858592205885, -0.19650239342447867, -0.06201772295863288, 0.03282334959669616, -0.13097915036939933, 0.26665622240568554, -0.15234504219682268, 0.014433698077006122, 0.007809470865260355, 0.28317015392674383], \"topics\": [1, 2, 3, 4, 5, 6, 7, 8, 9, 10], \"cluster\": [1, 1, 1, 1, 1, 1, 1, 1, 1, 1], \"Freq\": [12.174265328365387, 11.793347890013637, 10.862525093691428, 10.806064497350224, 10.41522721068967, 10.106426123494746, 9.262859928612151, 8.70866875404043, 8.201425771226347, 7.669189402515982]}, \"tinfo\": {\"Term\": [\"bond\", \"market\", \"stock\", \"fund\", \"value\", \"vanguard\", \"treasury\", \"etf\", \"portfolio\", \"income\", \"year\", \"time\", \"equity\", \"tip\", \"return\", \"inflation\", \"v\", \"new\", \"asset\", \"going\", \"money\", \"retirement\", \"tilt\", \"rate\", \"investing\", \"account\", \"question\", \"tax\", \"loss\", \"security\", \"etf\", \"international\", \"index\", \"total\", \"invest\", \"direct\", \"mutual\", \"point\", \"possible\", \"indexing\", \"growth\", \"day\", \"future\", \"old\", \"cut\", \"company\", \"global\", \"vxus\", \"reason\", \"update\", \"large\", \"diversification\", \"difference\", \"active\", \"volatility\", \"comparing\", \"rmd\", \"age\", \"another\", \"back\", \"vanguard\", \"sp\", \"v\", \"fund\", \"weight\", \"fidelity\", \"market\", \"live\", \"financial\", \"rule\", \"use\", \"bill\", \"estate\", \"still\", \"bogleheads\\u00ae\", \"aa\", \"submit\", \"target\", \"price\", \"advisor\", \"duration\", \"bull\", \"buy\", \"idea\", \"bear\", \"anyone\", \"life\", \"fee\", \"better\", \"dollar\", \"bernstein\", \"transfer\", \"investing\", \"report\", \"planning\", \"acats\", \"schwab\", \"podcast\", \"asset\", \"taxable\", \"ever\", \"allocation\", \"know\", \"often\", \"negative\", \"bank\", \"right\", \"cash\", \"current\", \"share\", \"early\", \"dont\", \"type\", \"understanding\", \"pe\", \"like\", \"really\", \"spending\", \"discussion\", \"stable\", \"drop\", \"priced\", \"fair\", \"management\", \"issue\", \"present\", \"actually\", \"safer\", \"bond\", \"go\", \"buyback\", \"make\", \"side\", \"bondsfixed\", \"fund\", \"rate\", \"loss\", \"much\", \"article\", \"date\", \"distribution\", \"interest\", \"mortgage\", \"b\", \"stay\", \"need\", \"gain\", \"plan\", \"inflation\", \"corporate\", \"high\", \"ben\", \"cost\", \"wsj\", \"withdrawal\", \"would\", \"model\", \"capital\", \"felix\", \"sale\", \"sell\", \"hidden\", \"apply\", \"spread\", \"larry\", \"swedroe\", \"bubble\", \"rate\", \"maybe\", \"stock\", \"portfolio\", \"gold\", \"lot\", \"investor\", \"whats\", \"say\", \"service\", \"individual\", \"emerging\", \"different\", \"u\", \"recommendation\", \"many\", \"case\", \"vti\", \"vt\", \"find\", \"increase\", \"dividend\", \"wrong\", \"tolerance\", \"premium\", \"morningstar\", \"recovery\", \"reit\", \"see\", \"matching\", \"debt\", \"show\", \"pay\", \"protect\", \"risk\", \"income\", \"new\", \"retirement\", \"cap\", \"fixed\", \"swr\", \"thought\", \"small\", \"mid\", \"best\", \"think\", \"conversion\", \"annuity\", \"rebalancing\", \"alternative\", \"strategy\", \"saving\", \"trade\", \"favorite\", \"avoid\", \"percentage\", \"general\", \"pension\", \"allan\", \"place\", \"example\", \"glide\", \"path\", \"statement\", \"russia\", \"investment\", \"retiree\", \"roth\", \"value\", \"harvesting\", \"using\", \"worldwide\", \"fidelity\", \"tax\", \"course\", \"year\", \"yield\", \"hedge\", \"ha\", \"bogleheads\", \"long\", \"ibonds\", \"expense\", \"real\", \"recover\", \"lower\", \"change\", \"take\", \"way\", \"downturn\", \"today\", \"worst\", \"far\", \"big\", \"mistake\", \"hard\", \"enough\", \"tlh\", \"term\", \"instead\", \"people\", \"next\", \"yielding\", \"hit\", \"beat\", \"avantis\", \"equity\", \"return\", \"tilt\", \"question\", \"money\", \"\\u2019\", \"ratio\", \"factor\", \"expected\", \"boglehead\", \"environment\", \"good\", \"positive\", \"\\u2014\", \"fama\", \"coming\", \"safe\", \"rick\", \"esg\", \"made\", \"bnd\", \"backdoor\", \"muni\", \"higher\", \"interview\", \"looking\", \"balanced\", \"smart\", \"foreign\", \"data\", \"customer\", \"french\", \"\\u2018\", \"fzdxx\", \"contest\", \"social\", \"buying\", \"security\", \"doe\", \"time\", \"\\u201c\", \"call\", \"timing\", \"fed\", \"\\u201d\", \"versus\", \"story\", \"decade\", \"x\", \"ira\", \"one\", \"measure\", \"curve\", \"handle\", \"recession\", \"mean\", \"registration\", \"bogle\", \"jack\", \"longer\", \"reducing\", \"matter\", \"holding\", \"fall\", \"valuation\", \"great\", \"believe\", \"contest\", \"going\", \"tip\", \"account\", \"treasury\", \"jeremy\", \"understand\", \"number\", \"cd\", \"help\", \"check\", \"purchase\", \"trading\", \"nominal\", \"actively\", \"ishares\", \"deferred\", \"dropping\", \"tbill\", \"hold\", \"tbills\", \"rolling\", \"auction\", \"ytm\", \"w\", \"ally\", \"month\", \"result\", \"chart\", \"gap\", \"mo\", \"since\", \"grantham\", \"tax\", \"brokerage\"], \"Freq\": [10167.0, 10081.0, 6720.0, 9375.0, 5186.0, 4719.0, 3678.0, 4471.0, 3926.0, 3824.0, 3673.0, 3380.0, 3298.0, 3129.0, 3199.0, 3369.0, 3824.0, 3148.0, 3024.0, 2461.0, 2536.0, 2688.0, 2464.0, 3254.0, 2648.0, 2137.0, 2052.0, 2634.0, 2151.0, 1852.0, 4469.400529124459, 2145.14559164948, 1701.6598204974998, 1368.067165135546, 947.5895774944182, 761.0954669146283, 823.0909048559521, 642.3841218206205, 598.8471121561388, 589.3552906175923, 575.2661990401075, 538.4918869012071, 949.2507728482891, 541.4987274551655, 540.7333056700705, 440.778642483496, 364.6031745699193, 362.40137172536913, 346.40455870467764, 333.309875435951, 287.9926201092583, 304.44505676663204, 277.2613629345807, 271.46263264708125, 263.0844925145736, 240.6862646154886, 228.3380458183819, 212.2243091110543, 205.7210594333525, 201.48349226547901, 4690.20235421615, 804.3099592075539, 3705.9827102949776, 6522.621135563529, 318.70820726719865, 1079.4127403520242, 10074.949615311985, 1780.9070855706284, 1474.103449667699, 1243.9670551083386, 1083.6163634453499, 1063.7750625159256, 1065.1514329888284, 1035.8074625012196, 963.7660282499248, 917.9010602863968, 826.8756332962349, 820.777946387602, 1517.4372238313333, 583.1107931314664, 516.2111283212945, 506.2547305221994, 502.8738802663311, 502.32632998753974, 485.0624471828204, 483.7155064583118, 457.05054558686487, 456.2444059188492, 468.2451117604033, 424.41589759246773, 797.0438352992428, 394.1155387613744, 2640.0323865125993, 378.9995959531264, 383.5491603772276, 362.6782498903139, 468.7801838258755, 506.5961548432374, 3021.275541048486, 1112.8778573230495, 1004.8796088135196, 2024.253108971789, 885.6475283061461, 751.0063544276106, 696.1618917242337, 610.2963379196243, 605.6122976613124, 530.737408678427, 502.263717830949, 498.14957353474375, 487.2559514995658, 467.3424102746902, 475.67525930712964, 461.917845005749, 369.75531670253497, 335.2862249173238, 286.90873326618976, 277.95696088246325, 292.2511103427268, 289.0716489153724, 246.80055201853878, 249.2529876832247, 275.4047536675874, 206.5330904877191, 203.77949690165738, 204.23462214917313, 192.59299359244775, 241.27619712812512, 10015.815997735504, 435.9810007830978, 351.67228795817795, 374.0608720220353, 401.7094642572014, 673.7417190587223, 2831.093364957332, 325.14892219360223, 2150.5130427339786, 1260.3153886003818, 1245.3717502411412, 1056.9947670913893, 1043.7210090565684, 1011.4710048460772, 867.4967162361127, 752.3564472129536, 961.6646776743672, 731.1467666648716, 730.71020463535, 717.2231632897793, 3364.246665936297, 653.702273398523, 667.2910665595726, 584.0215155626335, 579.2220298407791, 646.5347029335963, 526.2166327813499, 500.2555019974489, 483.1033099217368, 479.2703585828179, 479.1596540457649, 513.7843227103647, 412.93838602675174, 419.10163371366576, 407.8397571583302, 403.6017041568664, 391.1044958431463, 390.0826271690371, 1014.2047129854767, 2881.592717919103, 403.75404424244397, 6719.282604443774, 3925.140158750649, 1891.3416649802664, 1455.8286695314325, 1429.3028947359896, 1884.5208702761247, 947.9709759060413, 812.3435360823859, 719.6710510306859, 708.0387862908146, 706.7321118755281, 1682.3300370908867, 492.84566592010134, 583.1718480502133, 447.64743541153234, 440.79177849814596, 416.2596299806701, 393.31897943492385, 395.82361777802146, 1462.5011439020086, 415.6245902347377, 304.72894225605154, 291.7414177953658, 279.5268398019733, 272.62034505462884, 229.1325113646268, 226.43088074672684, 228.5732951910873, 196.1206156083624, 189.81169932643994, 521.4023896568873, 241.8431134455174, 1296.6435249892575, 3823.0975745154255, 3147.111359165441, 2687.06258435606, 1724.8824162838232, 1044.8250692548995, 868.8519593544509, 859.3290460769082, 1041.9337681347145, 622.6162171913609, 728.7727882052279, 547.34853561573, 523.6655371435617, 518.3097264853528, 436.4192429788477, 409.6620471199189, 979.0055485389778, 278.13567234392406, 225.31967602237168, 199.9148163018132, 196.97499168233267, 175.39084472231178, 166.8122229523692, 162.21279713920802, 247.86077498721016, 168.79908034504086, 147.2621622517979, 120.8604102725838, 120.86043549269779, 109.64037667846442, 107.8120781423785, 1254.590508995298, 538.483598298489, 1051.1629175246303, 4866.189652044965, 295.1015288455275, 280.23327966378196, 563.4740747329639, 769.6439668904289, 836.2308516076838, 306.6958541512086, 3671.7007290850365, 1932.7573398421202, 1630.5883697586653, 1313.5257977067877, 1184.7711135221132, 1072.9388532475255, 1031.9227972881665, 1068.6111024872348, 943.2675192756942, 867.5842134075164, 934.4729577107427, 814.2416186924258, 736.8059466888784, 700.5967699139625, 679.2439028526629, 607.1889792769471, 820.9553340792561, 517.0857755365269, 502.84743855111583, 525.4612461255601, 493.8447492202888, 493.45657074980124, 456.2668850538778, 457.2346961162239, 392.4881607013008, 376.52969534789844, 369.58328861909274, 360.1384857385123, 328.3861340735817, 367.1049254967596, 1806.6306192796396, 3296.784643137268, 3198.5695690502266, 2463.3633610563984, 2051.2907506570773, 2535.3219150186055, 1792.7543865010261, 961.6122486256459, 920.7229713188179, 898.6220297523397, 779.4233325559456, 476.51682104804485, 462.28300682553515, 385.31619457888695, 381.13928961014597, 373.8592760259876, 365.1983194172003, 350.4974104454981, 322.87782555039297, 313.5254991701582, 272.46865307086244, 303.41437563129404, 244.23529640296604, 226.3591717883424, 218.0764981789787, 210.66538222554482, 208.18278232641677, 173.33677514607587, 178.38555650785838, 155.25035647796184, 146.91026672433483, 811.7715563601997, 295.10055271328383, 263.58753604617164, 214.9380966724623, 224.32319502300336, 1812.9747586472254, 1599.0914915493881, 1851.5892158090908, 1622.0432997426776, 3378.0462806743744, 1280.9071769459192, 1226.1791578524608, 1007.1341325585222, 1053.8514880250548, 1001.1499030052842, 748.4450054694242, 734.7410608496384, 728.732926687613, 810.5060089037061, 643.3430444159507, 608.9105839502985, 571.301703082742, 450.3584361272095, 452.02324477207276, 361.58313185695033, 280.0216982090707, 277.81829908060416, 283.26478408959093, 248.900135213935, 247.4740179081849, 187.1973870952526, 182.63093825189193, 201.70116737241563, 264.9855355516139, 166.87415806412395, 333.0032618660085, 451.7760394627065, 1539.9314051718995, 2460.6181405229695, 3127.9916804817576, 2136.329455317813, 3675.4949584763217, 1391.9700098828978, 921.5895130818894, 699.8250271660916, 863.4245801365906, 608.333102564388, 683.3703408076356, 511.49756424405, 439.52711780234193, 432.6184154832646, 391.9888338168372, 350.8140203356633, 313.57808376394183, 266.22781250886504, 258.7755114932208, 300.2293840433359, 236.95564915266505, 199.40637078896623, 182.22844273418596, 183.23014383886988, 172.50534192473398, 194.52438088952354, 185.88711228847706, 157.1718294727891, 146.78023470223724, 148.31738167132576, 122.17050892020836, 527.6742122324271, 391.73057148721443, 1786.368560608696, 332.78679427507], \"Total\": [10167.0, 10081.0, 6720.0, 9375.0, 5186.0, 4719.0, 3678.0, 4471.0, 3926.0, 3824.0, 3673.0, 3380.0, 3298.0, 3129.0, 3199.0, 3369.0, 3824.0, 3148.0, 3024.0, 2461.0, 2536.0, 2688.0, 2464.0, 3254.0, 2648.0, 2137.0, 2052.0, 2634.0, 2151.0, 1852.0, 4471.092364544091, 2146.3328484501494, 1702.9027876965793, 1369.3427766374703, 948.788453211541, 762.2859613538781, 824.4025334816462, 643.5940998810843, 600.0515380195613, 590.5441118333865, 576.4546955463695, 539.6789636489942, 951.3480993414628, 542.7403912348799, 542.1854158607955, 441.99571044279423, 365.7903860670354, 363.58977144274655, 347.60059319405013, 334.5355862634385, 289.1797833553672, 305.70575981523785, 278.4491130789182, 272.64971542252636, 264.2741258980347, 241.87389568727147, 229.53033254450503, 213.41760900297297, 206.91345296268253, 202.69739864529075, 4719.548248988838, 810.8313709543462, 3824.346487670548, 9375.21807702045, 338.68639029294286, 1878.9918849835663, 10081.10435317004, 1782.0808238407535, 1475.2769160434361, 1245.1407805725185, 1084.7899303313552, 1064.9487096372052, 1066.345347738767, 1036.981301454609, 964.9397075588386, 919.076792225152, 828.0490286952385, 821.9596187296808, 1520.4657594253379, 584.2843339021309, 517.3849084487638, 507.42945131079256, 504.04735111560666, 503.5003086893676, 486.23581585710366, 484.8893741409754, 458.2259384532303, 457.41840963791145, 469.48793728461817, 425.5955516900586, 799.2881068841143, 395.28948604517626, 2648.5461327202183, 380.22420482638074, 384.799429065724, 363.87367455454194, 473.9091648828345, 587.0051618237841, 3024.044393232861, 1114.0355626396126, 1006.04370320021, 2026.8719732104005, 886.8073191963031, 752.1746073145368, 697.3213954226649, 611.4570614131314, 606.7797061153582, 531.9034339933602, 503.4223924958829, 499.3239548681313, 488.41297404116443, 468.50105401043027, 476.86840602920023, 463.10554276048896, 370.99771200186984, 336.54624659866477, 288.0670301575979, 279.11486505527, 293.4799238093793, 290.3861929780762, 247.958236355535, 250.50224482364868, 276.7885973328371, 207.69033932713435, 204.93659180581605, 205.3968374718443, 193.75118114013824, 242.74188829506622, 10167.317394432997, 440.7075144623696, 356.1582365463132, 380.5084305539123, 430.34075097694375, 804.3761676175409, 9375.21807702045, 3254.4813687433943, 2151.726318864969, 1261.4721236524297, 1246.6099214021797, 1058.1619880512558, 1044.883823131743, 1012.6279988635899, 868.6567597101829, 753.5231745667371, 963.1568578120667, 732.3035845783231, 731.8779188387342, 718.3806102810245, 3369.983972204472, 654.8591010737165, 668.5101814493447, 585.1786636527426, 580.3788343533809, 647.8910523435494, 527.3733365097788, 501.43828944413286, 484.2681025105834, 480.4326371017342, 480.3224302576787, 515.1506910137126, 414.0983900013131, 420.2926140888037, 409.0013154837882, 404.7596294059751, 392.26121219270254, 391.2393575860121, 1018.4104080787012, 3254.4813687433943, 525.906646085679, 6720.974727032208, 3926.4953966873186, 1892.516808740607, 1457.0073117237475, 1430.4982460326655, 1886.2592356751784, 949.1489411761821, 813.5429947220255, 720.8606905654675, 709.2138866367106, 707.9067606795207, 1685.811400019125, 494.02409441194897, 584.6342846607934, 448.8223946915046, 441.9797258306028, 417.435716500063, 394.49635935485213, 397.0093930076465, 1467.9868551706136, 417.18407978292913, 305.9597669503314, 292.9218725342669, 280.7018906358222, 273.802698630334, 230.30721102723984, 227.60673645543832, 229.87271911182611, 197.29536930033922, 190.99035424142264, 524.8070022221065, 243.622284856223, 1354.915348025022, 3824.321079412773, 3148.326515731333, 2688.309628278027, 1726.2684774734782, 1046.0003518578296, 870.027399762567, 860.5045580558576, 1043.3940560646254, 623.7920482757137, 730.1595893675857, 548.5301910512521, 524.8437443224198, 519.4849820951374, 437.5955322762718, 410.8659195566293, 982.826589697954, 279.31300892742144, 226.50307770806435, 201.09653173169107, 198.15136290400503, 176.57789078588874, 167.98862466843863, 163.38812208815236, 249.7241195003569, 170.0687551639095, 148.50940836411652, 122.036792028384, 122.04356913078585, 110.81654214988804, 108.9875705585961, 1279.804158046326, 550.7529189120681, 1083.2621129692864, 5186.49587477865, 302.4316145361053, 290.38245165302163, 745.2777421731547, 1878.9918849835663, 2634.978948286308, 592.3750593318829, 3673.012489736593, 1934.0452130354015, 1631.7666655157582, 1314.703739323769, 1185.9727242201986, 1074.1348208332752, 1033.1074300091395, 1069.8719827521759, 944.4454072366547, 868.7755829179645, 935.7975323996055, 815.4193566774671, 737.9836845954973, 701.7743894690855, 680.4215182836307, 608.3666685620079, 822.6726808182531, 518.2638344395643, 504.0257098161253, 526.6976794048065, 495.0309142379506, 494.64345120280683, 457.44518351745245, 458.4946842204672, 393.6680284101059, 377.70743892718156, 370.76224798180135, 361.3218036709208, 329.56669741274254, 368.47099664971313, 1853.2455196046772, 3298.068926926401, 3199.9938652602355, 2464.524549678841, 2052.4477483092364, 2536.865427337798, 1794.2254329159937, 962.7686246034368, 921.8794381037115, 899.8394244913801, 780.5842590755612, 477.68326456665505, 463.52419687199733, 386.4794076210896, 382.29647484977534, 375.01570097153876, 366.35604584702776, 351.6541027039131, 324.03492004258874, 314.6828191583716, 273.6350611519475, 304.83716067247076, 245.39221647384076, 227.51552853456127, 219.25761635812017, 211.82372367996456, 209.3483425497573, 174.4934646630817, 179.61395271957986, 156.40696058580818, 148.06664464966758, 827.9551297920808, 298.55371357345075, 284.413591137301, 325.98216002526664, 1765.2908406804581, 1814.1884276157816, 1600.2645978537882, 1852.956107706727, 1623.317075669941, 3380.8157623023753, 1282.1801249850741, 1227.6053403125052, 1008.3144693270503, 1055.1043245945023, 1002.3554075004698, 749.6213403131, 735.9655831421921, 729.9670359316704, 811.9076845566286, 644.5332865132661, 610.093243345226, 572.5322776419463, 451.5314413249553, 453.2141871831383, 362.777507965913, 281.21317174168007, 279.0398207084934, 284.5810524476693, 250.07455708244905, 248.64699454640322, 188.37711468634802, 183.80390544880373, 202.99800381089145, 266.83351457130124, 168.05057429665322, 335.8807969025667, 458.14701110876246, 1765.2908406804581, 2461.7271018164015, 3129.5457231316145, 2137.4386270765212, 3678.3999385896177, 1393.0938900031588, 922.6985706812089, 700.9416991905998, 864.8268599766953, 609.4421318978983, 684.756499302553, 512.6412513623414, 440.63598375734534, 433.7272054955817, 393.1788116612254, 351.9233885047442, 314.6980575571918, 267.3431793548142, 259.88427997547825, 301.5686128710578, 238.11628597203068, 200.61115903568972, 183.33811109104232, 184.38499594648977, 173.6201996758659, 195.8075714807928, 187.1284483598144, 158.30510490064603, 147.89216186273006, 149.4703539067779, 123.28504704836672, 536.2146813717274, 396.92820500820767, 2634.978948286308, 401.03071721496406], \"Category\": [\"Default\", \"Default\", \"Default\", \"Default\", \"Default\", \"Default\", \"Default\", \"Default\", \"Default\", \"Default\", \"Default\", \"Default\", \"Default\", \"Default\", \"Default\", \"Default\", \"Default\", \"Default\", \"Default\", \"Default\", \"Default\", \"Default\", \"Default\", \"Default\", \"Default\", \"Default\", \"Default\", \"Default\", \"Default\", \"Default\", \"Topic1\", \"Topic1\", \"Topic1\", \"Topic1\", \"Topic1\", \"Topic1\", \"Topic1\", \"Topic1\", \"Topic1\", \"Topic1\", \"Topic1\", \"Topic1\", \"Topic1\", \"Topic1\", \"Topic1\", \"Topic1\", \"Topic1\", \"Topic1\", \"Topic1\", \"Topic1\", \"Topic1\", \"Topic1\", \"Topic1\", \"Topic1\", \"Topic1\", \"Topic1\", \"Topic1\", \"Topic1\", \"Topic1\", \"Topic1\", \"Topic1\", \"Topic1\", \"Topic1\", \"Topic1\", \"Topic1\", \"Topic1\", \"Topic2\", \"Topic2\", \"Topic2\", \"Topic2\", \"Topic2\", \"Topic2\", \"Topic2\", \"Topic2\", \"Topic2\", \"Topic2\", \"Topic2\", \"Topic2\", \"Topic2\", \"Topic2\", \"Topic2\", \"Topic2\", \"Topic2\", \"Topic2\", \"Topic2\", \"Topic2\", \"Topic2\", \"Topic2\", \"Topic2\", \"Topic2\", \"Topic2\", \"Topic2\", \"Topic2\", \"Topic2\", \"Topic2\", \"Topic2\", \"Topic2\", \"Topic2\", \"Topic3\", \"Topic3\", \"Topic3\", \"Topic3\", \"Topic3\", \"Topic3\", \"Topic3\", \"Topic3\", \"Topic3\", \"Topic3\", \"Topic3\", \"Topic3\", \"Topic3\", \"Topic3\", \"Topic3\", \"Topic3\", \"Topic3\", \"Topic3\", \"Topic3\", \"Topic3\", \"Topic3\", \"Topic3\", \"Topic3\", \"Topic3\", \"Topic3\", \"Topic3\", \"Topic3\", \"Topic3\", \"Topic3\", \"Topic3\", \"Topic3\", \"Topic3\", \"Topic3\", \"Topic3\", \"Topic3\", \"Topic3\", \"Topic3\", \"Topic3\", \"Topic4\", \"Topic4\", \"Topic4\", \"Topic4\", \"Topic4\", \"Topic4\", \"Topic4\", \"Topic4\", \"Topic4\", \"Topic4\", \"Topic4\", \"Topic4\", \"Topic4\", \"Topic4\", \"Topic4\", \"Topic4\", \"Topic4\", \"Topic4\", \"Topic4\", \"Topic4\", \"Topic4\", \"Topic4\", \"Topic4\", \"Topic4\", \"Topic4\", \"Topic4\", \"Topic4\", \"Topic4\", \"Topic4\", \"Topic4\", \"Topic4\", \"Topic4\", \"Topic4\", \"Topic5\", \"Topic5\", \"Topic5\", \"Topic5\", \"Topic5\", \"Topic5\", \"Topic5\", \"Topic5\", \"Topic5\", \"Topic5\", \"Topic5\", \"Topic5\", \"Topic5\", \"Topic5\", \"Topic5\", \"Topic5\", \"Topic5\", \"Topic5\", \"Topic5\", \"Topic5\", \"Topic5\", \"Topic5\", \"Topic5\", \"Topic5\", \"Topic5\", \"Topic5\", \"Topic5\", \"Topic5\", \"Topic5\", \"Topic5\", \"Topic5\", \"Topic5\", \"Topic5\", \"Topic6\", \"Topic6\", \"Topic6\", \"Topic6\", \"Topic6\", \"Topic6\", \"Topic6\", \"Topic6\", \"Topic6\", \"Topic6\", \"Topic6\", \"Topic6\", \"Topic6\", \"Topic6\", \"Topic6\", \"Topic6\", \"Topic6\", \"Topic6\", \"Topic6\", \"Topic6\", \"Topic6\", \"Topic6\", \"Topic6\", \"Topic6\", \"Topic6\", \"Topic6\", \"Topic6\", \"Topic6\", \"Topic6\", \"Topic6\", \"Topic6\", \"Topic6\", \"Topic6\", \"Topic6\", \"Topic6\", \"Topic6\", \"Topic6\", \"Topic6\", \"Topic6\", \"Topic6\", \"Topic7\", \"Topic7\", \"Topic7\", \"Topic7\", \"Topic7\", \"Topic7\", \"Topic7\", \"Topic7\", \"Topic7\", \"Topic7\", \"Topic7\", \"Topic7\", \"Topic7\", \"Topic7\", \"Topic7\", \"Topic7\", \"Topic7\", \"Topic7\", \"Topic7\", \"Topic7\", \"Topic7\", \"Topic7\", \"Topic7\", \"Topic7\", \"Topic7\", \"Topic7\", \"Topic7\", \"Topic7\", \"Topic7\", \"Topic7\", \"Topic7\", \"Topic8\", \"Topic8\", \"Topic8\", \"Topic8\", \"Topic8\", \"Topic8\", \"Topic8\", \"Topic8\", \"Topic8\", \"Topic8\", \"Topic8\", \"Topic8\", \"Topic8\", \"Topic8\", \"Topic8\", \"Topic8\", \"Topic8\", \"Topic8\", \"Topic8\", \"Topic8\", \"Topic8\", \"Topic8\", \"Topic8\", \"Topic8\", \"Topic8\", \"Topic8\", \"Topic8\", \"Topic8\", \"Topic8\", \"Topic8\", \"Topic8\", \"Topic8\", \"Topic8\", \"Topic8\", \"Topic8\", \"Topic9\", \"Topic9\", \"Topic9\", \"Topic9\", \"Topic9\", \"Topic9\", \"Topic9\", \"Topic9\", \"Topic9\", \"Topic9\", \"Topic9\", \"Topic9\", \"Topic9\", \"Topic9\", \"Topic9\", \"Topic9\", \"Topic9\", \"Topic9\", \"Topic9\", \"Topic9\", \"Topic9\", \"Topic9\", \"Topic9\", \"Topic9\", \"Topic9\", \"Topic9\", \"Topic9\", \"Topic9\", \"Topic9\", \"Topic9\", \"Topic9\", \"Topic9\", \"Topic9\", \"Topic10\", \"Topic10\", \"Topic10\", \"Topic10\", \"Topic10\", \"Topic10\", \"Topic10\", \"Topic10\", \"Topic10\", \"Topic10\", \"Topic10\", \"Topic10\", \"Topic10\", \"Topic10\", \"Topic10\", \"Topic10\", \"Topic10\", \"Topic10\", \"Topic10\", \"Topic10\", \"Topic10\", \"Topic10\", \"Topic10\", \"Topic10\", \"Topic10\", \"Topic10\", \"Topic10\", \"Topic10\", \"Topic10\", \"Topic10\", \"Topic10\", \"Topic10\", \"Topic10\", \"Topic10\"], \"logprob\": [30.0, 29.0, 28.0, 27.0, 26.0, 25.0, 24.0, 23.0, 22.0, 21.0, 20.0, 19.0, 18.0, 17.0, 16.0, 15.0, 14.0, 13.0, 12.0, 11.0, 10.0, 9.0, 8.0, 7.0, 6.0, 5.0, 4.0, 3.0, 2.0, 1.0, -2.2754, -3.0094, -3.241, -3.4592, -3.8265, -4.0456, -3.9673, -4.2152, -4.2854, -4.3014, -4.3255, -4.3916, -3.8247, -4.386, -4.3875, -4.5918, -4.7816, -4.7876, -4.8328, -4.8713, -5.0174, -4.9619, -5.0554, -5.0766, -5.1079, -5.1969, -5.2496, -5.3227, -5.3539, -5.3747, -2.2272, -3.9904, -2.4627, -1.8974, -4.9161, -3.6962, -1.4308, -3.1637, -3.3528, -3.5225, -3.6605, -3.679, -3.6777, -3.7057, -3.7777, -3.8265, -3.9309, -3.9383, -3.3238, -4.2802, -4.4021, -4.4216, -4.4283, -4.4293, -4.4643, -4.4671, -4.5238, -4.5256, -4.4996, -4.5979, -3.9677, -4.6719, -2.77, -4.7111, -4.6991, -4.7551, -4.4985, -4.4209, -2.5529, -3.5517, -3.6538, -2.9534, -3.7801, -3.945, -4.0208, -4.1524, -4.1601, -4.2921, -4.3473, -4.3555, -4.3776, -4.4193, -4.4016, -4.431, -4.6535, -4.7514, -4.9072, -4.9389, -4.8888, -4.8997, -5.0578, -5.0479, -4.9481, -5.2359, -5.2493, -5.2471, -5.3058, -5.0804, -1.3545, -4.4888, -4.7037, -4.642, -4.5706, -4.0535, -2.618, -4.7821, -2.8877, -3.422, -3.434, -3.598, -3.6106, -3.642, -3.7956, -3.938, -3.6925, -3.9666, -3.9671, -3.9858, -2.4402, -4.0785, -4.0579, -4.1912, -4.1995, -4.0895, -4.2955, -4.346, -4.3809, -4.3889, -4.3891, -4.3194, -4.5379, -4.5231, -4.5503, -4.5607, -4.5922, -4.5948, -3.6393, -2.5951, -4.5604, -1.7116, -2.2492, -2.9793, -3.241, -3.2594, -2.9829, -3.67, -3.8244, -3.9455, -3.9618, -3.9637, -3.0964, -4.3241, -4.1558, -4.4203, -4.4358, -4.493, -4.5497, -4.5434, -3.2364, -4.4945, -4.8049, -4.8485, -4.8912, -4.9162, -5.09, -5.1019, -5.0925, -5.2456, -5.2783, -4.2678, -5.036, -3.3568, -2.2454, -2.44, -2.598, -3.0413, -3.5426, -3.7271, -3.7381, -3.5454, -4.0603, -3.9029, -4.1891, -4.2334, -4.2437, -4.4156, -4.4789, -3.6077, -4.8661, -5.0767, -5.1963, -5.2112, -5.3272, -5.3774, -5.4053, -4.9814, -5.3655, -5.502, -5.6996, -5.6996, -5.797, -5.8138, -3.3597, -4.2055, -3.5366, -2.0042, -4.8069, -4.8586, -4.1601, -3.8483, -3.7653, -4.7684, -2.1987, -2.8404, -3.0104, -3.2266, -3.3298, -3.4289, -3.4679, -3.433, -3.5577, -3.6414, -3.5671, -3.7048, -3.8047, -3.8551, -3.8861, -3.9982, -3.6966, -4.1589, -4.1868, -4.1428, -4.2048, -4.2056, -4.284, -4.2819, -4.4346, -4.4761, -4.4947, -4.5206, -4.6129, -4.5014, -2.9079, -2.2447, -2.2749, -2.5361, -2.7192, -2.5073, -2.8539, -3.4768, -3.5202, -3.5445, -3.6868, -4.1789, -4.2092, -4.3913, -4.4022, -4.4215, -4.4449, -4.486, -4.5681, -4.5975, -4.7379, -4.6303, -4.8472, -4.9233, -4.9605, -4.9951, -5.007, -5.1901, -5.1614, -5.3003, -5.3556, -3.6462, -4.6581, -4.771, -4.975, -4.9323, -2.7826, -2.9082, -2.7616, -2.8939, -2.1603, -3.13, -3.1737, -3.3705, -3.3252, -3.3765, -3.6674, -3.6858, -3.6941, -3.5877, -3.8187, -3.8737, -3.9374, -4.1753, -4.1716, -4.3949, -4.6505, -4.6584, -4.639, -4.7683, -4.7741, -5.0532, -5.0779, -4.9786, -4.7057, -5.1681, -4.4772, -4.1722, -2.9459, -2.4101, -2.1701, -2.5514, -2.0088, -2.9798, -3.3922, -3.6674, -3.4574, -3.8075, -3.6912, -3.9809, -4.1326, -4.1484, -4.247, -4.358, -4.4702, -4.6339, -4.6623, -4.5137, -4.7504, -4.9229, -5.013, -5.0075, -5.0678, -4.9477, -4.9931, -5.1609, -5.2293, -5.2189, -5.4129, -3.9498, -4.2477, -2.7303, -4.4108], \"loglift\": [30.0, 29.0, 28.0, 27.0, 26.0, 25.0, 24.0, 23.0, 22.0, 21.0, 20.0, 19.0, 18.0, 17.0, 16.0, 15.0, 14.0, 13.0, 12.0, 11.0, 10.0, 9.0, 8.0, 7.0, 6.0, 5.0, 4.0, 3.0, 2.0, 1.0, 2.1055, 2.1053, 2.1051, 2.1049, 2.1046, 2.1043, 2.1043, 2.104, 2.1038, 2.1038, 2.1038, 2.1036, 2.1036, 2.1036, 2.1032, 2.1031, 2.1026, 2.1026, 2.1024, 2.1022, 2.1017, 2.1017, 2.1016, 2.1015, 2.1013, 2.1009, 2.1006, 2.1002, 2.1001, 2.0998, 2.0996, 2.0978, 2.0744, 1.7431, 2.045, 1.5515, 2.137, 2.137, 2.1368, 2.1367, 2.1366, 2.1365, 2.1365, 2.1365, 2.1364, 2.1364, 2.1362, 2.1362, 2.1356, 2.1356, 2.1354, 2.1353, 2.1353, 2.1353, 2.1352, 2.1352, 2.1351, 2.1351, 2.135, 2.1349, 2.1348, 2.1347, 2.1344, 2.1344, 2.1344, 2.1343, 2.1268, 1.9903, 2.2189, 2.2188, 2.2187, 2.2186, 2.2185, 2.2183, 2.2182, 2.218, 2.2179, 2.2177, 2.2175, 2.2175, 2.2175, 2.2174, 2.2173, 2.2173, 2.2165, 2.2161, 2.2158, 2.2157, 2.2157, 2.2153, 2.2152, 2.2149, 2.2148, 2.2143, 2.2142, 2.2142, 2.2139, 2.2138, 2.2048, 2.2091, 2.2072, 2.2028, 2.151, 2.0426, 1.0224, -0.0837, 2.2245, 2.2241, 2.2241, 2.224, 2.2239, 2.2239, 2.2237, 2.2235, 2.2235, 2.2235, 2.2235, 2.2235, 2.2234, 2.2233, 2.2232, 2.2231, 2.2231, 2.223, 2.2229, 2.2227, 2.2227, 2.2226, 2.2226, 2.2224, 2.2223, 2.2222, 2.2222, 2.2222, 2.2221, 2.2221, 2.2209, 2.1034, 1.9607, 2.2616, 2.2616, 2.2613, 2.2611, 2.2611, 2.261, 2.2607, 2.2604, 2.2602, 2.2602, 2.2602, 2.2598, 2.2595, 2.2594, 2.2593, 2.2592, 2.2591, 2.2589, 2.2589, 2.2582, 2.2582, 2.2579, 2.2579, 2.2577, 2.2576, 2.2568, 2.2567, 2.2562, 2.2559, 2.2557, 2.2554, 2.2546, 2.2179, 2.2917, 2.2916, 2.2915, 2.2912, 2.2909, 2.2906, 2.2906, 2.2906, 2.2901, 2.2901, 2.2898, 2.2898, 2.2897, 2.2893, 2.2891, 2.2881, 2.2878, 2.2868, 2.2861, 2.286, 2.2853, 2.285, 2.2848, 2.2845, 2.2845, 2.2836, 2.2823, 2.2823, 2.2813, 2.2812, 2.2721, 2.2695, 2.2619, 2.2283, 2.2675, 2.2564, 2.0124, 1.3994, 1.1443, 1.6337, 2.3788, 2.3785, 2.3784, 2.3783, 2.3781, 2.378, 2.378, 2.378, 2.3779, 2.3778, 2.3777, 2.3777, 2.3776, 2.3775, 2.3774, 2.3772, 2.3771, 2.3769, 2.3768, 2.3768, 2.3768, 2.3768, 2.3766, 2.3764, 2.3762, 2.376, 2.376, 2.3759, 2.3756, 2.3754, 2.3537, 2.4405, 2.4404, 2.4404, 2.4403, 2.4402, 2.44, 2.4396, 2.4396, 2.4395, 2.4394, 2.4384, 2.4382, 2.4378, 2.4378, 2.4378, 2.4377, 2.4376, 2.4373, 2.4372, 2.4366, 2.4362, 2.4361, 2.4358, 2.4354, 2.4354, 2.4353, 2.4342, 2.434, 2.4334, 2.433, 2.4211, 2.4292, 2.3648, 2.0244, 0.3779, 2.5002, 2.5001, 2.5001, 2.5001, 2.5, 2.4999, 2.4997, 2.4997, 2.4997, 2.4997, 2.4993, 2.4992, 2.4992, 2.4991, 2.499, 2.4989, 2.4987, 2.4983, 2.4982, 2.4976, 2.4966, 2.4965, 2.4962, 2.4962, 2.4961, 2.4946, 2.4945, 2.4945, 2.4939, 2.4938, 2.4923, 2.4869, 2.3643, 2.5675, 2.5675, 2.5674, 2.5672, 2.5672, 2.5668, 2.5664, 2.5663, 2.5661, 2.5659, 2.5657, 2.5654, 2.5654, 2.5649, 2.5648, 2.5644, 2.5638, 2.5637, 2.5635, 2.5631, 2.5619, 2.5619, 2.5617, 2.5615, 2.5614, 2.5613, 2.5608, 2.5604, 2.5602, 2.5589, 2.5519, 2.5548, 2.1793, 2.3814]}, \"token.table\": {\"Topic\": [2, 2, 10, 1, 10, 3, 2, 1, 6, 3, 4, 10, 6, 6, 1, 2, 4, 4, 3, 7, 10, 1, 2, 7, 6, 4, 1, 8, 8, 3, 2, 7, 2, 9, 4, 2, 4, 6, 2, 7, 2, 8, 9, 8, 7, 2, 1, 3, 6, 7, 8, 3, 6, 1, 8, 9, 10, 4, 9, 2, 2, 3, 8, 9, 9, 6, 4, 5, 3, 10, 7, 10, 10, 8, 1, 1, 8, 9, 6, 4, 4, 4, 6, 3, 9, 1, 8, 1, 8, 4, 1, 5, 9, 10, 1, 5, 1, 3, 4, 1, 4, 5, 9, 2, 3, 7, 3, 10, 2, 3, 5, 7, 8, 8, 8, 2, 1, 8, 3, 6, 8, 7, 8, 3, 4, 9, 8, 7, 6, 9, 2, 4, 1, 2, 4, 6, 2, 5, 6, 8, 4, 8, 1, 3, 4, 5, 6, 1, 10, 1, 2, 8, 4, 10, 6, 6, 1, 3, 4, 9, 10, 5, 8, 4, 5, 8, 9, 10, 4, 9, 1, 7, 9, 7, 4, 6, 7, 10, 4, 4, 8, 7, 10, 9, 7, 2, 6, 5, 1, 1, 5, 4, 7, 7, 4, 1, 8, 1, 2, 5, 7, 8, 3, 6, 5, 9, 10, 3, 9, 10, 3, 1, 4, 2, 3, 2, 7, 9, 8, 4, 5, 7, 8, 2, 3, 8, 3, 5, 2, 9, 10, 5, 9, 3, 4, 5, 6, 8, 9, 9, 6, 7, 10, 4, 8, 10, 5, 4, 4, 8, 1, 4, 3, 6, 7, 10, 10, 3, 1, 9, 6, 4, 5, 3, 6, 7, 6, 6, 4, 2, 2, 7, 8, 1, 5, 8, 1, 5, 3, 2, 5, 3, 5, 10, 8, 3, 4, 10, 8, 7, 3, 1, 6, 9, 5, 7, 5, 9, 9, 5, 2, 10, 4, 6, 6, 8, 8, 3, 1, 5, 9, 1, 10, 6, 9, 2, 6, 8, 3, 4, 6, 5, 2, 10, 9, 5, 4, 5, 3, 5, 3, 4, 5, 9, 10, 6, 8, 9, 1, 3, 9, 3, 4, 3, 6, 4, 2, 5, 9, 6, 7, 2, 4, 6, 7, 2, 1, 4, 6, 10, 3, 10, 10, 7, 6, 6, 8, 4, 9, 9, 10, 7, 7, 5, 1, 6, 10, 2, 3, 7, 10, 3, 5, 7, 10, 3, 1, 2, 6, 8, 1, 2, 3, 5, 9, 1, 3, 6, 1, 2, 4, 8, 9, 1, 5, 5, 1, 10, 7, 1, 2, 5, 4, 1, 6, 7, 8, 7, 10, 4, 3, 5, 4, 9, 7, 7, 7, 10, 8, 6, 8, 8, 9, 9], \"Freq\": [0.9988283979812558, 0.997598961904536, 0.9993269387675991, 0.993949322778607, 0.997001843369319, 0.9961229596861403, 0.997801868324017, 0.9933575818340593, 0.9930959031758467, 0.9985830514959209, 0.0004933710728734787, 0.9958756881836307, 0.9978924522200242, 0.9971414340234662, 0.9955853379777715, 0.9981658205182347, 0.9975518037573944, 0.9987085604128926, 0.9989932709851504, 0.0006613659523238334, 0.9927014024357552, 0.02428172604437167, 0.0005395939120971482, 0.9750461991595469, 0.9941894777450367, 0.9979785962553668, 0.9916259475620548, 0.9943265662870396, 0.9914411427043107, 0.9976170666673404, 0.9974584022468085, 0.9960078359949954, 0.010913527489570411, 0.9865828850571653, 0.9979858054882158, 0.9971373189912283, 0.0012511133237029211, 0.9984118686045197, 0.9968307230783735, 0.9979649652861964, 0.9991091499256068, 0.9939733047361483, 0.9944442806923696, 0.9979704188790106, 0.9991798089447308, 0.9990261489381385, 9.835436046754466e-05, 0.9851172744429273, 0.0004917718023377233, 0.013966319186391341, 0.00019670872093508932, 0.8379164216119203, 0.1603727275785426, 0.16457592191029619, 0.002493574574398427, 0.002493574574398427, 0.8303603332746763, 0.9956693214801078, 0.0029457672233139283, 0.9971829555673207, 0.9979221176080212, 0.9883247497330516, 0.008423222298861235, 0.9992097570267541, 0.9986922993410109, 0.9992651910812073, 0.9970180271049511, 0.9981676611924192, 0.9983015075000033, 0.9978876003264462, 0.9982593537106471, 0.993967483797024, 0.9974348555956137, 0.9962985574759862, 0.9977472395788712, 0.9963869780788525, 0.12689127187316954, 0.8723774941280404, 0.9983923894843997, 0.9986881131035548, 0.9976242511412101, 0.48111411091722966, 0.5182527440406649, 0.9971745545746765, 0.9966083395644354, 0.01811692380451445, 0.9807294752843823, 0.9978136338121277, 0.9927961854461461, 0.9989018807475822, 0.9968889585066609, 0.9934343654139834, 0.9986752334227859, 0.9977818180302401, 0.994795770534534, 0.9987190958896193, 0.9983130197602038, 0.9949573252228984, 0.9991541422001405, 0.9944202562088827, 0.0027248200390289656, 0.9966029292748442, 0.9991886516259324, 0.9962510141759645, 0.9967960498752755, 0.9979108269720562, 0.9961354929377662, 0.9949758233665967, 0.997323253101997, 0.9971070096081327, 0.9982884054308817, 0.9966775033636642, 0.9985696284183728, 0.9996758930907496, 0.997830135244759, 0.9987383564418226, 0.9995320238605037, 0.00022365898945189163, 0.9989625667385125, 0.9898362778443253, 0.9990671396823333, 0.999184965335822, 0.9990460378360098, 0.9935380382354179, 0.003747655168454439, 0.9931286196404264, 0.9972915774755365, 0.9975614072301012, 0.9945472369799291, 0.9989533503287207, 0.9968990980510946, 0.9972467863785389, 0.5742440979245831, 0.01064400552223509, 0.004789802485005791, 0.409794212606051, 0.9991344567046703, 0.9962069121314598, 0.999043640992995, 0.9910044886714854, 0.0066989620596628625, 0.9880969038002723, 0.6957704819676134, 0.3019663091292831, 0.000639985112955033, 0.0003199925564775165, 0.001279970225910066, 0.9975318189597602, 0.0010511399567542257, 0.25154750797909997, 0.08589427101725365, 0.6595452953110548, 0.9988004572673442, 0.9901629060991257, 0.9941149308746953, 0.9915042667776546, 0.9978392377242781, 0.9893182795666363, 0.0022690786228592576, 0.006807235868577773, 0.9997046375222237, 0.9991985229755416, 0.9967117210228008, 0.0025193472960162206, 0.0025193472960162206, 0.0025193472960162206, 0.005038694592032441, 0.9875841400383584, 0.005954493434705545, 0.9914231568784733, 0.9974764789711865, 0.9994647164203465, 0.9973209418030693, 0.9979174750337814, 0.019839195744146318, 0.9754271240871939, 0.9995301622885427, 0.9976336852632631, 0.9969244901159967, 0.9977409746459349, 0.9942642067399562, 0.9952461901489383, 0.9947984876273298, 0.9950836767251112, 0.9989280591960027, 0.9970202427615725, 0.9996545584470182, 0.9974575084987295, 0.9994698536504245, 0.9973852726622018, 0.9988060237203497, 0.9982243321470287, 0.0014836865816691865, 0.9957628552746778, 0.9983923031306492, 0.9993790112977529, 0.9961112775016217, 0.999168989452947, 0.9967732739805287, 0.0007551312681670673, 0.0007551312681670673, 0.001132696902250601, 0.018752869217612947, 0.9806187861710103, 0.998952640426634, 0.9976210902596501, 0.9973761661347161, 0.995429845897391, 0.9957030531414887, 0.9992147765409004, 0.999089634040194, 0.995920242619736, 0.996784764454144, 0.9973245983032551, 0.9954055449606345, 0.9993935045895258, 0.9989435024251473, 0.993376173520988, 0.9935593349661375, 0.9996624483055297, 0.9993086433296235, 0.9980791438987916, 0.9940246650225879, 0.002628062664851561, 0.9828954366544839, 0.010512250659406244, 0.9966761124789392, 0.9972046034526669, 0.9993944757482726, 0.00039678192585539357, 9.919548146384839e-05, 0.9962034680966141, 0.9956262874456296, 0.0019014781567089824, 0.7681971753104289, 0.2262759006483689, 0.0019014781567089824, 0.0019014781567089824, 0.9956859355692113, 0.9973236833943107, 0.9987302687203162, 0.9967767478931652, 0.9895766187454788, 0.9973814040115193, 0.9992646723323612, 0.9939696589711223, 0.9974995158235936, 0.9980927337620262, 0.9988330113485446, 0.9933387907879393, 0.9982987273514032, 0.9982198850234035, 0.9981050410451497, 0.9995786600517117, 0.9979441057282651, 0.9983233574321196, 0.9986565228011299, 0.9984383847804561, 0.9967933264909213, 0.9982080717051846, 0.991449208358799, 0.0038109247619252783, 0.992745900481535, 0.9973107327360962, 0.9915041431995685, 0.9981270188133151, 0.9910640523631464, 0.9937157465351032, 0.9980781632170106, 0.9979224785554777, 0.8637062039195471, 0.13117431499369847, 0.0034071250647713888, 0.9975231285038523, 0.9996191523136433, 0.9961720919875244, 0.9982475871605431, 0.996852838177323, 0.9931993233730496, 0.9977205935721645, 0.0013153864120925044, 0.9940030684167871, 0.9933409833292532, 0.996798440706869, 0.999294623548673, 0.09986230160091146, 0.8855481637348518, 0.01444162515459335, 0.9992016517948397, 0.9984695703684093, 0.9962958962814518, 0.995395309371188, 0.9963538652509266, 0.9978567911492846, 0.9979270354957728, 0.9991072689734678, 0.9970683319253264, 0.9926895860537999, 0.9962735759152467, 0.9943240551548113, 0.9967803080107965, 0.9917557623838781, 0.019972658559357055, 0.9768445731758268, 0.9995128432140958, 0.9996894165107549, 0.9968061465645347, 0.9987150095701949, 0.04206904887680654, 0.9572553753196156, 0.0007380534890667814, 0.9933327655323799, 0.9919687466867031, 0.9702176300795253, 0.028617265968092564, 0.9990838139828704, 0.990938686370065, 0.9952962223639806, 0.9928241132698579, 0.9977663021058008, 0.9952991486774516, 0.9987895038108999, 0.989641126936112, 0.00844043605062782, 0.9994840095225406, 0.9929407341783449, 0.9973475144365821, 0.9981033642572846, 0.9973485052034387, 0.9948146373917356, 0.9341434644230052, 0.011618699806256284, 0.05344601910877891, 0.013054472850487463, 0.98468023786534, 0.9986639217882041, 0.9910143243598696, 0.9993449260299033, 0.9915748561303126, 0.004933208239454292, 0.002466604119727146, 0.9960057123612917, 0.99812325797637, 0.9952263812412704, 0.9926315860967436, 0.998798889503113, 0.9990536941666813, 0.99970618442824, 0.9986880050313364, 0.9961065464263335, 0.0020349469794204975, 0.9987331321469075, 0.996832226712417, 0.998819117923358, 0.9986670645760463, 0.9988325232677928, 0.003795096733696346, 0.0007590193467392691, 0.31727008693701453, 0.6778042766381673, 0.9990704402315856, 0.9965974087560753, 0.9953120133405667, 0.9967400184300752, 0.997210379526568, 0.9982515397021756, 0.9993814021130202, 0.0005915732002615773, 0.999167135241804, 0.9986963696673642, 0.999506087059157, 0.9968407503903748, 0.9977535446423481, 0.9968630942561568, 0.999019400649436, 0.9933639854995628, 0.9985566685863414, 0.9967378691042926, 0.000271857333812218, 0.000271857333812218, 0.9990757017599012, 0.9981789398957434, 0.9977391302377706, 0.0011863723308415822, 0.9992429047758324, 0.9976127628404121, 0.9954097969648309, 0.9992718126254049, 0.9642455954417396, 0.03099360842491306, 0.969054454649418, 0.012289681427016363, 0.009936338175034507, 0.008367442673713268, 0.9937484635143305, 0.014460630416138305, 0.04704525095383662, 0.9382057013990532, 0.99373917853363, 0.00021188468625450534, 0.005509001842617139, 0.00021188468625450534, 0.997837120922381, 0.9951787716875231, 0.9965606285152105, 0.9977833240455507, 0.99562756829919, 0.9964278368702273, 0.9988965264610592, 0.941874279991247, 0.056099095046500604, 0.999332416429639, 0.9973958931658021, 0.03891166790442302, 0.7554230700065573, 0.06440551929007948, 0.13954529179517222, 0.9979667723783056, 0.0012155502708627352, 0.9971316720832641, 0.0023970233967708547, 0.9971617330566755, 0.9986246879929483, 0.9988820347757587, 0.9997243435083811, 0.999459571561018, 0.99634175502975, 0.9924885648130952, 0.9966087187953151, 0.07032012752985836, 0.9282256833941304, 0.999317012849382, 0.999079595010032, 0.9986477775344678], \"Term\": [\"aa\", \"acats\", \"account\", \"active\", \"actively\", \"actually\", \"advisor\", \"age\", \"allan\", \"allocation\", \"allocation\", \"ally\", \"alternative\", \"annuity\", \"another\", \"anyone\", \"apply\", \"article\", \"asset\", \"asset\", \"auction\", \"avantis\", \"avantis\", \"avantis\", \"avoid\", \"b\", \"back\", \"backdoor\", \"balanced\", \"bank\", \"bear\", \"beat\", \"believe\", \"believe\", \"ben\", \"bernstein\", \"bernstein\", \"best\", \"better\", \"big\", \"bill\", \"bnd\", \"bogle\", \"boglehead\", \"bogleheads\", \"bogleheads\\u00ae\", \"bond\", \"bond\", \"bond\", \"bond\", \"bond\", \"bondsfixed\", \"bondsfixed\", \"brokerage\", \"brokerage\", \"brokerage\", \"brokerage\", \"bubble\", \"bubble\", \"bull\", \"buy\", \"buyback\", \"buyback\", \"buying\", \"call\", \"cap\", \"capital\", \"case\", \"cash\", \"cd\", \"change\", \"chart\", \"check\", \"coming\", \"company\", \"comparing\", \"contest\", \"contest\", \"conversion\", \"corporate\", \"cost\", \"course\", \"course\", \"current\", \"curve\", \"customer\", \"customer\", \"cut\", \"data\", \"date\", \"day\", \"debt\", \"decade\", \"deferred\", \"difference\", \"different\", \"direct\", \"discussion\", \"distribution\", \"diversification\", \"dividend\", \"dividend\", \"doe\", \"dollar\", \"dont\", \"downturn\", \"drop\", \"dropping\", \"duration\", \"early\", \"emerging\", \"enough\", \"environment\", \"equity\", \"esg\", \"estate\", \"etf\", \"etf\", \"ever\", \"example\", \"expected\", \"expense\", \"factor\", \"fair\", \"fall\", \"fall\", \"fama\", \"far\", \"favorite\", \"fed\", \"fee\", \"felix\", \"fidelity\", \"fidelity\", \"fidelity\", \"fidelity\", \"financial\", \"find\", \"fixed\", \"foreign\", \"french\", \"french\", \"fund\", \"fund\", \"fund\", \"fund\", \"fund\", \"future\", \"future\", \"fzdxx\", \"fzdxx\", \"fzdxx\", \"gain\", \"gap\", \"general\", \"glide\", \"global\", \"go\", \"go\", \"go\", \"going\", \"gold\", \"good\", \"grantham\", \"grantham\", \"grantham\", \"grantham\", \"grantham\", \"great\", \"great\", \"growth\", \"ha\", \"handle\", \"hard\", \"harvesting\", \"harvesting\", \"hedge\", \"help\", \"hidden\", \"high\", \"higher\", \"hit\", \"hold\", \"holding\", \"ibonds\", \"idea\", \"income\", \"increase\", \"index\", \"indexing\", \"individual\", \"inflation\", \"inflation\", \"instead\", \"interest\", \"international\", \"interview\", \"invest\", \"investing\", \"investing\", \"investing\", \"investing\", \"investment\", \"investment\", \"investor\", \"ira\", \"ishares\", \"issue\", \"jack\", \"jeremy\", \"know\", \"large\", \"larry\", \"life\", \"like\", \"live\", \"long\", \"longer\", \"looking\", \"loss\", \"lot\", \"lower\", \"made\", \"make\", \"make\", \"make\", \"management\", \"many\", \"market\", \"market\", \"market\", \"matching\", \"matter\", \"maybe\", \"maybe\", \"maybe\", \"maybe\", \"maybe\", \"mean\", \"measure\", \"mid\", \"mistake\", \"mo\", \"model\", \"money\", \"month\", \"morningstar\", \"mortgage\", \"much\", \"muni\", \"mutual\", \"need\", \"negative\", \"new\", \"next\", \"nominal\", \"number\", \"often\", \"old\", \"one\", \"path\", \"pay\", \"pay\", \"pe\", \"pension\", \"people\", \"percentage\", \"place\", \"plan\", \"planning\", \"podcast\", \"podcast\", \"podcast\", \"point\", \"portfolio\", \"positive\", \"possible\", \"premium\", \"present\", \"price\", \"price\", \"priced\", \"protect\", \"purchase\", \"question\", \"rate\", \"rate\", \"rate\", \"ratio\", \"real\", \"really\", \"reason\", \"rebalancing\", \"recession\", \"recommendation\", \"recover\", \"recovery\", \"reducing\", \"registration\", \"reit\", \"report\", \"result\", \"retiree\", \"retiree\", \"retirement\", \"return\", \"rick\", \"right\", \"risk\", \"risk\", \"risk\", \"rmd\", \"rolling\", \"roth\", \"roth\", \"rule\", \"russia\", \"safe\", \"safer\", \"sale\", \"saving\", \"say\", \"schwab\", \"schwab\", \"security\", \"see\", \"sell\", \"service\", \"share\", \"show\", \"side\", \"side\", \"side\", \"since\", \"since\", \"small\", \"smart\", \"social\", \"sp\", \"sp\", \"sp\", \"spending\", \"spread\", \"stable\", \"statement\", \"stay\", \"still\", \"stock\", \"story\", \"strategy\", \"strategy\", \"submit\", \"swedroe\", \"swr\", \"take\", \"target\", \"tax\", \"tax\", \"tax\", \"tax\", \"taxable\", \"tbill\", \"tbills\", \"term\", \"think\", \"thought\", \"tilt\", \"time\", \"time\", \"timing\", \"tip\", \"tlh\", \"today\", \"tolerance\", \"total\", \"trade\", \"trading\", \"transfer\", \"treasury\", \"treasury\", \"treasury\", \"type\", \"u\", \"u\", \"understand\", \"understanding\", \"update\", \"use\", \"using\", \"using\", \"v\", \"v\", \"v\", \"v\", \"valuation\", \"value\", \"value\", \"value\", \"vanguard\", \"vanguard\", \"vanguard\", \"vanguard\", \"versus\", \"volatility\", \"vt\", \"vti\", \"vxus\", \"w\", \"way\", \"weight\", \"weight\", \"whats\", \"withdrawal\", \"worldwide\", \"worldwide\", \"worldwide\", \"worldwide\", \"worst\", \"worst\", \"would\", \"wrong\", \"wrong\", \"wsj\", \"x\", \"year\", \"yield\", \"yielding\", \"ytm\", \"\\u2014\", \"\\u2018\", \"\\u2018\", \"\\u2019\", \"\\u201c\", \"\\u201d\"]}, \"R\": 30, \"lambda.step\": 0.01, \"plot.opts\": {\"xlab\": \"PC1\", \"ylab\": \"PC2\"}, \"topic.order\": [2, 7, 9, 3, 6, 8, 4, 1, 10, 5]};\n",
       "\n",
       "function LDAvis_load_lib(url, callback){\n",
       "  var s = document.createElement('script');\n",
       "  s.src = url;\n",
       "  s.async = true;\n",
       "  s.onreadystatechange = s.onload = callback;\n",
       "  s.onerror = function(){console.warn(\"failed to load library \" + url);};\n",
       "  document.getElementsByTagName(\"head\")[0].appendChild(s);\n",
       "}\n",
       "\n",
       "if(typeof(LDAvis) !== \"undefined\"){\n",
       "   // already loaded: just create the visualization\n",
       "   !function(LDAvis){\n",
       "       new LDAvis(\"#\" + \"ldavis_el38107147024709765640070136\", ldavis_el38107147024709765640070136_data);\n",
       "   }(LDAvis);\n",
       "}else if(typeof define === \"function\" && define.amd){\n",
       "   // require.js is available: use it to load d3/LDAvis\n",
       "   require.config({paths: {d3: \"https://d3js.org/d3.v5\"}});\n",
       "   require([\"d3\"], function(d3){\n",
       "      window.d3 = d3;\n",
       "      LDAvis_load_lib(\"https://cdn.jsdelivr.net/gh/bmabey/pyLDAvis@3.3.1/pyLDAvis/js/ldavis.v3.0.0.js\", function(){\n",
       "        new LDAvis(\"#\" + \"ldavis_el38107147024709765640070136\", ldavis_el38107147024709765640070136_data);\n",
       "      });\n",
       "    });\n",
       "}else{\n",
       "    // require.js not available: dynamically load d3 & LDAvis\n",
       "    LDAvis_load_lib(\"https://d3js.org/d3.v5.js\", function(){\n",
       "         LDAvis_load_lib(\"https://cdn.jsdelivr.net/gh/bmabey/pyLDAvis@3.3.1/pyLDAvis/js/ldavis.v3.0.0.js\", function(){\n",
       "                 new LDAvis(\"#\" + \"ldavis_el38107147024709765640070136\", ldavis_el38107147024709765640070136_data);\n",
       "            })\n",
       "         });\n",
       "}\n",
       "</script>"
      ],
      "text/plain": [
       "<IPython.core.display.HTML object>"
      ]
     },
     "execution_count": 108,
     "metadata": {},
     "output_type": "execute_result"
    }
   ],
   "source": [
    "import warnings\n",
    "warnings.simplefilter('ignore', DeprecationWarning)\n",
    "\n",
    "import pyLDAvis\n",
    "import pyLDAvis.gensim_models\n",
    "\n",
    "# Visualize the topics\n",
    "vis = pyLDAvis.gensim_models.prepare(lda, bow_corpus, dictionary)\n",
    "pyLDAvis.display(vis)"
   ]
  },
  {
   "cell_type": "markdown",
   "metadata": {},
   "source": [
    "### How many questions in the dataset?"
   ]
  },
  {
   "cell_type": "code",
   "execution_count": 85,
   "metadata": {},
   "outputs": [
    {
     "data": {
      "text/plain": [
       "3648"
      ]
     },
     "execution_count": 85,
     "metadata": {},
     "output_type": "execute_result"
    }
   ],
   "source": [
    "unique_questions = df[\"post_title\"].unique()\n",
    "len(unique_questions)"
   ]
  },
  {
   "cell_type": "markdown",
   "metadata": {},
   "source": [
    "### How many answers in the dataset?"
   ]
  },
  {
   "cell_type": "code",
   "execution_count": 86,
   "metadata": {},
   "outputs": [
    {
     "data": {
      "text/plain": [
       "3654"
      ]
     },
     "execution_count": 86,
     "metadata": {},
     "output_type": "execute_result"
    }
   ],
   "source": [
    "unique_answers = df[\"reply_text\"].unique()\n",
    "len(unique_answers)"
   ]
  },
  {
   "cell_type": "markdown",
   "metadata": {},
   "source": [
    "### What is the ratio of questions to answers in the dataset?"
   ]
  },
  {
   "cell_type": "code",
   "execution_count": 87,
   "metadata": {},
   "outputs": [
    {
     "data": {
      "text/plain": [
       "0.9983579638752053"
      ]
     },
     "execution_count": 87,
     "metadata": {},
     "output_type": "execute_result"
    }
   ],
   "source": [
    "ratio = len(unique_questions) / len(unique_answers)\n",
    "ratio"
   ]
  },
  {
   "cell_type": "markdown",
   "metadata": {},
   "source": [
    "### Are the questions and answers balanced in the dataset ?"
   ]
  },
  {
   "cell_type": "code",
   "execution_count": 88,
   "metadata": {},
   "outputs": [
    {
     "name": "stdout",
     "output_type": "stream",
     "text": [
      "The questions and answers are balanced.\n"
     ]
    }
   ],
   "source": [
    "if ratio > 0.9 and ratio < 1.1:\n",
    "    print(\"The questions and answers are balanced.\")\n",
    "else:\n",
    "    print(\"The questions and answers are imbalanced.\")"
   ]
  },
  {
   "cell_type": "markdown",
   "metadata": {},
   "source": [
    "### Are the questions and answers diverse in the dataset?"
   ]
  },
  {
   "cell_type": "code",
   "execution_count": 89,
   "metadata": {},
   "outputs": [
    {
     "name": "stdout",
     "output_type": "stream",
     "text": [
      "The ratio of unique questions to total questions is: 0.05\n",
      "The ratio of unique answers to total answers is: 0.05\n"
     ]
    }
   ],
   "source": [
    "num_unique_questions = df['post_title'].nunique()\n",
    "num_total_questions = df['post_title'].count()\n",
    "ratio_questions = num_unique_questions / num_total_questions\n",
    "\n",
    "num_unique_answers = df['reply_text'].nunique()\n",
    "num_total_answers = df['reply_text'].count()\n",
    "ratio_answers = num_unique_answers / num_total_answers\n",
    "\n",
    "print(f\"The ratio of unique questions to total questions is: {ratio_questions:.2f}\")\n",
    "print(f\"The ratio of unique answers to total answers is: {ratio_answers:.2f}\")\n"
   ]
  },
  {
   "cell_type": "markdown",
   "metadata": {},
   "source": [
    "### Are the questions and answers relevant to the topic of inflation and recession?"
   ]
  },
  {
   "cell_type": "code",
   "execution_count": 90,
   "metadata": {},
   "outputs": [
    {
     "data": {
      "image/png": "[encoded data removed]",
      "text/plain": [
       "<Figure size 640x480 with 1 Axes>"
      ]
     },
     "metadata": {},
     "output_type": "display_data"
    }
   ],
   "source": [
    "import warnings\n",
    "warnings.filterwarnings('ignore')\n",
    "\n",
    "from wordcloud import WordCloud\n",
    "import matplotlib.pyplot as plt\n",
    "\n",
    "# Concatenate the \"questions\" and \"answers\" columns into a single text\n",
    "text = df['post_title'].str.cat(df['post_text'], sep=' ').str.cat(df['reply_text'], sep=' ')\n",
    "\n",
    "# Create the word cloud\n",
    "wordcloud = WordCloud().generate(' '.join(text.to_list()))\n",
    "\n",
    "# Display the word cloud\n",
    "plt.imshow(wordcloud, interpolation='bilinear')\n",
    "plt.axis(\"off\")\n",
    "plt.show()"
   ]
  },
  {
   "cell_type": "markdown",
   "metadata": {},
   "source": [
    "### Are the questions and answers written in clear and concise language?"
   ]
  },
  {
   "cell_type": "code",
   "execution_count": 91,
   "metadata": {},
   "outputs": [
    {
     "name": "stdout",
     "output_type": "stream",
     "text": [
      "The mean Flesch Reading Ease score for the questions is: 63.15\n",
      "The mean Flesch Reading Ease score for the answers is: -79.58\n"
     ]
    }
   ],
   "source": [
    "from textstat.textstat import textstat\n",
    "\n",
    "# Calculate the Flesch Reading Ease scores for the questions and answers\n",
    "questions_scores = df['post_title'].apply(textstat.flesch_reading_ease)\n",
    "answers_scores = df['reply_text'].apply(textstat.flesch_reading_ease)\n",
    "\n",
    "# Print the mean scores\n",
    "print(f\"The mean Flesch Reading Ease score for the questions is: {questions_scores.mean():.2f}\")\n",
    "print(f\"The mean Flesch Reading Ease score for the answers is: {answers_scores.mean():.2f}\")\n"
   ]
  },
  {
   "cell_type": "markdown",
   "metadata": {},
   "source": [
    "### Are the questions and answers written in a consistent style and tone? "
   ]
  },
  {
   "cell_type": "code",
   "execution_count": 92,
   "metadata": {},
   "outputs": [
    {
     "name": "stdout",
     "output_type": "stream",
     "text": [
      "The mean sentiment of the questions is: 0.04\n",
      "The mean sentiment of the answers is: 0.10\n"
     ]
    }
   ],
   "source": [
    "from textblob import TextBlob\n",
    "\n",
    "# Calculate the sentiment of the questions and answers\n",
    "questions_sentiment = df['post_title'].apply(lambda x: TextBlob(x).sentiment.polarity)\n",
    "answers_sentiment = df['reply_text'].apply(lambda x: TextBlob(x).sentiment.polarity)\n",
    "\n",
    "# Print the mean sentiments\n",
    "print(f\"The mean sentiment of the questions is: {questions_sentiment.mean():.2f}\")\n",
    "print(f\"The mean sentiment of the answers is: {answers_sentiment.mean():.2f}\")\n"
   ]
  },
  {
   "cell_type": "markdown",
   "metadata": {},
   "source": [
    "### Are the answers provided for all the questions in the dataset?"
   ]
  },
  {
   "cell_type": "code",
   "execution_count": 93,
   "metadata": {},
   "outputs": [],
   "source": [
    "df['has_answer'] = df['reply_text'].apply(lambda x: 1 if x else 0)"
   ]
  },
  {
   "cell_type": "code",
   "execution_count": 94,
   "metadata": {},
   "outputs": [],
   "source": [
    "counts = df.groupby('post_title')['has_answer'].sum()"
   ]
  },
  {
   "cell_type": "code",
   "execution_count": 95,
   "metadata": {},
   "outputs": [],
   "source": [
    "# Count the number of questions that have answers\n",
    "num_questions_with_answers = counts[counts > 0].count()"
   ]
  },
  {
   "cell_type": "code",
   "execution_count": 96,
   "metadata": {},
   "outputs": [],
   "source": [
    "percentage = num_questions_with_answers / df['post_title'].count() * 100"
   ]
  },
  {
   "cell_type": "code",
   "execution_count": 97,
   "metadata": {},
   "outputs": [
    {
     "data": {
      "text/plain": [
       "5.117336626993038"
      ]
     },
     "execution_count": 97,
     "metadata": {},
     "output_type": "execute_result"
    }
   ],
   "source": [
    "percentage"
   ]
  },
  {
   "cell_type": "markdown",
   "metadata": {},
   "source": [
    "### Are the answers provided for none of the questions in the dataset?"
   ]
  },
  {
   "cell_type": "code",
   "execution_count": 98,
   "metadata": {},
   "outputs": [],
   "source": [
    "df['has_answer'] = df['reply_text'].apply(lambda x: 1 if x else 0)"
   ]
  },
  {
   "cell_type": "code",
   "execution_count": 99,
   "metadata": {},
   "outputs": [],
   "source": [
    "counts = df.groupby('post_title')['has_answer'].sum()"
   ]
  },
  {
   "cell_type": "code",
   "execution_count": 100,
   "metadata": {},
   "outputs": [],
   "source": [
    "num_questions_with_answers = counts[counts > 0].count()"
   ]
  },
  {
   "cell_type": "code",
   "execution_count": 101,
   "metadata": {},
   "outputs": [
    {
     "name": "stdout",
     "output_type": "stream",
     "text": [
      "Some of the questions have corresponding answers.\n"
     ]
    }
   ],
   "source": [
    "if num_questions_with_answers == 0:\n",
    "    print(\"None of the questions have corresponding answers.\")\n",
    "else:\n",
    "    print(\"Some of the questions have corresponding answers.\")"
   ]
  },
  {
   "cell_type": "code",
   "execution_count": null,
   "metadata": {},
   "outputs": [],
   "source": []
  }
 ],
 "metadata": {
  "kernelspec": {
   "display_name": "Python 3 (ipykernel)",
   "language": "python",
   "name": "python3"
  },
  "language_info": {
   "codemirror_mode": {
    "name": "ipython",
    "version": 3
   },
   "file_extension": ".py",
   "mimetype": "text/x-python",
   "name": "python",
   "nbconvert_exporter": "python",
   "pygments_lexer": "ipython3",
   "version": "3.9.6"
  },
  "vscode": {
   "interpreter": {
    "hash": "8df71d7f3ee6b5c4895fa0a092f36c0c32600308d0bab5cd17897624831d76d3"
   }
  }
 },
 "nbformat": 4,
 "nbformat_minor": 4
}
